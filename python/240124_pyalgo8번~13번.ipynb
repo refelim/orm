{
  "nbformat": 4,
  "nbformat_minor": 0,
  "metadata": {
    "colab": {
      "provenance": [],
      "collapsed_sections": [
        "CEcTGuPnjgBG",
        "DKXI_cWGukLa",
        "fAJSmhZr6-Zl",
        "FJ28RPMvNZ5x",
        "dzr9BqrHNzky",
        "ZgM3UTj42mJ7"
      ]
    },
    "kernelspec": {
      "name": "python3",
      "display_name": "Python 3"
    },
    "language_info": {
      "name": "python"
    }
  },
  "cells": [
    {
      "cell_type": "markdown",
      "source": [
        "## 문제 8번\n",
        "\n",
        "1. float('inf')\n",
        "양의 무한대를 뜻함, 음의 무한대는 float('-inf')\n",
        "최소값을 구하는 문제가 나올 때 유용하게 쓰임,\n",
        "데이터의 범위를 사전에 알 수 없는 상황에서 유용\n",
        "\n",
        "\n",
        "\n",
        "data[1] - data[0]\n",
        "\n",
        "data[2] - data[1]\n",
        "\n",
        "data[3] - data[2]\n",
        "\n",
        "이런식으로 최솟값을 찾아야 가는 과정이기에, 이에 따른 for문 코딩해야함 (len(data) -1)\n",
        "\n",
        "\n"
      ],
      "metadata": {
        "id": "CEcTGuPnjgBG"
      }
    },
    {
      "cell_type": "code",
      "execution_count": null,
      "metadata": {
        "id": "qPcL0SltQPv0"
      },
      "outputs": [],
      "source": [
        "# 8번 해답\n",
        "\n",
        "def solution(data):\n",
        "    data.sort()  # 점들을 오름차순으로 정렬\n",
        "    min_distance = float('inf')  # 가장 작은 거리를 무한대로 초기화\n",
        "    result_pair = None  # 가장 가까운 쌍을 None으로 초기화\n",
        "\n",
        "    for i in range(len(data) - 1):  # 각 점을 순회\n",
        "        distance = data[i+1] - data[i]  # 인접한 점들 사이의 거리를 계산\n",
        "        if distance < min_distance:  # 만약 이 거리가 현재 가장 작은 거리보다 작다면\n",
        "            min_distance = distance  # 이 거리를 가장 작은 거리로 갱신\n",
        "            result_pair = [data[i], data[i+1]]  # 이 쌍을 가장 가까운 쌍으로 갱신\n",
        "\n",
        "    return result_pair  # 가장 가까운 쌍을 반환\n",
        "\n",
        "\n",
        "# 나의 답\n",
        "\n",
        "def solution(data):\n",
        "    data.sort() # 정렬\n",
        "    return_pair = 0 # 결과값\n",
        "    min_distance = float('inf') # 비교 최소 거리\n",
        "\n",
        "    for i in data :\n",
        "        distance = data[i+1] - data[i]\n",
        "        if distance < min_distance :\n",
        "            min_distace = distance\n",
        "            return_pair = [data[i], data[i+1]]\n",
        "    return return_pair\n",
        "\n",
        "solution([1, 3, 4, 6])"
      ]
    },
    {
      "cell_type": "markdown",
      "source": [
        "## 문제 9번\n",
        "\n",
        "dict['수'] 해서 값 비교 sorted를 사용하지 않고 if절을 이용해 값을 비교\n",
        "\n",
        "이에 대한 1등에 대한 로그가 필요함\n",
        "\n",
        "궁금증 : 2개 None값으로 하면 어떨까?\n",
        "\n",
        "값 비교 에서 None은 값 비교가 안되기에 에러\n",
        "\n",
        "감상 : for과 if문의 조합은 대단하다\n",
        "\n",
        "\n"
      ],
      "metadata": {
        "id": "DKXI_cWGukLa"
      }
    },
    {
      "cell_type": "code",
      "source": [
        "def solution(data):\n",
        "    first_student = ''\n",
        "    first_score = 0\n",
        "\n",
        "    for i in data :\n",
        "        if i['수']> first_score :\n",
        "            first_score = i['수']\n",
        "            first_student = i['이름']\n",
        "\n",
        "    return first_student\n",
        "# solution([{'이름': 'A', '국': 30, '영': 20, '수': 85}, {'이름': 'B', '국': 95, '영': 98, '수': 10}])\n",
        "\n",
        "# 궁금증\n",
        "def solution(data) :\n",
        "    최고수학자 = None\n",
        "    최고수학자의점수 = None\n",
        "\n",
        "    for i in data :\n",
        "        if i['수'] > 최고수학자의점수 :\n",
        "            최고수학자의점수 = i['수']\n",
        "            최고수학자 = i['이름']\n",
        "\n",
        "    return 최고수학자\n",
        "\n",
        "solution([{'이름': 'A', '국': 30, '영': 20, '수': 85}, {'이름': 'B', '국': 95, '영': 98, '수': 10}])\n"
      ],
      "metadata": {
        "colab": {
          "base_uri": "https://localhost:8080/",
          "height": 35
        },
        "id": "SWjRS0S7f3wN",
        "outputId": "19de09d9-dc48-44cd-f9ad-47bb0dedbce7"
      },
      "execution_count": 21,
      "outputs": [
        {
          "output_type": "execute_result",
          "data": {
            "text/plain": [
              "'A'"
            ],
            "application/vnd.google.colaboratory.intrinsic+json": {
              "type": "string"
            }
          },
          "metadata": {},
          "execution_count": 21
        }
      ]
    },
    {
      "cell_type": "code",
      "source": [
        "data = [['Gray', 98, 92, 85, 97], ['Gom', 98, 30, 21, 60], ['Allosa', 98, 90, 99, 98]]\n",
        "high_value_student = []\n",
        "\n",
        "for i in data :\n",
        "    scores = sum(i[1:5])\n",
        "    #print(scores)\n",
        "    if scores >= 350 :\n",
        "        high_value_student.append(i[0])\n",
        "\n",
        "print(sorted(high_value_student))"
      ],
      "metadata": {
        "colab": {
          "base_uri": "https://localhost:8080/"
        },
        "id": "xvmmuhCSuNdJ",
        "outputId": "77268d6f-36e7-40ed-f0dc-5f7d56dfdf63"
      },
      "execution_count": 43,
      "outputs": [
        {
          "output_type": "stream",
          "name": "stdout",
          "text": [
            "['Allosa', 'Gray']\n"
          ]
        }
      ]
    },
    {
      "cell_type": "markdown",
      "source": [
        "## 문제 10번\n",
        "\n",
        "과제에서 2번정도 푼 문제인데, 도움없이 풀다가 sort에서 막힘"
      ],
      "metadata": {
        "id": "fAJSmhZr6-Zl"
      }
    },
    {
      "cell_type": "code",
      "source": [
        "# 답은 이건데\n",
        "\n",
        "def solution(data) :\n",
        "    high_value_student = []\n",
        "\n",
        "    for i in data :\n",
        "        scores = sum(i[1:5])\n",
        "        if scores >= 350 :\n",
        "            high_value_student.append(i[0])\n",
        "\n",
        "    high_value_student.sort()\n",
        "    return high_value_student\n",
        "\n",
        "solution([['Gray', 98, 92, 85, 97], ['Gom', 98, 30, 21, 60], ['Allosa', 98, 90, 99, 98]])"
      ],
      "metadata": {
        "colab": {
          "base_uri": "https://localhost:8080/"
        },
        "id": "6i3C9mMt3mFW",
        "outputId": "96124c0d-8b5c-4842-a155-32f26b117b0f"
      },
      "execution_count": 4,
      "outputs": [
        {
          "output_type": "execute_result",
          "data": {
            "text/plain": [
              "['Allosa', 'Gray']"
            ]
          },
          "metadata": {},
          "execution_count": 4
        }
      ]
    },
    {
      "cell_type": "code",
      "source": [
        "# 처음에 생각한 답\n",
        "\n",
        "def solution(data) :\n",
        "    high_value_student = []\n",
        "    for i in data :\n",
        "        scores = sum(i[1:5])\n",
        "        if scores >= 350 :\n",
        "            high_value_student.append(i[0])\n",
        "\n",
        "    return high_value_student.sort()\n",
        "\n",
        "solution([['Gray', 98, 92, 85, 97], ['Gom', 98, 30, 21, 60], ['Allosa', 98, 90, 99, 98]])\n"
      ],
      "metadata": {
        "id": "doOGdrFW9vKW"
      },
      "execution_count": 9,
      "outputs": []
    },
    {
      "cell_type": "code",
      "source": [
        "# 이건 왜 되는 걸까\n",
        "\n",
        "def solution(data) :\n",
        "    high_value_student = []\n",
        "    for i in data :\n",
        "        scores = sum(i[1:5])\n",
        "        if scores >= 350 :\n",
        "            high_value_student.append(i[0])\n",
        "\n",
        "    return sorted(high_value_student)\n",
        "\n",
        "solution([['Gray', 98, 92, 85, 97], ['Gom', 98, 30, 21, 60], ['Allosa', 98, 90, 99, 98]])\n"
      ],
      "metadata": {
        "colab": {
          "base_uri": "https://localhost:8080/"
        },
        "id": "_hbYakz--07N",
        "outputId": "ab84ecdd-3c7c-4dba-aca6-73f63b05c04b"
      },
      "execution_count": 11,
      "outputs": [
        {
          "output_type": "execute_result",
          "data": {
            "text/plain": [
              "['Allosa', 'Gray']"
            ]
          },
          "metadata": {},
          "execution_count": 11
        }
      ]
    },
    {
      "cell_type": "markdown",
      "source": [
        "## 문제 11번\n",
        "\n",
        "넘파이 사용해서 풀었는데 이렇게 하면 안되나??\n",
        "No module named 'numpy'\n",
        "\n"
      ],
      "metadata": {
        "id": "FJ28RPMvNZ5x"
      }
    },
    {
      "cell_type": "code",
      "source": [
        "import numpy as np\n",
        "\n",
        "def solution(data) :\n",
        "\n",
        "    count = 0\n",
        "\n",
        "    for i in data :\n",
        "        if np.mean(i)>= 80 :\n",
        "            count += 1\n",
        "\n",
        "    return count\n",
        "\n",
        "solution([[92, 85, 97], [30, 21, 60], [90, 99, 98], [0, 0, 0], [81, 80, 88, 83]])"
      ],
      "metadata": {
        "id": "cIyK_E1TMwrD"
      },
      "execution_count": null,
      "outputs": []
    },
    {
      "cell_type": "code",
      "source": [
        "# 이래도 되는구나\n",
        "\n",
        "import numpy as np\n",
        "\n",
        "def solution(data) :\n",
        "\n",
        "    count = 0\n",
        "\n",
        "    for i in data :\n",
        "        mean_score = sum(i)/len(i)\n",
        "        if mean_score >= 80 :\n",
        "            count += 1\n",
        "\n",
        "    return count\n",
        "\n",
        "solution([[92, 85, 97], [30, 21, 60], [90, 99, 98], [0, 0, 0], [81, 80, 88, 83]])"
      ],
      "metadata": {
        "id": "xYZJ3U6yNRW5"
      },
      "execution_count": null,
      "outputs": []
    },
    {
      "cell_type": "markdown",
      "source": [
        "## 문제 12번\n"
      ],
      "metadata": {
        "id": "dzr9BqrHNzky"
      }
    },
    {
      "cell_type": "code",
      "source": [
        "def solution(data):\n",
        "    addresses = data[0]\n",
        "    postal_codes = data[1]\n",
        "    sorted_addresses = sorted(addresses, key=lambda address: postal_codes[address.split()[1]])\n",
        "    return sorted_addresses\n",
        "\n",
        "solution([['제주시 A동 한라산길 61', '제주시 B동 백록담길 63', '제주시 C동 사라봉길 31'], {'A동': 63007, 'B동': 63010, 'C동': 63002}])\n",
        "\n"
      ],
      "metadata": {
        "id": "uuq4zC9USHU4"
      },
      "execution_count": null,
      "outputs": []
    },
    {
      "cell_type": "markdown",
      "source": [
        "다 이해되는데\n",
        "\n",
        "GPT형님이 key값을 저렇게 만들어주셨는데\n",
        "\n",
        "lambda x: postal_codes[x.split()[1]]\n",
        "\n",
        "이게 이해가 너무 어렵다.\n",
        "\n",
        "한 번 분해해보자,"
      ],
      "metadata": {
        "id": "Ow1LQpOYcTLW"
      }
    },
    {
      "cell_type": "code",
      "source": [
        "a = [['제주시 A동 한라산길 61', '제주시 B동 백록담길 63', '제주시 C동 사라봉길 31'], {'A동': 63007, 'B동': 63010, 'C동': 63002}]\n",
        "\n",
        "k = a[0]\n",
        "\n",
        "for i in k :\n",
        "    town = i.split()[1]\n",
        "    print(town)"
      ],
      "metadata": {
        "colab": {
          "base_uri": "https://localhost:8080/"
        },
        "id": "2CTHklugbJE4",
        "outputId": "65573a09-b4e1-4ddb-b80c-c7ecfb61c1ce"
      },
      "execution_count": 44,
      "outputs": [
        {
          "output_type": "stream",
          "name": "stdout",
          "text": [
            "A동\n",
            "B동\n",
            "C동\n"
          ]
        }
      ]
    },
    {
      "cell_type": "markdown",
      "source": [
        "애초에 이 코드 작성해도 이상한 오류가 나와서 안됐는데\n",
        "\n",
        "지금은 되는거 보니 코딩때문에 머리가 아플때에는 좀 쉬고 오면 좋을 듯 하다\n",
        "\n",
        "key값 처럼 a[1]와 결합시켜보자\n",
        "\n"
      ],
      "metadata": {
        "id": "K1u14ycscbtV"
      }
    },
    {
      "cell_type": "code",
      "source": [
        "a = [['제주시 A동 한라산길 61', '제주시 B동 백록담길 63', '제주시 C동 사라봉길 31'], {'A동': 63007, 'B동': 63010, 'C동': 63002}]\n",
        "\n",
        "k = a[0]\n",
        "t = a[1]\n",
        "\n",
        "\n",
        "for i in k :\n",
        "    town = i.split()[1]\n",
        "    merge_town = t[town]\n",
        "    print(town)\n",
        "    print(merge_town)"
      ],
      "metadata": {
        "colab": {
          "base_uri": "https://localhost:8080/"
        },
        "id": "HIZGFWaNbaMX",
        "outputId": "3202a82c-cc62-4299-99aa-992890df0214"
      },
      "execution_count": 47,
      "outputs": [
        {
          "output_type": "stream",
          "name": "stdout",
          "text": [
            "A동\n",
            "63007\n",
            "B동\n",
            "63010\n",
            "C동\n",
            "63002\n"
          ]
        }
      ]
    },
    {
      "cell_type": "markdown",
      "source": [
        "이로써, 리스트에 있는 값을, 딕셔너리 Key값과 비교해서 정렬을 시킬 때, 해법을 알게 되었다.\n",
        "\n",
        "1) 리스트 있는 값을 추출하고 변수에 저장 시킨다\n",
        "\n",
        "2) 그 값을 딕셔너리에 인덱싱으로 쓴다\n",
        "\n",
        "merge_town = t[town]\n",
        "\n",
        "sorted(address, key = lambda x : x[i.split()[1]])\n",
        "\n",
        "고로 이렇게 하면 우편번호의 오름차순을 주소 값을 정렬 할 수 있다.\n",
        "\n",
        "어려워라 ;;\n",
        "\n",
        "여기서 x는 for문의 i 처럼 address의 매개변수를 말한다\n",
        "\n"
      ],
      "metadata": {
        "id": "_zITy700dCBu"
      }
    },
    {
      "cell_type": "markdown",
      "source": [
        "## 문제 13번\n",
        "\n",
        "12번 문제에서 트레이닝 했으니 바로 ok"
      ],
      "metadata": {
        "id": "ZgM3UTj42mJ7"
      }
    },
    {
      "cell_type": "code",
      "source": [
        "def solution(data) :\n",
        "    movie_name = data[0]\n",
        "    movie_year = data[1]\n",
        "    result = sorted(movie_name, key = lambda movie : movie_year[movie])\n",
        "    return result"
      ],
      "metadata": {
        "id": "-rWvI7LO3uE_"
      },
      "execution_count": 50,
      "outputs": []
    },
    {
      "cell_type": "code",
      "source": [
        "data = {'AX21': 'Moby Dick', 'BX32': '1984', 'CX14': 'To Kill a Mockingbird'}\n",
        "\n",
        "# data.keys()\n",
        "\n",
        "location_list = []\n",
        "#movie_list = [] movie_list를 만들려면 꼴을 만들어서 비교하는 방법으로 해야할 듯 하다\n",
        "\n",
        "for key, values in data.items() :\n",
        "#    movie_list.append(values)\n",
        "    location_list.append(key)\n",
        "\n",
        "print(location_list)\n",
        "sort_movie_location = sorted(movie_list, key = lambda locate : data[locate])\n",
        "print(sort_movie_location)"
      ],
      "metadata": {
        "colab": {
          "base_uri": "https://localhost:8080/"
        },
        "id": "2V7tTc6D4dlH",
        "outputId": "960309eb-6c50-4d83-e780-f267106e12f2"
      },
      "execution_count": 60,
      "outputs": [
        {
          "output_type": "stream",
          "name": "stdout",
          "text": [
            "['AX21', 'BX32', 'CX14']\n",
            "['BX32', 'AX21', 'CX14']\n"
          ]
        }
      ]
    },
    {
      "cell_type": "code",
      "source": [],
      "metadata": {
        "id": "Y73zTpSZ4_TP"
      },
      "execution_count": null,
      "outputs": []
    }
  ]
}