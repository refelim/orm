{
  "nbformat": 4,
  "nbformat_minor": 0,
  "metadata": {
    "colab": {
      "provenance": []
    },
    "kernelspec": {
      "name": "python3",
      "display_name": "Python 3"
    },
    "language_info": {
      "name": "python"
    }
  },
  "cells": [
    {
      "cell_type": "markdown",
      "source": [
        "# 클래스는 데이터와 기능을 가지고 있는 인스턴스 객체를 생성하기 위한 역할을 합니다.\n",
        "**파이썬은 이 설계도면을 보며 하나의 인스턴스 객체를 만들어 냅니다 그리고 인스턴스 객체를 사용할 수 있게 됩니다**\n",
        "\n",
        "* 클래스는 대리인을 찍어내는 공장\n",
        "* 인스턴스는 그 공장에서 찍혀저 나오는 로봇\n",
        "* 대리인은 인스턴스 로봇이 바로 캣과 똑같은 생각을 하고 행동함"
      ],
      "metadata": {
        "id": "R1BmcqX4y291"
      }
    },
    {
      "cell_type": "code",
      "source": [
        "# 클래스 변수는 클래스도 인스턴스도 모두 다 공유하는 변수\n",
        "# 인스턴스 변수가 self가 만들어주는 영역\n",
        "\n",
        "class 대리인(object) :\n",
        "    이름 = '라이캣의 대리인'\n",
        "    대리인_목록 = []\n",
        "    훈장 = [\n",
        "        '백상아리를 잡은 고양이',\n",
        "        '성실한 납세자',\n",
        "        '해골섬 낚시꾼',\n",
        "        '청년 고용 착한 기업',\n",
        "        '회사를 설립한 자',\n",
        "        '혈통의 인정을 받은 자',\n",
        "        '천민을 위한 병원을 세운 ',\n",
        "    ]\n",
        "    기술 = {\n",
        "        '회사운영' : 99,\n",
        "        '낚시' : 96,\n",
        "        '통발' : 93,\n",
        "        '큰그물' : 95,\n",
        "        '재무' : 34,\n",
        "    }\n",
        "    def __init__(self, name):\n",
        "        self.이름 = name\n",
        "        self.대리인_목록.append(name)\n",
        "\n",
        "    def 계산하기(self, x): # method\n",
        "        print(int(x)*5000, '원 입니다.')\n",
        "\n",
        "    # def 이름_변경하기(self, name):\n",
        "    #     self.이름 = name\n",
        "\n",
        "    def 포장하기(self):\n",
        "        print('포장이 완료되었습니다.')\n",
        "\n",
        "class 진화된_대리인(대리인) :\n",
        "    # 이제 위니브 월드에 있는 대리인들 끼리는 서로 협업합니다.\n",
        "    추가_서로협업하기 = True\n",
        "\n",
        "    def 추가된_기능_청소기능(self):\n",
        "        print(\"청소기능이 추가되었습니다.\")\n",
        "        return 'hello world'\n",
        "\n",
        "대리인1 = 대리인() #인스턴스 = 클래스\n",
        "대리인.대리인_목록.append('대리인1')\n",
        "대리인2 = 대리인()\n",
        "대리인.대리인_목록.append('대리인2')\n",
        "\n",
        "대리인1.이름_변경하기('라이캣_분신_하나')\n",
        "대리인1.이름_변경하기('라이캣_분신_둘')\n",
        "\n",
        "print(대리인1.이름)\n",
        "print(대리인2.이름)\n",
        "\n",
        "\n"
      ],
      "metadata": {
        "colab": {
          "base_uri": "https://localhost:8080/"
        },
        "id": "IEMw0prTzV1Z",
        "outputId": "211512a4-0dce-4422-989b-23b2c4ea8d33"
      },
      "execution_count": null,
      "outputs": [
        {
          "output_type": "stream",
          "name": "stdout",
          "text": [
            "라이캣_분신_둘\n",
            "라이캣의 대리인\n"
          ]
        }
      ]
    },
    {
      "cell_type": "markdown",
      "source": [
        "# 상속"
      ],
      "metadata": {
        "id": "yZv47MWI6N4u"
      }
    },
    {
      "cell_type": "code",
      "source": [
        "# 대리인 슈퍼클래스\n",
        "# 진화된_대리인 서브클래스\n",
        "\n",
        "class 대리인(object) :\n",
        "    이름 = '라이캣의 대리인'\n",
        "    대리인_목록 = []\n",
        "    훈장 = [\n",
        "        '백상아리를 잡은 고양이',\n",
        "        '성실한 납세자',\n",
        "        '해골섬 낚시꾼',\n",
        "        '청년 고용 착한 기업',\n",
        "        '회사를 설립한 자',\n",
        "        '혈통의 인정을 받은 자',\n",
        "        '천민을 위한 병원을 세운 ',\n",
        "    ]\n",
        "    기술 = {\n",
        "        '회사운영' : 99,\n",
        "        '낚시' : 96,\n",
        "        '통발' : 93,\n",
        "        '큰그물' : 95,\n",
        "        '재무' : 34,\n",
        "    }\n",
        "    def __init__(self, name):\n",
        "        self.이름 = name\n",
        "        self.대리인_목록.append(name)\n",
        "\n",
        "    def 계산하기(self, x): # method\n",
        "        print(int(x)*5000, '원 입니다.')\n",
        "\n",
        "    # def 이름_변경하기(self, name):\n",
        "    #     self.이름 = name\n",
        "\n",
        "    def 포장하기(self):\n",
        "        print('포장이 완료되었습니다.')\n",
        "\n",
        "class 진화된_대리인(대리인) :\n",
        "    # 이제 위니브 월드에 있는 대리인들 끼리는 서로 협업합니다.\n",
        "    추가_서로협업하기 = True\n",
        "\n",
        "    def 추가된_기능_청소기능(self):\n",
        "        print(\"청소기능이 추가되었습니다.\")\n",
        "        return 'hello 청소'\n",
        "\n",
        "대리인1 = 대리인('라이캣하나')\n",
        "대리인2 = 진화된_대리인('라이캣둘')\n",
        "\n",
        "print(대리인2.추가된_기능_청소기능())\n",
        "print(대리인2.이름)\n",
        "대리인2.훈장"
      ],
      "metadata": {
        "colab": {
          "base_uri": "https://localhost:8080/"
        },
        "id": "oqM7xR2yAXfy",
        "outputId": "2694750f-3d5a-4761-a284-895a06957cff"
      },
      "execution_count": null,
      "outputs": [
        {
          "output_type": "stream",
          "name": "stdout",
          "text": [
            "청소기능이 추가되었습니다.\n",
            "hello 청소\n",
            "라이캣둘\n"
          ]
        },
        {
          "output_type": "execute_result",
          "data": {
            "text/plain": [
              "['백상아리를 잡은 고양이',\n",
              " '성실한 납세자',\n",
              " '해골섬 낚시꾼',\n",
              " '청년 고용 착한 기업',\n",
              " '회사를 설립한 자',\n",
              " '혈통의 인정을 받은 자',\n",
              " '천민을 위한 병원을 세운 ']"
            ]
          },
          "metadata": {},
          "execution_count": 11
        }
      ]
    },
    {
      "cell_type": "code",
      "source": [
        "# 다중상속 : 다중의 값을 상속 받을때 다중상속이라 합니다.\n",
        "\n",
        "# 대리인 슈퍼클래스\n",
        "# 진화된_대리인 서브클래스\n",
        "\n",
        "class 배터리_영구_증가(object):\n",
        "    pass\n",
        "\n",
        "class 효율_극대화(object):\n",
        "    pass\n",
        "\n",
        "class 대리인(object) :\n",
        "    이름 = '라이캣의 대리인'\n",
        "    대리인_목록 = []\n",
        "\n",
        "    def __init__(self, name):\n",
        "        self.이름 = name\n",
        "        self.대리인_목록.append(name)\n",
        "\n",
        "    def 계산하기(self, x): # method\n",
        "        print(int(x)*5000, '원 입니다.')\n",
        "\n",
        "    # def 이름_변경하기(self, name):\n",
        "    #     self.이름 = name\n",
        "\n",
        "    def 포장하기(self):\n",
        "        print('포장이 완료되었습니다.')\n",
        "\n",
        "class 진화된_대리인(대리인, 배터리_영구_증가, 효율_극대화) :\n",
        "    # 이제 위니브 월드에 있는 대리인들 끼리는 서로 협업합니다.\n",
        "    추가_서로협업하기 = True\n",
        "\n",
        "    def 추가된_기능_청소기능(self):\n",
        "        print(\"청소기능이 추가되었습니다.\")\n",
        "        return 'hello 청소'\n",
        "\n",
        "대리인1 = 대리인('라이캣하나')\n",
        "대리인2 = 진화된_대리인('라이캣둘')\n",
        "\n",
        "print(대리인2.추가된_기능_청소기능())\n",
        "print(대리인2.이름)\n",
        "대리인2.훈장"
      ],
      "metadata": {
        "id": "C8S3YykWDd1y"
      },
      "execution_count": null,
      "outputs": []
    },
    {
      "cell_type": "code",
      "source": [
        "class 신규_로봇(object):\n",
        "    로봇의_기능 = ['포장하기', '낚시하기']\n",
        "\n",
        "    def __init__(self,name) :\n",
        "        self.name = name\n",
        "\n",
        "    def __getattr__(self, item) :\n",
        "        print(item + '속성은 존재하지 않습니다.')\n",
        "\n",
        "    def __str__(self):\n",
        "        return 'hello world'\n",
        "\n",
        "    def start(self):\n",
        "        print('로봇이 동작합니다')\n",
        "\n",
        "로봇1 = 신규_로봇('로봇 하나')\n",
        "# print(로봇1.name)\n",
        "# print(로봇1.청소하기)\n",
        "print(로봇1)\n",
        "print(type(로봇1))\n",
        "print(dir(로봇1))\n"
      ],
      "metadata": {
        "colab": {
          "base_uri": "https://localhost:8080/"
        },
        "id": "CtBe8k1fFu6v",
        "outputId": "ee0f8e91-b62d-4ccd-81a1-aa9c6dc75e78"
      },
      "execution_count": null,
      "outputs": [
        {
          "output_type": "stream",
          "name": "stdout",
          "text": [
            "hello world\n",
            "<class '__main__.신규_로봇'>\n",
            "['__class__', '__delattr__', '__dict__', '__dir__', '__doc__', '__eq__', '__format__', '__ge__', '__getattr__', '__getattribute__', '__gt__', '__hash__', '__init__', '__init_subclass__', '__le__', '__lt__', '__module__', '__ne__', '__new__', '__reduce__', '__reduce_ex__', '__repr__', '__setattr__', '__sizeof__', '__str__', '__subclasshook__', '__weakref__', 'name', 'start', '로봇의_기능']\n"
          ]
        }
      ]
    },
    {
      "cell_type": "markdown",
      "source": [
        "ㄷ"
      ],
      "metadata": {
        "id": "9-MO0kYUQ-aW"
      }
    },
    {
      "cell_type": "code",
      "source": [
        "# 대리인 10명을 생성하세요\n",
        "# 경비를 구하는 기능이 있습니다. 시간당 100만 노드를 버는 메서드를 만드세요\n",
        "# 물건을 구하는 기능이 있습니다. 시간당 필요 물품 1개를 구해오는 메서드를 만드세요.\n",
        "\n",
        "class 대리인(object):\n",
        "\n",
        "    이름 = []\n",
        "\n",
        "    대리인_그룹 = []\n",
        "\n",
        "    물품 = []\n",
        "\n",
        "    def __init__(self, name):\n",
        "        self.이름 = name\n",
        "        self.대리인_그룹.append(name)\n",
        "\n",
        "    def 경비구하기(self, x): # method\n",
        "        int(x[0:2])\n",
        "        print(x,\"시간\",int(x)*1000000, '원 입니다.')\n",
        "\n",
        "    def 물품구하기(self, x) :\n",
        "        for i in range(1,x+1) :\n",
        "            self.물품.append(i)\n",
        "\n",
        "for name in range(10):\n",
        "    대리인_그룹.append(대리인(str(name)))\n",
        "\n",
        "대리인1 = 대리인(대리인1)\n",
        "대리인1.경비구하기(10)\n",
        "대리인1.물품구하기(3)\n",
        "대리인1.물품"
      ],
      "metadata": {
        "colab": {
          "base_uri": "https://localhost:8080/",
          "height": 386
        },
        "id": "PtMJwTOhGhSc",
        "outputId": "51fe4703-061f-42d1-a4e6-9ad475dbbebc"
      },
      "execution_count": null,
      "outputs": [
        {
          "output_type": "error",
          "ename": "TypeError",
          "evalue": "ignored",
          "traceback": [
            "\u001b[0;31m---------------------------------------------------------------------------\u001b[0m",
            "\u001b[0;31mTypeError\u001b[0m                                 Traceback (most recent call last)",
            "\u001b[0;32m<ipython-input-67-933db3434236>\u001b[0m in \u001b[0;36m<cell line: 29>\u001b[0;34m()\u001b[0m\n\u001b[1;32m     27\u001b[0m \u001b[0;34m\u001b[0m\u001b[0m\n\u001b[1;32m     28\u001b[0m \u001b[0m대리인1\u001b[0m \u001b[0;34m=\u001b[0m \u001b[0m대리인\u001b[0m\u001b[0;34m(\u001b[0m\u001b[0m대리인1\u001b[0m\u001b[0;34m)\u001b[0m\u001b[0;34m\u001b[0m\u001b[0;34m\u001b[0m\u001b[0m\n\u001b[0;32m---> 29\u001b[0;31m \u001b[0m대리인1\u001b[0m\u001b[0;34m.\u001b[0m\u001b[0m경비구하기\u001b[0m\u001b[0;34m(\u001b[0m\u001b[0;36m10\u001b[0m\u001b[0;34m)\u001b[0m\u001b[0;34m\u001b[0m\u001b[0;34m\u001b[0m\u001b[0m\n\u001b[0m\u001b[1;32m     30\u001b[0m \u001b[0m대리인1\u001b[0m\u001b[0;34m.\u001b[0m\u001b[0m물품구하기\u001b[0m\u001b[0;34m(\u001b[0m\u001b[0;36m3\u001b[0m\u001b[0;34m)\u001b[0m\u001b[0;34m\u001b[0m\u001b[0;34m\u001b[0m\u001b[0m\n\u001b[1;32m     31\u001b[0m \u001b[0m대리인1\u001b[0m\u001b[0;34m.\u001b[0m\u001b[0m물품\u001b[0m\u001b[0;34m\u001b[0m\u001b[0;34m\u001b[0m\u001b[0m\n",
            "\u001b[0;32m<ipython-input-67-933db3434236>\u001b[0m in \u001b[0;36m경비구하기\u001b[0;34m(self, x)\u001b[0m\n\u001b[1;32m     16\u001b[0m \u001b[0;34m\u001b[0m\u001b[0m\n\u001b[1;32m     17\u001b[0m     \u001b[0;32mdef\u001b[0m \u001b[0m경비구하기\u001b[0m\u001b[0;34m(\u001b[0m\u001b[0mself\u001b[0m\u001b[0;34m,\u001b[0m \u001b[0mx\u001b[0m\u001b[0;34m)\u001b[0m\u001b[0;34m:\u001b[0m \u001b[0;31m# method\u001b[0m\u001b[0;34m\u001b[0m\u001b[0;34m\u001b[0m\u001b[0m\n\u001b[0;32m---> 18\u001b[0;31m         \u001b[0mint\u001b[0m\u001b[0;34m(\u001b[0m\u001b[0mx\u001b[0m\u001b[0;34m[\u001b[0m\u001b[0;36m0\u001b[0m\u001b[0;34m:\u001b[0m\u001b[0;36m2\u001b[0m\u001b[0;34m]\u001b[0m\u001b[0;34m)\u001b[0m\u001b[0;34m\u001b[0m\u001b[0;34m\u001b[0m\u001b[0m\n\u001b[0m\u001b[1;32m     19\u001b[0m         \u001b[0mprint\u001b[0m\u001b[0;34m(\u001b[0m\u001b[0mx\u001b[0m\u001b[0;34m,\u001b[0m\u001b[0;34m\"시간\"\u001b[0m\u001b[0;34m,\u001b[0m\u001b[0mint\u001b[0m\u001b[0;34m(\u001b[0m\u001b[0mx\u001b[0m\u001b[0;34m)\u001b[0m\u001b[0;34m*\u001b[0m\u001b[0;36m1000000\u001b[0m\u001b[0;34m,\u001b[0m \u001b[0;34m'원 입니다.'\u001b[0m\u001b[0;34m)\u001b[0m\u001b[0;34m\u001b[0m\u001b[0;34m\u001b[0m\u001b[0m\n\u001b[1;32m     20\u001b[0m \u001b[0;34m\u001b[0m\u001b[0m\n",
            "\u001b[0;31mTypeError\u001b[0m: 'int' object is not subscriptable"
          ]
        }
      ]
    },
    {
      "cell_type": "code",
      "source": [
        "x = '10시간'\n",
        "x[0:2]"
      ],
      "metadata": {
        "colab": {
          "base_uri": "https://localhost:8080/",
          "height": 35
        },
        "id": "FgTcyc6ELULT",
        "outputId": "fbbf4f2c-ab97-4d95-8c6a-46da8b735673"
      },
      "execution_count": null,
      "outputs": [
        {
          "output_type": "execute_result",
          "data": {
            "text/plain": [
              "'10'"
            ],
            "application/vnd.google.colaboratory.intrinsic+json": {
              "type": "string"
            }
          },
          "metadata": {},
          "execution_count": 64
        }
      ]
    },
    {
      "cell_type": "code",
      "source": [
        "# 강사의 답\n",
        "\n",
        "class 대리인(object):\n",
        "\n",
        "    물품 = []\n",
        "\n",
        "\n",
        "    def __init__(self, name) : # init문에는 return이 들어가면 안된다....왜???\n",
        "        self.이름 = name + '대리인'\n",
        "\n",
        "    def __str__(self):\n",
        "        return self.이름\n",
        "\n",
        "    def 경비구하기(self, 시간) :\n",
        "        경비 = int(시간[:-2]) * 1000000\n",
        "        return format(경비, ',')\n",
        "\n",
        "    def 물품구하기(self, 시간):\n",
        "        for i in range(1, int(시간[:-2])+1) :\n",
        "            self.물품.append('대리인이 구해온 물품'+ str(i))\n",
        "\n",
        "\n",
        "대리인_그룹 = [] # 이건 왜 밑에 있는 것인가?\n",
        "for name in range(10) :\n",
        "    대리인_그룹.append(대리인(str(name)))\n",
        "\n",
        "for 대리인 in 대리인_그룹:\n",
        "    print(대리인)\n",
        "\n",
        "print(대리인_그룹[0].경비구하기('10시간'))\n",
        "#대리인_그룹[0].물품구하기('3시간')\n",
        "# print(대리인_그룹[0].물품)"
      ],
      "metadata": {
        "colab": {
          "base_uri": "https://localhost:8080/"
        },
        "id": "ZYBGyVY6UqQs",
        "outputId": "134f83f5-d555-484d-ba8f-32db23100680"
      },
      "execution_count": null,
      "outputs": [
        {
          "output_type": "stream",
          "name": "stdout",
          "text": [
            "0대리인\n",
            "1대리인\n",
            "2대리인\n",
            "3대리인\n",
            "4대리인\n",
            "5대리인\n",
            "6대리인\n",
            "7대리인\n",
            "8대리인\n",
            "9대리인\n",
            "10,000,000\n"
          ]
        }
      ]
    },
    {
      "cell_type": "code",
      "source": [
        "class 대리인(object) :\n",
        "    이름 = '라이캣의 대리인'\n",
        "    대리인_목록 = []\n",
        "    훈장 = [\n",
        "        '백상아리를 잡은 고양이',\n",
        "        '성실한 납세자',\n",
        "        '해골섬 낚시꾼',\n",
        "        '청년 고용 착한 기업',\n",
        "        '회사를 설립한 자',\n",
        "        '혈통의 인정을 받은 자',\n",
        "        '천민을 위한 병원을 세운 ',\n",
        "    ]\n",
        "    기술 = {\n",
        "        '회사운영' : 99,\n",
        "        '낚시' : 96,\n",
        "        '통발' : 93,\n",
        "        '큰그물' : 95,\n",
        "        '재무' : 34,\n",
        "    }\n",
        "\n",
        "    def __init__(self,name) :\n",
        "        self.대리인_목록.append(name)\n",
        "        self.이름 = name\n",
        "\n",
        "    def 계산하기(self, x) :\n",
        "        print(int(x)*5000, '원 입니다')\n",
        "\n",
        "    def 포장하기(self) :\n",
        "        print('포장이 완료되었습니다.')\n",
        "\n",
        "    def 기술습득(self, skill,x) :\n",
        "        self.기술[skill] = x\n",
        "\n",
        "\n",
        "대리인1 = 대리인('대리인1')\n",
        "sum(대리인1.기술.values())\n",
        "대리인1.기술습득('물기', 100)\n"
      ],
      "metadata": {
        "colab": {
          "base_uri": "https://localhost:8080/",
          "height": 350
        },
        "id": "eFzpvz_IBCD5",
        "outputId": "44c72c5b-3857-4b7b-a547-1ea53fe76355"
      },
      "execution_count": null,
      "outputs": [
        {
          "output_type": "error",
          "ename": "AttributeError",
          "evalue": "ignored",
          "traceback": [
            "\u001b[0;31m---------------------------------------------------------------------------\u001b[0m",
            "\u001b[0;31mAttributeError\u001b[0m                            Traceback (most recent call last)",
            "\u001b[0;32m<ipython-input-43-b0e5d71d6ab2>\u001b[0m in \u001b[0;36m<cell line: 37>\u001b[0;34m()\u001b[0m\n\u001b[1;32m     35\u001b[0m \u001b[0m대리인1\u001b[0m \u001b[0;34m=\u001b[0m \u001b[0m대리인\u001b[0m\u001b[0;34m(\u001b[0m\u001b[0;34m'대리인1'\u001b[0m\u001b[0;34m)\u001b[0m\u001b[0;34m\u001b[0m\u001b[0;34m\u001b[0m\u001b[0m\n\u001b[1;32m     36\u001b[0m \u001b[0msum\u001b[0m\u001b[0;34m(\u001b[0m\u001b[0m대리인1\u001b[0m\u001b[0;34m.\u001b[0m\u001b[0m기술\u001b[0m\u001b[0;34m.\u001b[0m\u001b[0mvalues\u001b[0m\u001b[0;34m(\u001b[0m\u001b[0;34m)\u001b[0m\u001b[0;34m)\u001b[0m\u001b[0;34m\u001b[0m\u001b[0;34m\u001b[0m\u001b[0m\n\u001b[0;32m---> 37\u001b[0;31m \u001b[0m대리인1\u001b[0m\u001b[0;34m.\u001b[0m\u001b[0m기술습득\u001b[0m\u001b[0;34m(\u001b[0m\u001b[0;34m'물기'\u001b[0m\u001b[0;34m,\u001b[0m \u001b[0;36m100\u001b[0m\u001b[0;34m)\u001b[0m\u001b[0;34m\u001b[0m\u001b[0;34m\u001b[0m\u001b[0m\n\u001b[0m",
            "\u001b[0;32m<ipython-input-43-b0e5d71d6ab2>\u001b[0m in \u001b[0;36m기술습득\u001b[0;34m(self, skill, x)\u001b[0m\n\u001b[1;32m     30\u001b[0m \u001b[0;34m\u001b[0m\u001b[0m\n\u001b[1;32m     31\u001b[0m     \u001b[0;32mdef\u001b[0m \u001b[0m기술습득\u001b[0m\u001b[0;34m(\u001b[0m\u001b[0mself\u001b[0m\u001b[0;34m,\u001b[0m \u001b[0mskill\u001b[0m\u001b[0;34m,\u001b[0m\u001b[0mx\u001b[0m\u001b[0;34m)\u001b[0m \u001b[0;34m:\u001b[0m\u001b[0;34m\u001b[0m\u001b[0;34m\u001b[0m\u001b[0m\n\u001b[0;32m---> 32\u001b[0;31m         \u001b[0mself\u001b[0m\u001b[0;34m.\u001b[0m\u001b[0m기술\u001b[0m\u001b[0;34m.\u001b[0m\u001b[0mskill\u001b[0m\u001b[0;34m[\u001b[0m\u001b[0mx\u001b[0m\u001b[0;34m]\u001b[0m\u001b[0;34m\u001b[0m\u001b[0;34m\u001b[0m\u001b[0m\n\u001b[0m\u001b[1;32m     33\u001b[0m \u001b[0;34m\u001b[0m\u001b[0m\n\u001b[1;32m     34\u001b[0m \u001b[0;34m\u001b[0m\u001b[0m\n",
            "\u001b[0;31mAttributeError\u001b[0m: 'dict' object has no attribute 'skill'"
          ]
        }
      ]
    },
    {
      "cell_type": "code",
      "source": [
        "# 강사의 답\n",
        "\n",
        "class 대리인(object) :\n",
        "    이름 = '라이캣의 대리인'\n",
        "    대리인_목록 = []\n",
        "    훈장 = [\n",
        "        '백상아리를 잡은 고양이',\n",
        "        '성실한 납세자',\n",
        "        '해골섬 낚시꾼',\n",
        "        '청년 고용 착한 기업',\n",
        "        '회사를 설립한 자',\n",
        "        '혈통의 인정을 받은 자',\n",
        "        '천민을 위한 병원을 세운 ',\n",
        "    ]\n",
        "    기술 = {\n",
        "        '회사운영' : 99,\n",
        "        '낚시' : 96,\n",
        "        '통발' : 93,\n",
        "        '큰그물' : 95,\n",
        "        '재무' : 34,\n",
        "    }\n",
        "\n",
        "    def __init__(self,name) :\n",
        "        self.대리인_목록.append(name)\n",
        "        self.이름 = name\n",
        "\n",
        "    def 계산하기(self, x) :\n",
        "        print(int(x)*5000, '원 입니다')\n",
        "\n",
        "    def 포장하기(self) :\n",
        "        print('포장이 완료되었습니다.')\n",
        "\n",
        "    def 기술습득(self, skill, 스킬점수) :\n",
        "        self.기술[skill] = 스킬점수\n",
        "\n",
        "\n",
        "대리인하나 = 대리인('대리인하나')\n",
        "점수_총합 = 0\n",
        "for i in 대리인하나.기술 :\n",
        "    print(i, 대리인하나.기술[i])\n",
        "    점수_총합 += 대리인하나.기술[i]\n",
        "\n",
        "print(점수_총합)\n",
        "대리인하나.기술습득('abc로켓',123456)\n",
        "print(대리인하나.기술)"
      ],
      "metadata": {
        "colab": {
          "base_uri": "https://localhost:8080/"
        },
        "id": "rho5MgnQEi1W",
        "outputId": "421c1cab-110e-4f3b-81c3-471f200c7820"
      },
      "execution_count": null,
      "outputs": [
        {
          "output_type": "stream",
          "name": "stdout",
          "text": [
            "회사운영 99\n",
            "낚시 96\n",
            "통발 93\n",
            "큰그물 95\n",
            "재무 34\n",
            "417\n",
            "{'회사운영': 99, '낚시': 96, '통발': 93, '큰그물': 95, '재무': 34, 'abc로켓': 123456}\n"
          ]
        }
      ]
    },
    {
      "cell_type": "code",
      "source": [
        "class 진화된_대리인(대리인) :\n",
        "    아이템_목록 = []\n",
        "    def 던전탐험(self, 아이템):\n",
        "        self.아이템_목록.append(아이템)\n",
        "    def 위험판단(self, 위험단계):\n",
        "        if 위험단계 == '매우위험' :\n",
        "            print('모든 자금을 해외로 분산시켜 이동시킵니다')\n",
        "        elif 위험단계 == '위험':\n",
        "            print('모든 자금을 해외로 분산시켜 이동시킵니다')\n",
        "        elif 위험단계 == '긴장감 고조':\n",
        "            print('동산으로 변환할 수 있는 부동산은 매각')\n",
        "        elif 위험단계 == '평범':\n",
        "            print('순익 극대화를 노립니다')\n",
        "\n",
        "진화된_대리인1 = 진화된_대리인('진화된_대리인_하나')\n",
        "진화된_대리인2 = 진화된_대리인('진화된_대리인_둘')\n",
        "\n",
        "\n",
        "진화된_대리인1.던전탐험('진홍의 목걸이')\n",
        "print(진화된_대리인1.아이템_목록)\n",
        "\n",
        "진화된_대리인2.위험판단('위험')\n",
        "진화된_대리인2.위험판단('평범')"
      ],
      "metadata": {
        "id": "d49fY12LHCGm"
      },
      "execution_count": null,
      "outputs": []
    }
  ]
}