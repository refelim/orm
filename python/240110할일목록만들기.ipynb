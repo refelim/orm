{
  "nbformat": 4,
  "nbformat_minor": 0,
  "metadata": {
    "colab": {
      "provenance": []
    },
    "kernelspec": {
      "name": "python3",
      "display_name": "Python 3"
    },
    "language_info": {
      "name": "python"
    }
  },
  "cells": [
    {
      "cell_type": "markdown",
      "source": [
        "Step 1: 할 일 목록 초기화 및 표시 함수\n",
        "\n",
        "목표: 사용자의 할 일 목록을 관리합니다.\n",
        "\n",
        "내용:\n",
        "\n",
        "할 일 목록을 저장할 리스트를 초기화합니다.\n",
        "\n",
        "할 일 목록을 표시하는 함수를 정의합니다.\n",
        "\n",
        "\n",
        "Step 2: 할 일 추가 및 삭제 기능\n",
        "\n",
        "목표: 할 일을 추가하고 삭제하는 기능을 구현합니다.\n",
        "\n",
        "내용:\n",
        "\n",
        "할 일을 추가하는 함수를 정의합니다.\n",
        "\n",
        "할 일을 삭제하는 함수를 정의합니다.\n",
        "\n",
        "\n",
        "Step 3: 사용자 입력 처리\n",
        "\n",
        "목표: 사용자 입력에 따라 프로그램이 반응하도록 합니다.\n",
        "\n",
        "내용:\n",
        "\n",
        "사용자로부터 입력을 받아 추가, 삭제, 표시 기능을 수행합니다.\n"
      ],
      "metadata": {
        "id": "ZtM4WPflHWv8"
      }
    },
    {
      "cell_type": "markdown",
      "source": [
        "---\n",
        "Step 1: 할 일 목록 초기화 및 표시 함수\n",
        "\n",
        "목표: 사용자의 할 일 목록을 관리합니다.\n",
        "\n",
        "내용:\n",
        "\n",
        "할 일 목록을 저장할 리스트를 초기화합니다.\n",
        "\n",
        "할 일 목록을 표시하는 함수를 정의합니다."
      ],
      "metadata": {
        "id": "JRb3pHfyIevo"
      }
    },
    {
      "cell_type": "code",
      "source": [
        "to_do_list = []\n",
        "\n",
        "def display_to_do_list() :\n",
        "    for i in to_do_list :\n"
      ],
      "metadata": {
        "colab": {
          "base_uri": "https://localhost:8080/",
          "height": 147
        },
        "id": "JQLGG7hqJGg2",
        "outputId": "caa0f6cb-73ff-4d68-c5bb-f27dc80b1218"
      },
      "execution_count": null,
      "outputs": [
        {
          "output_type": "error",
          "ename": "SyntaxError",
          "evalue": "incomplete input (<ipython-input-1-fd9126a7f086>, line 4)",
          "traceback": [
            "\u001b[0;36m  File \u001b[0;32m\"<ipython-input-1-fd9126a7f086>\"\u001b[0;36m, line \u001b[0;32m4\u001b[0m\n\u001b[0;31m    for i in to_do_list :\u001b[0m\n\u001b[0m                         ^\u001b[0m\n\u001b[0;31mSyntaxError\u001b[0m\u001b[0;31m:\u001b[0m incomplete input\n"
          ]
        }
      ]
    },
    {
      "cell_type": "markdown",
      "source": [
        "Step 2: 할 일 추가 및 삭제 기능\n",
        "\n",
        "목표: 할 일을 추가하고 삭제하는 기능을 구현합니다.\n",
        "\n",
        "내용:\n",
        "\n",
        "할 일을 추가하는 함수를 정의합니다.\n",
        "\n",
        "할 일을 삭제하는 함수를 정의합니다."
      ],
      "metadata": {
        "id": "ZNBdGDphJzu4"
      }
    },
    {
      "cell_type": "code",
      "source": [
        "to_do_list = []\n",
        "\n",
        "def display_to_do_list() :\n",
        "    for i in to_do_list :\n",
        "        print()"
      ],
      "metadata": {
        "id": "HA8D4kuJKFUf"
      },
      "execution_count": null,
      "outputs": []
    },
    {
      "cell_type": "code",
      "source": [
        "todos = []\n",
        "\n",
        "def show_todos():\n",
        "    if not todos:\n",
        "        print(\"할 일이 없습니다.\")\n",
        "    else:\n",
        "        print(\"할 일 목록\")\n",
        "        for i, todo in enumerate(todos, 1):\n",
        "            print(f\"{i}: {todo}\")\n",
        "\n",
        "def add_todo():\n",
        "    new_todo = input(\"할 일을 입력하세요: \")\n",
        "\n",
        "    if new_todo not in todos:\n",
        "        todos.append(new_todo)\n",
        "        print(f\"{new_todo}가 할 일 목록에 추가되었습니다.\")\n",
        "    else:\n",
        "        print(f\"{new_todo}는 이미 할 일 목록에 있습니다.\")\n",
        "\n",
        "# 할 일을 삭제하는 함수를 정의합니다.\n",
        "# todos = [] -> 인덱싱보고 제거하자 ->\n",
        "def del_todo():\n",
        "    del_todo = input(\"할 일을 입력하세요: \")\n",
        "\n",
        "    if del_todo in todos:\n",
        "        todos.remove(del_todo)\n",
        "        print(f\"{del_todo}가 할 일 목록에 제거되었습니다.\")\n",
        "    else:\n",
        "        print(f\"{del_todo}는 할 일 목록에 존재하지 않습니다.\")\n",
        "\n"
      ],
      "metadata": {
        "colab": {
          "base_uri": "https://localhost:8080/"
        },
        "id": "YtB8RIF6KWiR",
        "outputId": "e795878d-31f3-42f2-bd92-f81c0de520fa"
      },
      "execution_count": null,
      "outputs": [
        {
          "output_type": "stream",
          "name": "stdout",
          "text": [
            "할 일을 입력하세요: 친구만나기\n",
            "친구만나기가 할 일 목록에 추가되었습니다.\n",
            "할 일 목록\n",
            "1: 점심먹기\n",
            "2: 장보기\n",
            "3: 친구만나기\n"
          ]
        }
      ]
    },
    {
      "cell_type": "code",
      "source": [
        "todos = ['점심먹기','장보기']\n",
        "\n",
        "def show_todos():\n",
        "    if not todos:\n",
        "        print(\"할 일이 없습니다.\")\n",
        "    else:\n",
        "        print(\"할 일 목록\")\n",
        "        for i, todo in enumerate(todos, 1):\n",
        "            print(f\"{i}: {todo}\")\n",
        "\n",
        "    def add_todo():\n",
        "        new_todo = input(\"할 일을 입력하세요: \")\n",
        "\n",
        "        if new_todo not in todos:\n",
        "            todos.append(new_todo)\n",
        "            print(f\"{new_todo}가 할 일 목록에 추가되었습니다.\")\n",
        "        else:\n",
        "            print(f\"{new_todo}는 이미 할 일 목록에 있습니다.\")\n",
        "\n",
        "\n",
        "\n",
        "show_todos()"
      ],
      "metadata": {
        "colab": {
          "base_uri": "https://localhost:8080/"
        },
        "id": "OSRQEzqLLN0Q",
        "outputId": "fb2d9b12-62bf-4402-8887-ec6ddde55bd0"
      },
      "execution_count": null,
      "outputs": [
        {
          "output_type": "stream",
          "name": "stdout",
          "text": [
            "현재 할 일 목록:\n",
            "- a\n",
            "- b\n",
            "- c\n",
            "- d\n"
          ]
        }
      ]
    },
    {
      "cell_type": "markdown",
      "source": [
        "Step 3: 사용자 입력 처리\n",
        "\n",
        "목표: 사용자 입력에 따라 프로그램이 반응하도록 합니다.\n",
        "\n",
        "내용:\n",
        "\n",
        "사용자로부터 입력을 받아 추가, 삭제, 표시 기능을 수행합니다."
      ],
      "metadata": {
        "id": "WGYzBD_MLZKA"
      }
    },
    {
      "cell_type": "code",
      "source": [
        "todos = []\n",
        "\n",
        "def show_todos():\n",
        "    if not todos:\n",
        "        print(\"할 일이 없습니다.\")\n",
        "\n",
        "    else:\n",
        "        print(\"할 일 목록\")\n",
        "        for i, todo in enumerate(todos, 1):\n",
        "            print(f\"{i}: {todo}\")\n",
        "\n",
        "def add_todo():\n",
        "    new_todo = input(\"할 일을 입력하세요: \")\n",
        "\n",
        "    if new_todo not in todos:\n",
        "        todos.append(new_todo)\n",
        "        print(f\"{new_todo}가 할 일 목록에 추가되었습니다.\")\n",
        "    else:\n",
        "        print(f\"{new_todo}는 이미 할 일 목록에 있습니다.\")\n",
        "\n",
        "# 할 일을 삭제하는 함수를 정의합니다.\n",
        "\n",
        "def del_todo():\n",
        "    del_todo = input(\"할 일을 입력하세요: \")\n",
        "\n",
        "    if del_todo in todos:\n",
        "        todos.remove(del_todo)\n",
        "        print(f\"{del_todo}가 할 일 목록에 제거되었습니다.\")\n",
        "    else:\n",
        "        print(f\"{del_todo}는 할 일 목록에 존재하지 않습니다.\")\n",
        "\n"
      ],
      "metadata": {
        "id": "a4FgQGQ5Ojmv"
      },
      "execution_count": null,
      "outputs": []
    },
    {
      "cell_type": "markdown",
      "source": [
        "Step 3: 사용자 입력 처리\n",
        "\n",
        "목표: 사용자 입력에 따라 프로그램이 반응하도록 합니다.\n",
        "\n",
        "내용:\n",
        "\n",
        "사용자로부터 입력을 받아 추가, 삭제, 표시 기능을 수행합니다."
      ],
      "metadata": {
        "id": "YBaV9HfNO0GA"
      }
    },
    {
      "cell_type": "code",
      "source": [
        "# 강사님 메인 루프\n",
        "while True:\n",
        "    print(\"\\n[1] 할 일 추가 [2] 할 일 삭제 [3] 목록 표시 [4] 종료\")\n",
        "    choice = input(\"선택: \")  # 사용자 입력 받기\n",
        "\n",
        "    if choice == '1':  # 할 일 추가\n",
        "        task = input(\"추가할 할 일: \")\n",
        "        add_task(task)\n",
        "    elif choice == '2':  # 할 일 삭제\n",
        "        task = input(\"삭제할 할 일: \")\n",
        "        remove_task(task)\n",
        "    elif choice == '3':  # 할 일 목록 표시\n",
        "        display_todo_list()\n",
        "    elif choice == '4':  # 프로그램 종료\n",
        "        print(\"프로그램을 종료합니다.\")\n",
        "        break  # while 루프 종료\n",
        "    else:\n",
        "        print(\"잘못된 선택입니다. 다시 입력하세요.\")"
      ],
      "metadata": {
        "id": "gLM_IErvOs8Y"
      },
      "execution_count": null,
      "outputs": []
    }
  ]
}