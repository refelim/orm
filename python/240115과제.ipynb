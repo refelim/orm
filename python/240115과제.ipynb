{
  "nbformat": 4,
  "nbformat_minor": 0,
  "metadata": {
    "colab": {
      "provenance": []
    },
    "kernelspec": {
      "name": "python3",
      "display_name": "Python 3"
    },
    "language_info": {
      "name": "python"
    }
  },
  "cells": [
    {
      "cell_type": "markdown",
      "source": [
        "`class Commnet`를 작성해주세요.\n",
        "\n",
        "요구사항\n",
        "* 각 댓글은 고유한 ID, 작성자 이름, 댓글 내용, 작성 시간을 가져야 합니다.\n",
        "* 댓글은 하나 이상의 대댓글을 가질 수 있어야 합니다.\n",
        "* 대댓글도 Comment 클래스의 인스턴스로 생성되며, 원 댓글에 종속됩니다.\n",
        "* 시간은 '년-월-일 시:분' 형식으로 표시되어야 합니다.\n",
        "* (선택 과제) 댓글 출력 기능 - 계층적 출력을 해보세요.\n",
        "* (선택 과제)댓글에 대한 좋아요 기능을 추가할 수 있습니다."
      ],
      "metadata": {
        "id": "u3KnzOwKJqEp"
      }
    },
    {
      "cell_type": "code",
      "source": [
        "from datetime import datetime\n",
        "\n",
        "class Comment:\n",
        "    def __init__(self, comment_id, author, content):\n",
        "        self.comment_id = comment_id\n",
        "        self.author = author\n",
        "        self.content = content\n",
        "        self.created_at = datetime.now().strftime(\"%Y-%m-%d %H:%M\")\n",
        "        self.replies = []\n",
        "        self.likes = 0\n",
        "\n",
        "    def add_reply(self, reply):\n",
        "        self.replies.append(reply)\n",
        "\n",
        "    def like_comment(self):\n",
        "        self.likes += 1\n",
        "\n",
        "    def __str__(self):\n",
        "        return f\"ID: {self.comment_id}, Author: {self.author}, Content: {self.content}\" # 이게 안되는 이유는 str로 바꾸지 않아서 그렇다.\n",
        "\n",
        "\n",
        "    def display(self, level=0):\n",
        "        indent = \" \" * (level * 4)  # 계층에 따라 들여쓰기를 조절합니다.\n",
        "        print(f\"{indent}ID: {self.comment_id}\")\n",
        "        print(f\"{indent}Author: {self.author}\")\n",
        "        print(f\"{indent}Time: {self.created_at}\")\n",
        "        print(f\"{indent}Likes: {self.likes}\")\n",
        "        print(f\"{indent}Content: {self.content}\")\n",
        "        for reply in self.replies: #self.replies는 현재 댓글 객체(self)에 연결된 대댓글들의 리스트입니다.\n",
        "            print() # 댓글간 줄바꿈\n",
        "            reply.display(level + 1)\n",
        "\n",
        "# 사용 예시\n",
        "comment1 = Comment(1, \"user1\", \"첫 번째 댓글입니다!\")\n",
        "comment2 = Comment(2, \"user2\", \"첫 번째 댓글에 대한 대댓글이에요.\")\n",
        "comment3 = Comment(3, \"user3\", \"또 다른 대댓글입니다.\")\n",
        "\n",
        "comment1.add_reply(comment2)\n",
        "comment2.add_reply(comment3)\n",
        "print([str(reply) for reply in comment1.replies]) # 출력문\n",
        "\n",
        "comment1.like_comment()\n",
        "comment1.like_comment()  # 댓글에 좋아요를 두 번 눌렀습니다.\n",
        "\n",
        "# 계층적으로 댓글과 대댓글을 출력합니다.\n",
        "comment1.display()"
      ],
      "metadata": {
        "colab": {
          "base_uri": "https://localhost:8080/"
        },
        "id": "gog27fTdJrma",
        "outputId": "b795f15d-9723-4c5a-be53-b9ce79ffcb38"
      },
      "execution_count": null,
      "outputs": [
        {
          "output_type": "stream",
          "name": "stdout",
          "text": [
            "['ID: 2, Author: user2, Content: 첫 번째 댓글에 대한 대댓글이에요.']\n",
            "ID: 1\n",
            "Author: user1\n",
            "Time: 2024-01-16 08:06\n",
            "Likes: 2\n",
            "Content: 첫 번째 댓글입니다!\n",
            "\n",
            "    ID: 2\n",
            "    Author: user2\n",
            "    Time: 2024-01-16 08:06\n",
            "    Likes: 0\n",
            "    Content: 첫 번째 댓글에 대한 대댓글이에요.\n",
            "\n",
            "        ID: 3\n",
            "        Author: user3\n",
            "        Time: 2024-01-16 08:06\n",
            "        Likes: 0\n",
            "        Content: 또 다른 대댓글입니다.\n"
          ]
        }
      ]
    },
    {
      "cell_type": "markdown",
      "source": [
        "안녕하세요 멘토님 질문하나 부탁드리겠습니다\n",
        "어제 comment문제 몰라서 chat-gpt에 물어본 뒤 하나하나 보면서 공부하고 있는데요.\n",
        "\n",
        "해당 코드가 29번 부터 31번줄 까지 있는 for문의 reply가\n",
        "어떤걸 지칭하는지 몰라서 여쭤봅니다.\n",
        "\n",
        "1. comment2 or comment3\n",
        "2. ID: 2, Author: user2, Content: 첫 번째 댓글에 대한 대댓글이에요.\n",
        "3. ID: 2\n",
        "\n",
        "이 3가지 중 하나인거 같은데 여기서 어떤게 답인가요?\n",
        "reply.display(level + 1)와 같이 보니 너무 헷갈립니다"
      ],
      "metadata": {
        "id": "iWaMYgJyLBUi"
      }
    }
  ]
}