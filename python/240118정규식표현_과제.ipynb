{
  "nbformat": 4,
  "nbformat_minor": 0,
  "metadata": {
    "colab": {
      "provenance": []
    },
    "kernelspec": {
      "name": "python3",
      "display_name": "Python 3"
    },
    "language_info": {
      "name": "python"
    }
  },
  "cells": [
    {
      "cell_type": "markdown",
      "source": [
        "# 문제 1: 이메일 주소 변경하기 (sub 사용)\n",
        "문제: 주어진 문자열에서 모든 이메일 주소를 user@weniv.co.kr으로 변경하시오.\n",
        "\n",
        "예시 입력: \"저의 이메일 주소는 kim123@gmail.com입니다. 친구의 이메일 주소는 lee456@gmail.com입니다.\"\n",
        "예시 출력: \"저의 이메일 주소는 user@weniv.co.kr입니다. 친구의 이메일 주소는 user@weniv.co.kr입니다.\"\n",
        "\n",
        "힌트: 이메일 주소를 찾기 위한 정규표현식은 \\b[A-Za-z0-9._%+-]+@[A-Za-z0-9.-]+\\.[A-Z|a-z]{2,}\\b를 사용할 수 있습니다."
      ],
      "metadata": {
        "id": "TqHg3UFcHyh6"
      }
    },
    {
      "cell_type": "code",
      "source": [
        "#* 문제 1\n",
        "\n",
        "import re\n",
        "\n",
        "def change_email_addresses(input_string, new_email):\n",
        "    pattern = r'\\b[A-Za-z0-9._%+-]+@[A-Za-z0-9.-]+\\.[A-Z|a-z]{2,}\\b'\n",
        "    result = re.sub(pattern, new_email, input_string)\n",
        "    return result\n",
        "\n",
        "input_text = \"저의 이메일 주소는 kim123@gmail.com 입니다. 친구의 이메일 주소는 lee456@gmail.com 입니다.\"\n",
        "new_email_address = \"user@weniv.co.kr\"\n",
        "\n",
        "output_text = change_email_addresses(input_text, new_email_address)\n",
        "print(output_text)"
      ],
      "metadata": {
        "colab": {
          "base_uri": "https://localhost:8080/"
        },
        "id": "M2TIG14qHLF8",
        "outputId": "4654c4d6-d96d-43d7-f7ce-12468c14c105"
      },
      "execution_count": 3,
      "outputs": [
        {
          "output_type": "stream",
          "name": "stdout",
          "text": [
            "저의 이메일 주소는 user@weniv.co.kr 입니다. 친구의 이메일 주소는 user@weniv.co.kr 입니다.\n"
          ]
        }
      ]
    },
    {
      "cell_type": "markdown",
      "source": [
        "# 문제 2: HTML 태그 제거하기 (sub 사용)\n",
        "문제: 주어진 HTML 문자열에서 모든 HTML 태그를 제거하고 텍스트만 남기시오.\n",
        "\n",
        "예시 입력: \"<p>이것은 <b>예시</b> 문장입니다.</p>\"\n",
        "예시 출력: \"이것은 예시 문장입니다.\"\n",
        "\n",
        "힌트: HTML 태그를 찾기 위한 정규표현식은 <[^>]+>를 사용할 수 있습니다."
      ],
      "metadata": {
        "id": "HPC6012dH1ey"
      }
    },
    {
      "cell_type": "code",
      "execution_count": 4,
      "metadata": {
        "colab": {
          "base_uri": "https://localhost:8080/"
        },
        "id": "gH6qOHbwHFpw",
        "outputId": "29fdac99-7833-430d-81bd-ca6d2454d423"
      },
      "outputs": [
        {
          "output_type": "stream",
          "name": "stdout",
          "text": [
            "이것은 예시 문장입니다.\n"
          ]
        }
      ],
      "source": [
        "#* 문제 2\n",
        "import re\n",
        "\n",
        "def remove_html_tags(input_string):\n",
        "    pattern = r'<[^>]+>'\n",
        "    result = re.sub(pattern, '', input_string)\n",
        "    return result\n",
        "\n",
        "input_html = \"<p>이것은 <b>예시</b> 문장입니다.\"\n",
        "output_text = remove_html_tags(input_html)\n",
        "print(output_text)\n"
      ]
    }
  ]
}