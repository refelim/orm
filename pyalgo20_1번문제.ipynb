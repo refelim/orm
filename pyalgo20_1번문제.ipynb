{
  "nbformat": 4,
  "nbformat_minor": 0,
  "metadata": {
    "colab": {
      "provenance": []
    },
    "kernelspec": {
      "name": "python3",
      "display_name": "Python 3"
    },
    "language_info": {
      "name": "python"
    }
  },
  "cells": [
    {
      "cell_type": "code",
      "execution_count": null,
      "metadata": {
        "id": "BYJ4vu29nMKQ"
      },
      "outputs": [],
      "source": [
        "def solution(data):\n",
        "    result = ''\n",
        "    for string in data:\n",
        "        # 공백 제거\n",
        "        string = string.replace(' ', '')\n",
        "        # +를 1로, -를 0으로 변환\n",
        "        binary = string.replace('+', '1').replace('-', '0')\n",
        "        # 이진수를 10진수로 변환\n",
        "        decimal = int(binary, 2)\n",
        "        # ASCII 코드를 문자로 변환\n",
        "        char = chr(decimal)\n",
        "        result += char\n",
        "    return result"
      ]
    }
  ]
}