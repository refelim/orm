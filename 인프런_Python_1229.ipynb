{
  "nbformat": 4,
  "nbformat_minor": 0,
  "metadata": {
    "colab": {
      "provenance": []
    },
    "kernelspec": {
      "name": "python3",
      "display_name": "Python 3"
    },
    "language_info": {
      "name": "python"
    }
  },
  "cells": [
    {
      "cell_type": "code",
      "execution_count": 9,
      "metadata": {
        "colab": {
          "base_uri": "https://localhost:8080/"
        },
        "id": "vhHSTBts-EsX",
        "outputId": "18a1a326-5b7a-4637-b70c-9fc408ad7564"
      },
      "outputs": [
        {
          "output_type": "execute_result",
          "data": {
            "text/plain": [
              "1543"
            ]
          },
          "metadata": {},
          "execution_count": 9
        }
      ],
      "source": [
        "#1. 왕의 충성스런 신하는 아래와 같다. 왕의 신하가 총 몇 명인지 구하라.\n",
        "신하 = {\n",
        "    '하이에나' : 1121,\n",
        "    '코뿔소' : 122,\n",
        "    '코끼리' : 88,\n",
        "    '기린' : 119,\n",
        "    '독수리' : 62,\n",
        "    '고양이' : 31\n",
        "}\n",
        "\n",
        "# 나의 답 :\n",
        "sum(신하.values())\n",
        "\n",
        "# 강사의 답 :\n",
        "for i in 신하:\n",
        "    print(f'{i} : {신하[i]}')\n",
        "    모든_신하의_합 += 신하[i]\n",
        "\n",
        "print(모든_신하의_합)\n"
      ]
    },
    {
      "cell_type": "code",
      "source": [
        "# 2. 이웃 왕국의 침략이 있어 출전 준비를 해야한다.\n",
        "# 100명 이상인 좋은 출전을 100명 이하인 종은 왕국을 수호\n",
        "# 출전 신하는 몇 명이고, 왕국을 수호하는 신하는 몇 명인가?\n",
        "\n",
        "신하 = {\n",
        "    '하이에나' : 1121,\n",
        "    '코뿔소' : 122,\n",
        "    '코끼리' : 88,\n",
        "    '기린' : 119,\n",
        "    '독수리' : 62,\n",
        "    '고양이' : 31\n",
        "}\n",
        "\n",
        "# 나의 답\n",
        "출전_신하 = 0\n",
        "수호_신하 = 0\n",
        "모든_신하의_답 = 0\n",
        "\n",
        "for i in 신하 :\n",
        "    if 신하[i] >= 100 :\n",
        "        출전_신하 += 신하[i]\n",
        "    else :\n",
        "        수호_신하 += 신하[i]\n",
        "print(출전_신하)\n",
        "print(수호_신하)\n",
        "\n",
        "# 강사의 답:\n",
        "print(f'모든_신하의_합: {모든_신하의_합}')\n",
        "print(f'출전_신하 : {출전_신하}')\n",
        "print(f'수호_신하 : {수호_신하}')\n",
        "print(모든_신하의_합  == 출전하는_신하 + 왕국을_수호하는_신하)"
      ],
      "metadata": {
        "colab": {
          "base_uri": "https://localhost:8080/"
        },
        "id": "1DYdJENmidKT",
        "outputId": "c8ed384f-bbaf-42fe-8c33-ec156284ca46"
      },
      "execution_count": 13,
      "outputs": [
        {
          "output_type": "stream",
          "name": "stdout",
          "text": [
            "1362\n",
            "181\n"
          ]
        }
      ]
    },
    {
      "cell_type": "code",
      "source": [
        "# 3. 침략을 방어하고, 출전 했던 신하들은 각각80%라는 손실을 입음\n",
        "# 왕국을 수호하는 신하까지 총 얼마의 신하가 남아있나요\n",
        "\n",
        "신하 = {\n",
        "    '하이에나' : 1121,\n",
        "    '코뿔소' : 122,\n",
        "    '코끼리' : 88,\n",
        "    '기린' : 119,\n",
        "    '독수리' : 62,\n",
        "    '고양이' : 31\n",
        "}\n",
        "\n",
        "# 나의 답\n",
        "출전_신하 = 0\n",
        "수호_신하 = 0\n",
        "\n",
        "for i in 신하 :\n",
        "    if 신하[i] >= 100 :\n",
        "        출전_신하 += 신하[i]\n",
        "    else :\n",
        "        수호_신하 += 신하[i]\n",
        "\n",
        "print('돌아온 출전 신하',int(출전_신하 * 0.2))\n",
        "print('돌아온 수호 신하',int(수호_신하 * 0.2))\n",
        "print('남은 전체 신하',int(수호_신하 * 0.2)+int(출전_신하 * 0.2))\n",
        "\n",
        "# 강사의 답\n",
        "\n",
        "출전_신하 = 0\n",
        "수호_신하 = 0\n",
        "출전_후_돌아온_신하 = 0\n",
        "\n",
        "for i in 신하 :\n",
        "    if 신하[i] >= 100 :\n",
        "        출전_신하 += 신하[i]\n",
        "        출전_후_돌아온_신하 += 신하[i] * 0.2\n",
        "    else :\n",
        "        수호_신하 += 신하[i]\n",
        "\n",
        "print(출전_신하)\n",
        "print(수호_신하)\n",
        "print(f'출전_후_돌아온_신하 : {int(출전_후_돌아온_신하)}',)\n",
        "print(f'사상자 : {출전_신하 - int(출전_후_돌아온_신하)}')\n",
        "print('남은 전체 신하',int(수호_신하)+int(출전_후_돌아온_신하 * 0.2))"
      ],
      "metadata": {
        "colab": {
          "base_uri": "https://localhost:8080/"
        },
        "id": "LlFDfJlWnXPL",
        "outputId": "05051e51-55c8-4a29-aee3-18fcb8debc27"
      },
      "execution_count": 24,
      "outputs": [
        {
          "output_type": "stream",
          "name": "stdout",
          "text": [
            "1362\n",
            "181\n",
            "출전_후_돌아온_신하 : 272\n",
            "사상자 : 1090\n",
            "남은 전체 신하 235\n"
          ]
        }
      ]
    },
    {
      "cell_type": "code",
      "source": [],
      "metadata": {
        "id": "QNv3ehPdroM7"
      },
      "execution_count": null,
      "outputs": []
    }
  ]
}