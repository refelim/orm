{
  "nbformat": 4,
  "nbformat_minor": 0,
  "metadata": {
    "colab": {
      "provenance": []
    },
    "kernelspec": {
      "name": "python3",
      "display_name": "Python 3"
    },
    "language_info": {
      "name": "python"
    }
  },
  "cells": [
    {
      "cell_type": "code",
      "execution_count": 2,
      "metadata": {
        "id": "450NKnSpCz8P"
      },
      "outputs": [],
      "source": [
        "# 1번 문제\n",
        "\n",
        "def solution(data):\n",
        "    sum_data = []\n",
        "    for i in data :\n",
        "        if i % 2 != 0 :\n",
        "        \tsum_data.append(i)\n",
        "    return sum(sum_data)"
      ]
    },
    {
      "cell_type": "code",
      "source": [
        "# 2번 문제\n",
        "\n",
        "def solution(data):\n",
        "    a = 1\n",
        "    for i in data :\n",
        "        a *= i\n",
        "    return a\n",
        "\n",
        "solution([3, 5, 7, 1])\n",
        "\n",
        "# data가 빈 값이면 0으로 하자\n",
        "\n",
        "def solution(data):\n",
        "    a = 1\n",
        "\n",
        "    if not data :\n",
        "        a = 0\n",
        "\n",
        "    for i in data :\n",
        "        a *= i\n",
        "    return a\n",
        "\n",
        "solution([])\n",
        "\n"
      ],
      "metadata": {
        "colab": {
          "base_uri": "https://localhost:8080/"
        },
        "id": "3pgXM-78C0og",
        "outputId": "de70e49f-a76b-4b50-bc96-f54a41b6d04f"
      },
      "execution_count": 17,
      "outputs": [
        {
          "output_type": "execute_result",
          "data": {
            "text/plain": [
              "0"
            ]
          },
          "metadata": {},
          "execution_count": 17
        }
      ]
    },
    {
      "cell_type": "code",
      "source": [
        "# 3번 문제\n",
        "# 왜 or이 아니고 and일까 다시 생각\n",
        "def solution(data):\n",
        "    pocket = []\n",
        "\n",
        "    for i in data :\n",
        "        if (i % 3 != 0) or (i % 5 != 0) : # 두 개를 한꺼번에 보지 않는다???\n",
        "            pocket.append(i)\n",
        "    print(pocket)\n",
        "    return sum(pocket)\n",
        "\n",
        "# 3번 문제 답\n",
        "def solution(lst):\n",
        "    return sum(i for i in lst if i % 3 != 0 and i % 5 != 0)\n",
        "lst = [1, 2, 3, 4, 5]\n",
        "print(solution(lst))"
      ],
      "metadata": {
        "colab": {
          "base_uri": "https://localhost:8080/"
        },
        "id": "2UJV1I3_FJ2e",
        "outputId": "40b9070d-dc6e-48f6-83e0-a17949e848e0"
      },
      "execution_count": 28,
      "outputs": [
        {
          "output_type": "stream",
          "name": "stdout",
          "text": [
            "[1, 2, 4]\n"
          ]
        },
        {
          "output_type": "execute_result",
          "data": {
            "text/plain": [
              "7"
            ]
          },
          "metadata": {},
          "execution_count": 28
        }
      ]
    },
    {
      "cell_type": "code",
      "source": [
        "# 동기의 해답 참고\n",
        "data = list(range(1,101))\n",
        "\n",
        "def solution(data):\n",
        "    if not data:\n",
        "        return 0\n",
        "\n",
        "    return sum(filter(lambda x: x%3 or x%5 !=0, data))\n",
        "\n",
        "# print(data)\n",
        "print(solution(data))   # or = 4735 , and = 2632\n",
        "print(sum(data))    # 1~100까지 총 합 = 5050\n",
        "# print(sum(i for i in data if i%5 != 0)) # 4000\n",
        "# print(sum(i for i in data if i%3 != 0)) # 3367\n",
        "# print(sum(i for i in data if i%5 == 0)) # 5의 배수 = 1050\n",
        "# print(sum(i for i in data if i%3 == 0)) # 3의 배수 = 1683\n",
        "print(sum(i for i in data if i%15 == 0))    # 15의 배수 = 315\n",
        "# or로 계산하면 15의배수만 제외하고 모든 수를 더합니다!"
      ],
      "metadata": {
        "id": "_1wsKnY6aJ85"
      },
      "execution_count": null,
      "outputs": []
    },
    {
      "cell_type": "code",
      "source": [
        "# 4번 문제\n",
        "# for문 순회 갯수 세기\n",
        "\n",
        "def solution(data) :\n",
        "    # 순회 갯수 세기\n",
        "    repeat = 0\n",
        "    # 누적합\n",
        "    result = 0\n",
        "\n",
        "    for i in data :\n",
        "        k = int(i[3])\n",
        "        repeat += 1\n",
        "        result += k*repeat\n",
        "\n",
        "    return result\n",
        "\n",
        "solution(['쿠키 3개', '쿠키 2개', '쿠키 5개'])"
      ],
      "metadata": {
        "colab": {
          "base_uri": "https://localhost:8080/"
        },
        "id": "axQMVcyUKcXl",
        "outputId": "d4d50e47-dfb9-4e69-ea80-fbe3993b09da"
      },
      "execution_count": 40,
      "outputs": [
        {
          "output_type": "execute_result",
          "data": {
            "text/plain": [
              "22"
            ]
          },
          "metadata": {},
          "execution_count": 40
        }
      ]
    },
    {
      "cell_type": "code",
      "source": [
        "# 문제 5번 해답\n",
        "# int -> str -> list 하면 잘게 쪼게짐\n",
        "#\n",
        "def solution(data):\n",
        "    count = 0\n",
        "    for i in data :\n",
        "        digit = list(str(i))\n",
        "        count += digit.count('1')\n",
        "    print(count)\n",
        "\n",
        "# 처음에 이 답 생각함\n",
        "# 여기서 extend와 append 차이 발견\n",
        "# extend는 이터러블한 객체 넣고, append는 그냥 다 넣어버림(중괄호 포함)\n",
        "\n",
        "def solution(data) :\n",
        "\n",
        "    result = []\n",
        "    for i in data :\n",
        "        k = list(str(data))\n",
        "        result.expend(k)\n",
        "    print(solution)\n"
      ],
      "metadata": {
        "colab": {
          "base_uri": "https://localhost:8080/"
        },
        "id": "2W_qGGSdik7g",
        "outputId": "2ef996d0-4a88-4e9b-b4d8-2e76475d96fe"
      },
      "execution_count": 64,
      "outputs": [
        {
          "output_type": "stream",
          "name": "stdout",
          "text": [
            "5\n"
          ]
        }
      ]
    },
    {
      "cell_type": "code",
      "source": [
        "# 문제 6번 해답\n",
        "# 리스트리프리헨션, isdigit()활용\n",
        "# 바로 int로 변환하면 오류생김\n",
        "\n",
        "a = '1hel2lo3'\n",
        "numbers = [int(char) for char in a if char.isdigit()]\n",
        "print(numbers)"
      ],
      "metadata": {
        "colab": {
          "base_uri": "https://localhost:8080/"
        },
        "id": "ZRGuAUsGkzh4",
        "outputId": "51e9659d-39f4-4d67-a300-3af816803b8c"
      },
      "execution_count": 69,
      "outputs": [
        {
          "output_type": "stream",
          "name": "stdout",
          "text": [
            "[1, 2, 3]\n"
          ]
        }
      ]
    },
    {
      "cell_type": "code",
      "source": [
        "# 문제 7번\n",
        "# sorted와 sort의 차이\n",
        "# sorted에서 lambda란?\n",
        "\n",
        "\n",
        "def solution(data) :\n",
        "    dataed = sorted(data, key = lambda x : x[1])\n",
        "    # dataed = data.sort(lambda x : x[1])\n",
        "    result = [ i[0] for i in dataed ]\n",
        "    return result\n",
        "\n",
        "solution([['A', 3], ['B', 1], ['C', 2]])\n",
        "\n",
        "\n",
        "# 나의 답\n",
        "data = [['A', 3], ['B', 1], ['C', 2]]\n",
        "# data[0][0]\n",
        "# data[1][0]\n",
        "# data[2][0]\n",
        "result = []\n",
        "repeat = 0\n",
        "for i in data :\n",
        "    solution = data[repeat][0]\n",
        "    repeat += 1\n",
        "    result.append(solution)\n",
        "print(result) # sorted 익숙하지 않아 못 품"
      ],
      "metadata": {
        "colab": {
          "base_uri": "https://localhost:8080/"
        },
        "id": "pUWPJqreuja_",
        "outputId": "e19fb542-8bf2-406e-866f-6de62d09cfd7"
      },
      "execution_count": 88,
      "outputs": [
        {
          "output_type": "execute_result",
          "data": {
            "text/plain": [
              "['B', 'C', 'A']"
            ]
          },
          "metadata": {},
          "execution_count": 88
        }
      ]
    },
    {
      "cell_type": "code",
      "source": [],
      "metadata": {
        "id": "UbtC8_Lz0QNj"
      },
      "execution_count": null,
      "outputs": []
    }
  ]
}