{
  "nbformat": 4,
  "nbformat_minor": 0,
  "metadata": {
    "colab": {
      "provenance": []
    },
    "kernelspec": {
      "name": "python3",
      "display_name": "Python 3"
    },
    "language_info": {
      "name": "python"
    }
  },
  "cells": [
    {
      "cell_type": "code",
      "execution_count": null,
      "metadata": {
        "colab": {
          "base_uri": "https://localhost:8080/"
        },
        "id": "toHZeozKrb1G",
        "outputId": "c3951d0f-a604-4c00-ec61-739d136bab94"
      },
      "outputs": [
        {
          "output_type": "stream",
          "name": "stdout",
          "text": [
            "a b c\n",
            "a\n",
            "b\n",
            "c\n",
            "d e f\n",
            "d\n",
            "e\n",
            "f\n",
            "g h i\n",
            "g\n",
            "h\n",
            "i\n"
          ]
        }
      ],
      "source": [
        "# 복합 순회형 자료 for문\n",
        "for i, j, k in ['abc', 'def', 'ghi']:\n",
        "    print(i,j,k)\n",
        "    print(i)\n",
        "    print(j)\n",
        "    print(k)\n",
        "\n"
      ]
    },
    {
      "cell_type": "code",
      "source": [
        "for i in ['abc'] :\n",
        "    print(i)"
      ],
      "metadata": {
        "colab": {
          "base_uri": "https://localhost:8080/"
        },
        "id": "6dxSBolbr4Qa",
        "outputId": "61cfbe5a-1b85-43a0-e6ac-963be8708260"
      },
      "execution_count": null,
      "outputs": [
        {
          "output_type": "stream",
          "name": "stdout",
          "text": [
            "abc\n"
          ]
        }
      ]
    },
    {
      "cell_type": "code",
      "source": [
        "# 내가 의도하지 않은 오류가 어떤 것인지 알려드림\n",
        "\n",
        "class 캐릭터 :\n",
        "\n",
        "    def __eq__(self, other) :\n",
        "        return True\n",
        "\n",
        "# 매직 메서드 __eq__ 는 비교연산이 가능하게 해주는 것입니다.  하지만 모두 True로 출력\n",
        "# 주인공이나 보스가 None, 즉 비어있는 상태는 아니라는 것이죠\n",
        "# 따라서 등호보다는 is연산을 통해 None을 확인하세요?\n",
        "\n",
        "\n",
        "주인공 = 캐릭터()\n",
        "보스 = 캐릭터()\n",
        "\n",
        "print(주인공 == None)\n",
        "print(주인공 == 100)\n",
        "print(주인공 == 보스)\n",
        "print(주인공 == None)\n"
      ],
      "metadata": {
        "colab": {
          "base_uri": "https://localhost:8080/"
        },
        "id": "murukenfr9Zq",
        "outputId": "a9a54d7b-b329-40de-f981-5d2f8be9d337"
      },
      "execution_count": null,
      "outputs": [
        {
          "output_type": "stream",
          "name": "stdout",
          "text": [
            "True\n",
            "True\n",
            "True\n",
            "True\n"
          ]
        }
      ]
    },
    {
      "cell_type": "code",
      "source": [
        "class 항상동일 :\n",
        "    def __eq__(self, other) : ## 등호 == 를 무조건 True 값을 반환하게 임의로 조정\n",
        "        return True\n",
        "\n",
        "객체1 = 항상동일()\n",
        "객체2 = 항상동일()\n",
        "\n",
        "print(객체1 == 객체2)\n",
        "print(객체1 == 123)\n",
        "print(객체1 == None)\n",
        "print(객체1 == 객체1)\n",
        "\n",
        "print(객체1 is 객체2)\n",
        "print(객체1 is 123)\n",
        "print(객체1 is None)\n",
        "print(객체1 is 객체1)\n",
        "\n",
        "# 하지만 is는 객체의 정체성을 비교, x is None은 x가 정말로 None인지를 정확하게 비교(메모리 주소 비교)\n"
      ],
      "metadata": {
        "colab": {
          "base_uri": "https://localhost:8080/"
        },
        "id": "iu4qIZ1owSVH",
        "outputId": "ac5995ec-b95f-48b6-9be1-0f7bfb571ce3"
      },
      "execution_count": null,
      "outputs": [
        {
          "output_type": "stream",
          "name": "stdout",
          "text": [
            "True\n",
            "True\n",
            "True\n",
            "True\n",
            "False\n",
            "False\n",
            "False\n",
            "True\n"
          ]
        },
        {
          "output_type": "stream",
          "name": "stderr",
          "text": [
            "<>:14: SyntaxWarning: \"is\" with a literal. Did you mean \"==\"?\n",
            "<>:14: SyntaxWarning: \"is\" with a literal. Did you mean \"==\"?\n",
            "<ipython-input-9-3e3ffe73c9d5>:14: SyntaxWarning: \"is\" with a literal. Did you mean \"==\"?\n",
            "  print(객체1 is 123)\n"
          ]
        }
      ]
    },
    {
      "cell_type": "code",
      "source": [
        "class Car :\n",
        "    def __init__(self, model) : # 객체를 초기화할 때 사용합니다.\n",
        "        self.model = model\n",
        "\n",
        "    def __eq__(self, other) : # 두 자동차 객체가 같은 모델인지 비교할 때 사용합니다.\n",
        "        return self.model == other.model\n",
        "\n",
        "car1 = Car(\"Toyota\")\n",
        "car2 = Car(\"Toyota\")\n",
        "car3 = Car(\"Honda\")\n",
        "\n",
        "print(car1 == car2) # True, 같은 모델이기에\n",
        "print(car1 == car3) # False, 다른 모델이기에\n",
        "\n",
        "print(car1 is car2) # False, car1과 car2는 다른 객체입니다."
      ],
      "metadata": {
        "colab": {
          "base_uri": "https://localhost:8080/"
        },
        "id": "TorIH1jhwAzm",
        "outputId": "7811bba2-a2eb-4e50-88d6-4ab1574c5c3b"
      },
      "execution_count": null,
      "outputs": [
        {
          "output_type": "stream",
          "name": "stdout",
          "text": [
            "True\n",
            "False\n",
            "False\n"
          ]
        }
      ]
    },
    {
      "cell_type": "markdown",
      "source": [
        "## 결론\n",
        "\n",
        "* == 연산자 : 두 객체의 값을 비교합니다__eq__메서드를 통해 모델 이름을 비교합니다\n",
        "\n",
        "* is 연산자 : 두 객체의 식별자(메모리 주소)를 비교합니다. 같은 객체인지를 판단합니다."
      ],
      "metadata": {
        "id": "YqZoRB_31XgD"
      }
    },
    {
      "cell_type": "code",
      "source": [],
      "metadata": {
        "id": "peSdQdbn1mwf"
      },
      "execution_count": null,
      "outputs": []
    }
  ]
}