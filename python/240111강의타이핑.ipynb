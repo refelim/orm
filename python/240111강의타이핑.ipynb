{
  "nbformat": 4,
  "nbformat_minor": 0,
  "metadata": {
    "colab": {
      "provenance": []
    },
    "kernelspec": {
      "name": "python3",
      "display_name": "Python 3"
    },
    "language_info": {
      "name": "python"
    }
  },
  "cells": [
    {
      "cell_type": "markdown",
      "source": [
        "# Top3 - 1. map에서 사용"
      ],
      "metadata": {
        "id": "y_Lv5SYZphB8"
      }
    },
    {
      "cell_type": "code",
      "source": [
        "add = lambda x, y : x + y"
      ],
      "metadata": {
        "id": "YFWMImc7pglI"
      },
      "execution_count": null,
      "outputs": []
    },
    {
      "cell_type": "code",
      "source": [
        "# 코드가 이해가 안된다 -> 이해할려고 노력하는 것 보다는\n",
        "# 예제를 30개 정도 만들어보시는 것을 권함\n",
        "# Django 어려우면 30개 만들라\n",
        "# lambda 어려우면 30개 만들라\n"
      ],
      "metadata": {
        "id": "E37AqYOxpwV-"
      },
      "execution_count": null,
      "outputs": []
    },
    {
      "cell_type": "code",
      "source": [
        "x = 10\n",
        "y = True if x % 2 == 0 else False\n",
        "\n",
        "y\n",
        "\n",
        "# 재사용 할 것이면 이렇게 함수로\n",
        "\n",
        "def 제곱(x) :\n",
        "    return x ** 2\n",
        "\n",
        "list(map(제곱, [1,2,3,4]))"
      ],
      "metadata": {
        "id": "FBCu6lAep83N"
      },
      "execution_count": null,
      "outputs": []
    },
    {
      "cell_type": "code",
      "source": [
        "# 재사용 하지 않을 것이면 이렇게 lambda로!\n",
        "# lambda가 실무에서 좀 더 많이 사용 됩니다\n",
        "# 수식이 복잡해지면 재사용과 별개료 lambda로 했을 경우 가독성이 떨어지는경우\n",
        "# 이럴 때에는 함수로 뺴기도 합니다\n",
        "\n",
        "list(map(lambda x : x **2, [1,2,3,4]))\n"
      ],
      "metadata": {
        "colab": {
          "base_uri": "https://localhost:8080/"
        },
        "id": "UbX08gNqqP3W",
        "outputId": "ae20fe76-f518-40a0-ed14-55caa3270343"
      },
      "execution_count": null,
      "outputs": [
        {
          "output_type": "execute_result",
          "data": {
            "text/plain": [
              "[1, 4, 9, 16]"
            ]
          },
          "metadata": {},
          "execution_count": 63
        }
      ]
    },
    {
      "cell_type": "code",
      "source": [
        "list(map(lambda x : True if x % 2 == 0 else False, [1,2,3,4])) # 마스킹 필터링"
      ],
      "metadata": {
        "colab": {
          "base_uri": "https://localhost:8080/"
        },
        "id": "TFCF_skYqkL1",
        "outputId": "f4a6858f-4e26-45c5-ecbe-d61093db67b1"
      },
      "execution_count": null,
      "outputs": [
        {
          "output_type": "execute_result",
          "data": {
            "text/plain": [
              "[False, True, False, True]"
            ]
          },
          "metadata": {},
          "execution_count": 64
        }
      ]
    },
    {
      "cell_type": "markdown",
      "source": [
        "# Top3 - 2.filter사용"
      ],
      "metadata": {
        "id": "1vcnjdmDIDEs"
      }
    },
    {
      "cell_type": "code",
      "execution_count": null,
      "metadata": {
        "id": "Xo6eROYfGp1u"
      },
      "outputs": [],
      "source": [
        "# filter는 True 인 것만 출력합니다\n",
        "list(filter(lambda x : x % 3 == 0, range(100)))"
      ]
    },
    {
      "cell_type": "code",
      "source": [
        "list(filter(lambda x : x> 50 and x< 80, range(100)))"
      ],
      "metadata": {
        "id": "Q_qtl9KOG7sE"
      },
      "execution_count": null,
      "outputs": []
    },
    {
      "cell_type": "code",
      "source": [
        "list(filter(lambda x : True if x % 3 == 0 or x % 5 == 0 else False, range(100))) #3의 배수 5의 배수"
      ],
      "metadata": {
        "id": "Y7rkhHH8HKkl"
      },
      "execution_count": null,
      "outputs": []
    },
    {
      "cell_type": "code",
      "source": [
        "# list(filter(lambda x : x % 2 == 0 , range(100)))\n",
        "list(filter(lambda x : x % 2, range(100))) # 홀수를 ?"
      ],
      "metadata": {
        "id": "aRFJmZHAHa98"
      },
      "execution_count": null,
      "outputs": []
    },
    {
      "cell_type": "code",
      "source": [
        "list(lambda x : x % 2, range(100)) # lambda를 출력할려면?"
      ],
      "metadata": {
        "id": "m4QEtw8pIBLd"
      },
      "execution_count": null,
      "outputs": []
    },
    {
      "cell_type": "markdown",
      "source": [
        "### 원래 람다 함수는요"
      ],
      "metadata": {
        "id": "ZDoZNja5QZM9"
      }
    },
    {
      "cell_type": "code",
      "source": [
        "홀수 = lambda x, y : x + y\n",
        "홀수(3,5)"
      ],
      "metadata": {
        "id": "npYVD8-KIePd"
      },
      "execution_count": null,
      "outputs": []
    },
    {
      "cell_type": "code",
      "source": [
        "test = lambda i:i % 2 == 0\n",
        "[test(i), ]"
      ],
      "metadata": {
        "id": "E1dukso7Kf0p"
      },
      "execution_count": null,
      "outputs": []
    },
    {
      "cell_type": "markdown",
      "source": [
        "# Top3 - 3. sorted에서 사용"
      ],
      "metadata": {
        "id": "ecs3GDPHIqsq"
      }
    },
    {
      "cell_type": "code",
      "source": [
        "sorted() # key, reverse 옵션을 정말 정말 많이 사용합니다\n",
        "# 알고리즘 문제에서 단골 문제이고, sorted 문제는 1 문제는 거의 출제된다고 보시면 됩니다.\n",
        "# 최댓값\n",
        "# 최솟값\n",
        "# 카카오테스트는 LEV 4 까지 준비하면 됩니다"
      ],
      "metadata": {
        "id": "V-3xwoYFIwtz"
      },
      "execution_count": null,
      "outputs": []
    },
    {
      "cell_type": "code",
      "source": [
        "# 아래와 같은 형식으로 반별 점수가 주어진다면\n",
        "\n",
        "반별점수 = [\n",
        "    ['이름','국어','영어','수학'],\n",
        "    ['이름','국어','영어','수학'],\n",
        "    ['이름','국어','영어','수학'],\n",
        "    ['이름','국어','영어','수학'],\n",
        "\n",
        "]"
      ],
      "metadata": {
        "id": "GaCczZpDLNsq"
      },
      "execution_count": null,
      "outputs": []
    },
    {
      "cell_type": "code",
      "source": [
        "# 아래와 같은 형식으로 반별 점수가 주어진다면\n",
        "\n",
        "반별점수 = [\n",
        "    ['홍길동',30,55,22],\n",
        "    ['홍춘향',55,60,73],\n",
        "    ['이철수',32,65,68],\n",
        "    ['이호준',92,11,95],\n",
        "]"
      ],
      "metadata": {
        "id": "oiKsKqEpLc3z"
      },
      "execution_count": null,
      "outputs": []
    },
    {
      "cell_type": "code",
      "source": [
        "sorted(반별점수) # 값이나 0번째 값 기준으로 정렬합니다"
      ],
      "metadata": {
        "id": "jv7T-jI6MAd5"
      },
      "execution_count": null,
      "outputs": []
    },
    {
      "cell_type": "code",
      "source": [
        "# 수학점수대로 정렬하기\n",
        "\n",
        "def 함수(x) :\n",
        "    return x[3]\n",
        "\n",
        "sorted(반별점수, key = 함수) # 가장 중요한 것은 이 key함수의 return 값대로 정렬한다는 것입니다!\n"
      ],
      "metadata": {
        "id": "AmX0qoZ6MEta"
      },
      "execution_count": null,
      "outputs": []
    },
    {
      "cell_type": "code",
      "source": [
        "sorted(반별점수, key = lambda x : x[2])"
      ],
      "metadata": {
        "id": "NEmbngyYMky5"
      },
      "execution_count": null,
      "outputs": []
    },
    {
      "cell_type": "code",
      "source": [
        "# 문제 : 영어 점수대로 출력해주세요\n",
        "# 정답 :\n",
        "\n",
        "sorted(반별점수, key = lambda x : x[2])"
      ],
      "metadata": {
        "colab": {
          "base_uri": "https://localhost:8080/"
        },
        "id": "RFgU60hJOu62",
        "outputId": "09df2c23-49ef-4d54-c99b-c6e7bd90b5a7"
      },
      "execution_count": null,
      "outputs": [
        {
          "output_type": "execute_result",
          "data": {
            "text/plain": [
              "[['이호준', 92, 11, 95],\n",
              " ['홍길동', 30, 55, 22],\n",
              " ['홍춘향', 55, 60, 73],\n",
              " ['이철수', 32, 65, 68]]"
            ]
          },
          "metadata": {},
          "execution_count": 22
        }
      ]
    },
    {
      "cell_type": "code",
      "source": [
        "# 문제 : 국, 영, 수, 평균 점수대로 출력해주세요\n",
        "# 정답 :\n",
        "sorted(반별점수, key = lambda x : x[1]+ x[2] + x[3]) # 나눌 필요 없고 총점이 가장 높은 사람이 이깁니다\n"
      ],
      "metadata": {
        "colab": {
          "base_uri": "https://localhost:8080/"
        },
        "id": "bXm9rZfLQyFN",
        "outputId": "5ba784df-ee4c-4ccc-d810-60df17f61b9b"
      },
      "execution_count": null,
      "outputs": [
        {
          "output_type": "execute_result",
          "data": {
            "text/plain": [
              "[['홍길동', 30, 55, 22],\n",
              " ['이철수', 32, 65, 68],\n",
              " ['홍춘향', 55, 60, 73],\n",
              " ['이호준', 92, 11, 95]]"
            ]
          },
          "metadata": {},
          "execution_count": 26
        }
      ]
    },
    {
      "cell_type": "code",
      "source": [
        "# 문제가 살짝 어려워집니다\n",
        "# 동점자인 경우 수학 점수를 우선순위로 두겠습니다!\n",
        "\n",
        "반별점수 = [\n",
        "    ['홍길동', 50, 50, 50],\n",
        "    ['이철수', 45, 50, 55],\n",
        "    ['홍춘향', 60, 35, 75],\n",
        "    ['이호준', 92, 11, 95],\n",
        "]\n",
        "\n",
        "sorted(반별점수, key = lambda x : (x[1] + x[2] + x[3], x[0]), reverse =True)"
      ],
      "metadata": {
        "id": "rZuiYf8OQ7Sc"
      },
      "execution_count": null,
      "outputs": []
    },
    {
      "cell_type": "code",
      "source": [
        "우편번호 = [\n",
        "    {\n",
        "        '주소' : '경기도 용인시',\n",
        "        '우편번호' : 321\n",
        "    }\n",
        "    {\n",
        "        '주소' : '경기도 수원시',\n",
        "        '우편번호' : 355\n",
        "    }\n",
        "    {\n",
        "        '주소' : '제주특별자치도 제주시',\n",
        "        '우편번호' : 333\n",
        "    }\n",
        "]\n",
        "\n",
        "# sorted(우편번호) # error, 비교를 할 수 없다\n",
        "sorted(우편번호, key = lambda x : x['우편번호'])\n"
      ],
      "metadata": {
        "id": "ZsNyjUWMUD_0"
      },
      "execution_count": null,
      "outputs": []
    },
    {
      "cell_type": "code",
      "source": [
        "# 다음 입사문제\n",
        "# 직선에 있는 점의 좌표입니다\n",
        "# 점과 점 사이가 가장 짧은 점의 쌍을 출력하세요\n",
        "\n",
        "s = [1,3,4,8,1,14,17,20]\n",
        "s[1:]\n"
      ],
      "metadata": {
        "colab": {
          "base_uri": "https://localhost:8080/"
        },
        "id": "zA-hBnGrVXCb",
        "outputId": "aca1992f-3b0f-4cf8-e754-157caac53864"
      },
      "execution_count": null,
      "outputs": [
        {
          "output_type": "execute_result",
          "data": {
            "text/plain": [
              "[3, 4, 8, 1, 14, 17, 20]"
            ]
          },
          "metadata": {},
          "execution_count": 32
        }
      ]
    },
    {
      "cell_type": "code",
      "source": [
        "list(zip(s, s[1:]))"
      ],
      "metadata": {
        "colab": {
          "base_uri": "https://localhost:8080/"
        },
        "id": "DtVMCTXaWN71",
        "outputId": "90d5a01d-06ad-432f-e57e-af9fe61d0ea0"
      },
      "execution_count": null,
      "outputs": [
        {
          "output_type": "execute_result",
          "data": {
            "text/plain": [
              "[(1, 3), (3, 4), (4, 8), (8, 1), (1, 14), (14, 17), (17, 20)]"
            ]
          },
          "metadata": {},
          "execution_count": 33
        }
      ]
    },
    {
      "cell_type": "code",
      "source": [
        "# 이해를 하시진 마시고, 이해가 되시는 분들만 이해해주세요\n",
        "# 제가 자주 사용하는 코드입니다\n",
        "\n",
        "list(zip('hello', 'world'))"
      ],
      "metadata": {
        "colab": {
          "base_uri": "https://localhost:8080/"
        },
        "id": "PFgPvol4WQhK",
        "outputId": "6def5d8b-c304-48b6-a4e8-32a311f0c94f"
      },
      "execution_count": null,
      "outputs": [
        {
          "output_type": "execute_result",
          "data": {
            "text/plain": [
              "[('h', 'w'), ('e', 'o'), ('l', 'r'), ('l', 'l'), ('o', 'd')]"
            ]
          },
          "metadata": {},
          "execution_count": 34
        }
      ]
    },
    {
      "cell_type": "code",
      "source": [
        "# 이건 제가 자주 사용하는 코드 X\n",
        "\n",
        "list(enumerate(zip('hello', 'world')))"
      ],
      "metadata": {
        "id": "lbQny1l0WcXS"
      },
      "execution_count": null,
      "outputs": []
    },
    {
      "cell_type": "code",
      "source": [
        "# 제너레이터를 마듭니다\n",
        "\n",
        "def gen() :\n",
        "    i = 1\n",
        "    while True:\n",
        "        yield i\n",
        "        i += 1\n",
        "\n",
        "list(zip(gen(),'hello','world'))"
      ],
      "metadata": {
        "colab": {
          "base_uri": "https://localhost:8080/"
        },
        "id": "VtBDJTMYW1LK",
        "outputId": "c3c54ad8-a575-4e16-e469-5392fc7d4077"
      },
      "execution_count": null,
      "outputs": [
        {
          "output_type": "execute_result",
          "data": {
            "text/plain": [
              "[(1, 'h', 'w'), (2, 'e', 'o'), (3, 'l', 'r'), (4, 'l', 'l'), (5, 'o', 'd')]"
            ]
          },
          "metadata": {},
          "execution_count": 36
        }
      ]
    },
    {
      "cell_type": "code",
      "source": [
        "s = [1,3,4,8,13,17,20]\n",
        "s[1:]"
      ],
      "metadata": {
        "colab": {
          "base_uri": "https://localhost:8080/"
        },
        "id": "mpTc6VVpXhby",
        "outputId": "039bd7b5-0990-4937-e481-af1e432d606f"
      },
      "execution_count": null,
      "outputs": [
        {
          "output_type": "execute_result",
          "data": {
            "text/plain": [
              "[3, 4, 8, 13, 17, 20]"
            ]
          },
          "metadata": {},
          "execution_count": 38
        }
      ]
    },
    {
      "cell_type": "code",
      "source": [
        "x = list(zip(s, s[1:]))\n",
        "x[0]"
      ],
      "metadata": {
        "colab": {
          "base_uri": "https://localhost:8080/"
        },
        "id": "GnBz27kwZYIw",
        "outputId": "70660385-e1be-4fb9-8719-e35de3980862"
      },
      "execution_count": null,
      "outputs": [
        {
          "output_type": "execute_result",
          "data": {
            "text/plain": [
              "(1, 3)"
            ]
          },
          "metadata": {},
          "execution_count": 46
        }
      ]
    },
    {
      "cell_type": "code",
      "source": [
        "sorted(x, key = lambda x : x[0] - x[1], reverse = True)"
      ],
      "metadata": {
        "colab": {
          "base_uri": "https://localhost:8080/"
        },
        "id": "5IW_myW3ZfKQ",
        "outputId": "835bf08e-0044-47a4-bc1f-6633505385af"
      },
      "execution_count": null,
      "outputs": [
        {
          "output_type": "execute_result",
          "data": {
            "text/plain": [
              "[(3, 4), (1, 3), (17, 20), (4, 8), (13, 17), (8, 13)]"
            ]
          },
          "metadata": {},
          "execution_count": 44
        }
      ]
    },
    {
      "cell_type": "code",
      "source": [
        "sum([10, 20, 30])\n",
        "sum([10, 20, 30], 100)\n",
        "sum([[1, 2, 3], [4, 5, 6]], [])"
      ],
      "metadata": {
        "colab": {
          "base_uri": "https://localhost:8080/"
        },
        "id": "Fm4LXrx0Z1-Y",
        "outputId": "eecd725e-2473-4383-def8-d0fd62c8d661"
      },
      "execution_count": null,
      "outputs": [
        {
          "output_type": "execute_result",
          "data": {
            "text/plain": [
              "[1, 2, 3, 4, 5, 6]"
            ]
          },
          "metadata": {},
          "execution_count": 47
        }
      ]
    },
    {
      "cell_type": "code",
      "source": [
        "sum([[1,2,3], [4,5,6]], [])\n",
        "\n",
        "# [] + [1,2,3] == [1,2,3]\n",
        "# [1,2,3] + [4,5,6] == [1,2,3,4,5,6]"
      ],
      "metadata": {
        "colab": {
          "base_uri": "https://localhost:8080/"
        },
        "id": "XGsJSqNgacQ_",
        "outputId": "6ace7f9e-7d4f-481a-a52a-83fb6df4b6e8"
      },
      "execution_count": null,
      "outputs": [
        {
          "output_type": "execute_result",
          "data": {
            "text/plain": [
              "[1, 2, 3, 4, 5, 6]"
            ]
          },
          "metadata": {},
          "execution_count": 49
        }
      ]
    },
    {
      "cell_type": "code",
      "source": [
        "# 어디까지 이해하고 어디까지 암기해야할까\n",
        "# 책 => 이런 내용이 안나옵니다. 실무에서 빈도가 많은지에 대해 나오지 않습니다\n",
        "# 암기해야 할 것을 암기하고, 버릴 것은 버리면서 부지런히 가시면\n"
      ],
      "metadata": {
        "id": "OOkKu7gnapPW"
      },
      "execution_count": null,
      "outputs": []
    },
    {
      "cell_type": "code",
      "source": [
        "# 다른 값이 출력될 수 도 있따는 것을 기억해야 합니다.\n",
        "a = 10\n",
        "print(a) # a.__str__\n",
        "a # a.__repr__\n",
        "repr(a) # a.__repr__\n",
        "\n"
      ],
      "metadata": {
        "id": "ndootLg9ezv1"
      },
      "execution_count": null,
      "outputs": []
    },
    {
      "cell_type": "code",
      "source": [
        "# 실제 django에서 사용하는 코드\n",
        "\n",
        "class Notice :\n",
        "    '''\n",
        "    게시물 클래스\n",
        "    '''\n",
        "\n",
        "    def __init__(self, title, contents) :\n",
        "        self.title = title\n",
        "        self.contents = contents\n",
        "\n",
        "\n",
        "    def __str__(self) :\n",
        "        return self.title\n",
        "\n",
        "    def __repr__(self) :\n",
        "        return f'{self.title}, {self.contents}'\n",
        "\n",
        "게시물1 = Notice('파이썬 이렇게 어려울줄 몰랐다..', '내가 알던 파이썬이 아니야;;')\n",
        "게시물2 = Notice('Django는 재미가 있나?', '파이썬을 잘 못해서 내가 할 수 있을까 들었는데...')\n"
      ],
      "metadata": {
        "colab": {
          "base_uri": "https://localhost:8080/"
        },
        "id": "JfiRjyKYe99e",
        "outputId": "f7746ad1-ff9b-4d5b-e41f-e952ea850937"
      },
      "execution_count": null,
      "outputs": [
        {
          "output_type": "stream",
          "name": "stdout",
          "text": [
            "파이썬 이렇게 어려울줄 몰랐다..\n"
          ]
        }
      ]
    },
    {
      "cell_type": "code",
      "source": [
        "print(게시물1) # 로그로 출력할 때\n",
        "# 게시물1\n",
        "repr(게시물1) # 그 자료형을 대표하는 문자열 취급"
      ],
      "metadata": {
        "colab": {
          "base_uri": "https://localhost:8080/"
        },
        "id": "S-QDG36TfB03",
        "outputId": "c7ca86bd-4124-4668-8d5f-30b3f7944c2a"
      },
      "execution_count": null,
      "outputs": [
        {
          "output_type": "execute_result",
          "data": {
            "text/plain": [
              "파이썬 이렇게 어려울줄 몰랐다.., 내가 알던 파이썬이 아니야;;"
            ]
          },
          "metadata": {},
          "execution_count": 56
        }
      ]
    },
    {
      "cell_type": "code",
      "source": [
        "print(게시물1) # title"
      ],
      "metadata": {
        "colab": {
          "base_uri": "https://localhost:8080/"
        },
        "id": "jaY9OK-zgVw8",
        "outputId": "dea4affd-1f34-4cd8-b836-a98c21d3e054"
      },
      "execution_count": null,
      "outputs": [
        {
          "output_type": "stream",
          "name": "stdout",
          "text": [
            "파이썬 이렇게 어려울줄 몰랐다..\n"
          ]
        }
      ]
    },
    {
      "cell_type": "code",
      "source": [
        "게시물1 # title, contents"
      ],
      "metadata": {
        "colab": {
          "base_uri": "https://localhost:8080/"
        },
        "id": "wXdU5R9wg-cT",
        "outputId": "6b30ef45-c28b-469a-810f-0931066bfc2e"
      },
      "execution_count": null,
      "outputs": [
        {
          "output_type": "execute_result",
          "data": {
            "text/plain": [
              "파이썬 이렇게 어려울줄 몰랐다.., 내가 알던 파이썬이 아니야;;"
            ]
          },
          "metadata": {},
          "execution_count": 58
        }
      ]
    },
    {
      "cell_type": "code",
      "source": [
        "repr(게시물1) # title, contents"
      ],
      "metadata": {
        "colab": {
          "base_uri": "https://localhost:8080/",
          "height": 35
        },
        "id": "8pcpo0SWg_SK",
        "outputId": "e63e19b0-242f-47dd-cf5a-2dd40786d5e5"
      },
      "execution_count": null,
      "outputs": [
        {
          "output_type": "execute_result",
          "data": {
            "text/plain": [
              "'파이썬 이렇게 어려울줄 몰랐다.., 내가 알던 파이썬이 아니야;;'"
            ],
            "application/vnd.google.colaboratory.intrinsic+json": {
              "type": "string"
            }
          },
          "metadata": {},
          "execution_count": 59
        }
      ]
    },
    {
      "cell_type": "code",
      "source": [
        "``` python\n",
        "강사님\n",
        "    def __repr__(self) :\n",
        "        return f'{self.title}, {self.contents}'\n",
        "이 코드 계속 보고 있는데\n",
        "__repr__ 메소드가\n",
        "원래 파이썬 에서 코드가 저렇게 구성되어있는건가요\n",
        "아니면 강사님이 임의로 만들어서 저렇게 출력이 나오는건가요?\n",
        "```"
      ],
      "metadata": {
        "colab": {
          "base_uri": "https://localhost:8080/",
          "height": 147
        },
        "id": "Ox_cdOf8hAey",
        "outputId": "0e68d11e-7b5a-4658-c288-0521bd228ebc"
      },
      "execution_count": null,
      "outputs": [
        {
          "output_type": "error",
          "ename": "SyntaxError",
          "evalue": "invalid syntax (<ipython-input-60-c0042356a6a4>, line 1)",
          "traceback": [
            "\u001b[0;36m  File \u001b[0;32m\"<ipython-input-60-c0042356a6a4>\"\u001b[0;36m, line \u001b[0;32m1\u001b[0m\n\u001b[0;31m    ``` python\u001b[0m\n\u001b[0m    ^\u001b[0m\n\u001b[0;31mSyntaxError\u001b[0m\u001b[0;31m:\u001b[0m invalid syntax\n"
          ]
        }
      ]
    },
    {
      "cell_type": "code",
      "source": [
        "# 여러분들은 오히려 이런 코드아 아래 코드를\n",
        "\n",
        "def 요일반환(요일) :\n",
        "    return {\n",
        "        1 : '월요일',\n",
        "        2 : '화요일',\n",
        "        3 : '수요일',\n",
        "        4 : '목요일',\n",
        "        5 : '금요일',\n",
        "        6 : '토요일',\n",
        "        7 : '일요일',\n",
        "\n",
        "\n",
        "    }"
      ],
      "metadata": {
        "id": "UIoCrwfhi4xp"
      },
      "execution_count": null,
      "outputs": []
    },
    {
      "cell_type": "code",
      "source": [
        "# 0번 기초상식\n",
        "# 0.0 __init__ 매직메서드는 없어도 되나요?\n",
        "# 실제로 이런 코드를 짜실 일이 생깁니다\n",
        "\n",
        "\n",
        "class 우편번호 :\n",
        "    제주도 = 100\n",
        "    서울시 = 101\n",
        "    경기도 = 102\n",
        "    전라북도 = 103\n",
        "    전라남도 = 104\n",
        "\n",
        "우편번호.제주도\n",
        "\n",
        "# 왜 이걸 딕셔너리로 만들 지 않고 class로 만들었나?\n",
        "# 재사용성 + 확장성\n",
        "\n"
      ],
      "metadata": {
        "id": "-datE_odAJnI"
      },
      "execution_count": null,
      "outputs": []
    },
    {
      "cell_type": "code",
      "source": [
        "# 1번\n",
        "# 클래스를 설계하실 때\n",
        "# 첫 번째로` 모든 인스턴스에서 공유해야할 (클래스 변수)나 메서드 설정\n",
        "# 두 번쨰로 : 인스터스 고유의 영역\n",
        "\n",
        "class Post :\n",
        "    def __init__(\n",
        "                 self,\n",
        "                 in_title = '',\n",
        "                 in_contents = '',\n",
        "                 in_counts = 0,\n",
        "                 in_created_at = '',\n",
        "                 in_updated_at = '',\n",
        "                 in_author = ''\n",
        "                 ) :\n",
        "        self.title = in_title\n",
        "        self.contents = in_contents\n",
        "        self.count = in_counts\n",
        "        self.created_at = in_created_at\n",
        "        self.updated_at = in_updated_at\n",
        "        self.author = in_author\n",
        "\n",
        "    def __add__(self) :\n",
        "        pass\n",
        "\n",
        "    def __len__(self) :\n",
        "        pass\n",
        "\n",
        "    def update(self) :\n",
        "        pass\n",
        "\n",
        "    def delete(self) :\n",
        "        pass\n",
        "\n",
        "\n",
        "게시물1 = Post(\n",
        "    '파이썬은 참 깊군요',\n",
        "    '오늘은 맑아요',\n",
        "    0,\n",
        "    '2024-01-11',\n",
        "    '-2024-01-11',\n",
        "    '이호준'\n",
        ")\n",
        "\n",
        "\n",
        "print(게시물1)\n",
        "print(게시물1.title)\n"
      ],
      "metadata": {
        "colab": {
          "base_uri": "https://localhost:8080/"
        },
        "id": "cTUGmY50AJqe",
        "outputId": "5575b197-fafb-4985-d5f3-5080e0c07d96"
      },
      "execution_count": null,
      "outputs": [
        {
          "output_type": "stream",
          "name": "stdout",
          "text": [
            "<__main__.Post object at 0x7f8d80b8fd30>\n",
            "파이썬은 참 깊군요\n"
          ]
        }
      ]
    },
    {
      "cell_type": "code",
      "source": [
        "# 2. 다음에 정보가 담겨져 있는 것을 Class로 만들어주세요. 메서드로는 '할인' 메서드를 만들어주세요. 예를 들어 아래 책을 10% 할인한다고 하면 4500원이 됩니다. `책.할인(10) == 4500`의 형태로 만들어주시면 됩니다.\n",
        "{\n",
        "    '책제목': 'hello world python',\n",
        "    '책 내용 요약': 'hello world...',\n",
        "    '저자': '이호준',\n",
        "    '발행일': '2024-01-11',\n",
        "    '가격': 5000\n",
        "}\n",
        "\n",
        "3. 다음 문제를 풀고 정답을 제출해주세요.\n",
        "3.1 https://100.pyalgo.co.kr/?page=10#\n",
        "3.2 https://100.pyalgo.co.kr/?page=18#"
      ],
      "metadata": {
        "id": "aonJTyjRAJum"
      },
      "execution_count": null,
      "outputs": []
    },
    {
      "cell_type": "code",
      "source": [
        "# 1. 다음 숫자 중 5보다 크고, 20보다 작으면서 짝수인 수를 모두 더하는 코드를 완성 해주세요. 오늘 배운 filter 사용은 필수 입니다.\n",
        "\n",
        "number = [1, 5, 7, 4, 3, 22, 23, 15, 26, 17, 3]\n",
        "def solution(data) :\n",
        "    filtered_data = filter(lambda x : (x > 5 and x < 20) and x % 2 == 0, data)\n",
        "    sum_of_data = sum(filtered_data)\n",
        "    return sum_of_data\n",
        "\n",
        "print(solution(number))"
      ],
      "metadata": {
        "colab": {
          "base_uri": "https://localhost:8080/"
        },
        "id": "SgOzo8rWAJxv",
        "outputId": "4ddc5f95-1d31-402b-dbca-db58391f29e1"
      },
      "execution_count": null,
      "outputs": [
        {
          "output_type": "stream",
          "name": "stdout",
          "text": [
            "[]\n"
          ]
        }
      ]
    },
    {
      "cell_type": "code",
      "source": [
        "class 책() :\n",
        "    책제목 = 'hello world python',\n",
        "    책_내용_요약 = 'hello world...',\n",
        "    저자 = '이호준',\n",
        "    발행일 = '2024-01-11',\n",
        "    가격 = 5000\n",
        "\n",
        "    def 할인(self) :\n",
        "         self.가격 = self.가격 * 0.9\n",
        "\n",
        "수리통계학 = 책()\n",
        "수리통계학.할인()\n",
        "수리통계학.가격"
      ],
      "metadata": {
        "colab": {
          "base_uri": "https://localhost:8080/"
        },
        "id": "fcKaHQd9AJ0Q",
        "outputId": "93cbe089-cefd-40ff-d90d-6210906d66e7"
      },
      "execution_count": null,
      "outputs": [
        {
          "output_type": "execute_result",
          "data": {
            "text/plain": [
              "4500.0"
            ]
          },
          "metadata": {},
          "execution_count": 20
        }
      ]
    },
    {
      "cell_type": "code",
      "source": [
        "star =[55,77,99]\n",
        "star # repr"
      ],
      "metadata": {
        "colab": {
          "base_uri": "https://localhost:8080/"
        },
        "id": "JhuLS_SrAJ29",
        "outputId": "7a417993-61ca-4003-d1f7-cc4eb0ef9c5e"
      },
      "execution_count": null,
      "outputs": [
        {
          "output_type": "stream",
          "name": "stdout",
          "text": [
            "[55, 77, 99]\n"
          ]
        }
      ]
    },
    {
      "cell_type": "code",
      "source": [
        "print(star) # str"
      ],
      "metadata": {
        "colab": {
          "base_uri": "https://localhost:8080/"
        },
        "id": "fKhMN2IMAJ7u",
        "outputId": "65371d09-cd61-4353-be52-d3c7962c85d0"
      },
      "execution_count": null,
      "outputs": [
        {
          "output_type": "stream",
          "name": "stdout",
          "text": [
            "[55, 77, 99]\n"
          ]
        }
      ]
    },
    {
      "cell_type": "code",
      "source": [
        "class 난이도_조절 :\n",
        "\n",
        "    def __init__(self,input_name,input_attack_stat,input_guard_stat,input_musle_stat,input_mana_stat):\n",
        "        self.name = input_name\n",
        "        self.attack_stat = input_attack_stat\n",
        "        self.guard_stat = input_guard_stat\n",
        "        self.musle_stat = input_musle_stat\n",
        "        self.mana_stat = input_mana_stat\n",
        "\n",
        "    def __str__(self) :\n",
        "        #return f\"{self.name}, {self.attack_stat}, {self.guard_stat}, {self.musle_stat}, {self.mana_stat}\"\n",
        "        return self.name, self.attack_stat, self.guard_stat, self.musle_stat, self.mana_stat\n",
        "\n",
        "    def __repr__(self) :\n",
        "        return f\"{self.name}, {self.attack_stat}, {self.guard_stat}, {self.musle_stat}, {self.mana_stat}\"\n",
        "        #return self.name, self.attack_stat, self.guard_stat, self.musle_stat, self.mana_stat\n",
        "\n",
        "    def total_stat(self) :\n",
        "        return self.name, self.attack_stat, self.guard_stat, self.musle_stat, self.mana_stat\n",
        "\n",
        "Licat = 난이도_조절('Licat', 98, 92, 85, 97)\n",
        "Mura = 난이도_조절('Mura', 95, 32, 51, 30)\n",
        "Binky = 난이도_조절('Binky', 98, 98, 51, 32)\n",
        "\n",
        "characters = [Licat, Mura, Binky]\n",
        "good_chars = [char for char in characters if char.total_stat() >= 350]\n",
        "\n",
        "print(good_chars)"
      ],
      "metadata": {
        "id": "Axrt1QgOAJ-e"
      },
      "execution_count": null,
      "outputs": []
    },
    {
      "cell_type": "code",
      "source": [
        "class 난이도_조절 :\n",
        "\n",
        "    def __init__(self,input_name,input_attack_stat,input_guard_stat,input_musle_stat,input_mana_stat):\n",
        "        self.name = input_name\n",
        "        self.attack_stat = input_attack_stat\n",
        "        self.guard_stat = input_guard_stat\n",
        "        self.musle_stat = input_musle_stat\n",
        "        self.mana_stat = input_mana_stat\n",
        "\n",
        "    def __str__(self) :\n",
        "        return f\"{self.name}, {self.attack_stat}, {self.guard_stat}, {self.musle_stat}, {self.mana_stat}\"\n",
        "\n",
        "    def __repr__(self) :\n",
        "        return f\"{self.name}, {self.attack_stat}, {self.guard_stat}, {self.musle_stat}, {self.mana_stat}\"\n",
        "\n",
        "    def solution(self):\n",
        "        return self.attack_stat + self.guard_stat + self.musle_stat + self.mana_stat\n",
        "\n",
        "Licat = 난이도_조절('Licat', 98, 92, 85, 97)\n",
        "Mura = 난이도_조절('Mura', 95, 32, 51, 30)\n",
        "Binky = 난이도_조절('Binky', 98, 98, 51, 32)\n",
        "\n",
        "characters = [Licat, Mura, Binky]\n",
        "good_chars = [char for char in characters if char.total_stat() >= 350]\n",
        "\n",
        "for char in good_chars:\n",
        "    print(char)"
      ],
      "metadata": {
        "colab": {
          "base_uri": "https://localhost:8080/"
        },
        "id": "WJoKswFQAKAw",
        "outputId": "37cdc8c8-cf35-44cf-b801-b7534fc14c83"
      },
      "execution_count": null,
      "outputs": [
        {
          "output_type": "stream",
          "name": "stdout",
          "text": [
            "Licat, 98, 92, 85, 97\n"
          ]
        }
      ]
    },
    {
      "cell_type": "code",
      "source": [
        "def solution(characters) :\n",
        "    # 능력이 합이 350이상인 캐릭터들의 이름을 저장할 리스트\n",
        "    high_stat_chars = []\n",
        "\n",
        "    # 각 캐릭터에 대해 능력치의 합을 계산\n",
        "\n",
        "    for char in characters :\n",
        "        if sum(char[1:]) >= 350:\n",
        "            # print(char[1:])\n",
        "            high_stat_chars.append(char[0])\n",
        "\n",
        "    # 캐릭터들의 이름을 알파벳 순으로 정렬\n",
        "    high_stat_chars.sort()\n",
        "\n",
        "    # 결과를 출력\n",
        "    print(high_stat_chars)\n",
        "\n",
        "# 함수를 테스트 하는 코드\n",
        "\n",
        "characters = [['Licat', 98, 92, 85, 97], ['Mura', 95, 32, 51, 30], ['Binky', 98, 98, 51, 32]]\n",
        "solution(characters)\n",
        "\n",
        "# high_stat_char 그릇 담기\n",
        "# 캐릭터에서\n",
        "# if sum(char[1:]) >= 350:\n",
        "#     high_stat_chars\n",
        "\n",
        "#characters[1:]"
      ],
      "metadata": {
        "colab": {
          "base_uri": "https://localhost:8080/"
        },
        "id": "9Bb7N7Pea9mB",
        "outputId": "9bd4076e-4e8c-4654-d094-6c19515b03e3"
      },
      "execution_count": null,
      "outputs": [
        {
          "output_type": "stream",
          "name": "stdout",
          "text": [
            "[98, 92, 85, 97]\n",
            "['Licat']\n"
          ]
        }
      ]
    },
    {
      "cell_type": "code",
      "source": [
        "characters = [['Licat', 98, 92, 85, 97], ['Mura', 95, 32, 51, 30], ['Binky', 98, 98, 51, 32]]\n",
        "len(characters)"
      ],
      "metadata": {
        "colab": {
          "base_uri": "https://localhost:8080/"
        },
        "id": "5OXZdT9MduEx",
        "outputId": "439fff02-6e74-4efd-9414-f5346b2bb914"
      },
      "execution_count": null,
      "outputs": [
        {
          "output_type": "execute_result",
          "data": {
            "text/plain": [
              "3"
            ]
          },
          "metadata": {},
          "execution_count": 66
        }
      ]
    },
    {
      "cell_type": "code",
      "source": [
        "def solution(charachers) :\n",
        "    # 입력의 길이와 각 능력치가 제한 사항을 만족하는지 확인\n",
        "\n",
        "    if not (3 <= len(characters) <= 10) :\n",
        "        return \"캐릭터의 수는 3 이상 10 이하여야 합니다.\"\n",
        "\n",
        "    # 능력치 합이 350 이상인 캐릭터들의 이름을 저장할 리스트\n",
        "    high_stat_chars = []\n",
        "\n",
        "    # 각 캐릭터에 대해 능력치의 합을 계산\n",
        "    for char in charachers :\n",
        "        valid_socre = [stat for stat in char[1:] if 10 <= stat <= 100]\n",
        "    #   valid_stats = [stat for stat in char[1:] if 10 <= stat <= 100]\n",
        "        if valid_score >= 350 :\n",
        "            high_stat_chars.appends(char[0])\n",
        "\n",
        "    # 캐릭터들의 이름을 알파벳 순으로 정렬\n",
        "    high_stat_chars.sort()\n",
        "\n",
        "    return high_stat_chars\n",
        "\n",
        "# characters = [['Licat', 98, 92, 85, 97], ['Mura', 95, 32, 51, 30], ['Binky', 98, 98, 51, 32]]\n",
        "# solution(characters)"
      ],
      "metadata": {
        "id": "vk_6JhFTha4n"
      },
      "execution_count": null,
      "outputs": []
    },
    {
      "cell_type": "code",
      "source": [
        "def solution(characters):\n",
        "    # 입력의 길이와 각 능력치가 제한 사항을 만족하는지 확인\n",
        "    if not (3 <= len(characters) <= 10):\n",
        "        return \"캐릭터의 수는 3 이상 10 이하이어야 합니다.\"\n",
        "\n",
        "    # 능력치 합이 350 이상인 캐릭터들의 이름을 저장할 리스트\n",
        "    high_stat_chars = []\n",
        "\n",
        "    # 각 캐릭터에 대해 능력치의 합을 계산\n",
        "    for char in characters:\n",
        "        stats = char[1:]\n",
        "        if any(not (10 <= stat <= 100) for stat in stats):\n",
        "            return \"능력치는 10 이상 100 이하이어야 합니다.\"\n",
        "        if sum(stats) >= 350:\n",
        "            high_stat_chars.append(char[0])\n",
        "\n",
        "    # 캐릭터들의 이름을 알파벳 순으로 정렬\n",
        "    high_stat_chars.sort()\n",
        "\n",
        "    return high_stat_chars"
      ],
      "metadata": {
        "id": "Z-5DlBkgvpm8"
      },
      "execution_count": null,
      "outputs": []
    },
    {
      "cell_type": "code",
      "source": [
        "def solution(characters):\n",
        "    # 입력의 길이가 제한 사항을 만족하는지 확인\n",
        "    if not (3 <= len(characters) <= 10):\n",
        "        return \"캐릭터의 수는 3 이상 10 이하이어야 합니다.\"\n",
        "\n",
        "    # 능력치 합이 350 이상인 캐릭터들의 이름을 저장할 리스트\n",
        "    high_stat_chars = []\n",
        "\n",
        "    # 각 캐릭터에 대해 능력치의 합을 계산\n",
        "    for char in characters:\n",
        "        # 10 이상 100 이하인 능력치만 고려하여 합을 계산\n",
        "        valid_stats = [stat for stat in char[1:] if 10 <= stat <= 100]\n",
        "        if sum(valid_stats) >= 350:\n",
        "            high_stat_chars.append(char[0])\n",
        "\n",
        "    # 캐릭터들의 이름을 알파벳 순으로 정렬\n",
        "    high_stat_chars.sort()\n",
        "\n",
        "    return high_stat_chars"
      ],
      "metadata": {
        "id": "QK7J-GLO7YIv"
      },
      "execution_count": null,
      "outputs": []
    },
    {
      "cell_type": "code",
      "source": [
        "high_temper = {'2024-01-01': 15, '2024-01-02': 17, '2024-01-03': 16, '2024-01-04': 20, '2024-01-05': 19, '2024-01-06': 21, '2024-01-07': 18}\n",
        "\n",
        "sorted(high_temper)"
      ],
      "metadata": {
        "colab": {
          "base_uri": "https://localhost:8080/"
        },
        "id": "k71VMs1i9Aiz",
        "outputId": "22ee2a5f-1473-42eb-d340-05e30a5522cd"
      },
      "execution_count": null,
      "outputs": [
        {
          "output_type": "execute_result",
          "data": {
            "text/plain": [
              "['2024-01-01',\n",
              " '2024-01-02',\n",
              " '2024-01-03',\n",
              " '2024-01-04',\n",
              " '2024-01-05',\n",
              " '2024-01-06',\n",
              " '2024-01-07']"
            ]
          },
          "metadata": {},
          "execution_count": 82
        }
      ]
    },
    {
      "cell_type": "code",
      "source": [
        "for i, j in high_temper.items() :\n",
        "    #key,val\n",
        "    print(f\"{i},{j}\")"
      ],
      "metadata": {
        "colab": {
          "base_uri": "https://localhost:8080/"
        },
        "id": "lY4bXExsK1Li",
        "outputId": "44d2d521-ddec-469b-e617-761e48644989"
      },
      "execution_count": null,
      "outputs": [
        {
          "output_type": "stream",
          "name": "stdout",
          "text": [
            "2024-01-01,15\n",
            "2024-01-02,17\n",
            "2024-01-03,16\n",
            "2024-01-04,20\n",
            "2024-01-05,19\n",
            "2024-01-06,21\n",
            "2024-01-07,18\n"
          ]
        }
      ]
    },
    {
      "cell_type": "code",
      "source": [
        "def solution(weather_data):\n",
        "    # 딕셔너리 값 기준 정렬 후, 상위 3개 선택\n",
        "    sorted_data = sorted(weather_data.items(), key=lambda x: (-x[1], x[0]))\n",
        "    hottest_days = sorted_data[:3]\n",
        "\n",
        "    # 'YY-MM-DD: 온도' 형식으로 변환\n",
        "    result = [f'{day[0][2:]}: {day[1]}' for day in hottest_days]\n",
        "\n",
        "    return result\n",
        "\n",
        "weather_data = {'2024-01-01': 15, '2024-01-02': 17, '2024-01-03': 16, '2024-01-04': 20, '2024-01-05': 19, '2024-01-06': 21, '2024-01-07': 18}\n",
        "print(solution(weather_data))\n"
      ],
      "metadata": {
        "colab": {
          "base_uri": "https://localhost:8080/"
        },
        "id": "sCpmQfVRLjJo",
        "outputId": "893451b7-63a7-40e2-dfb6-e285bd75ac9b"
      },
      "execution_count": null,
      "outputs": [
        {
          "output_type": "stream",
          "name": "stdout",
          "text": [
            "['24-01-06: 21', '24-01-04: 20', '24-01-05: 19']\n"
          ]
        }
      ]
    },
    {
      "cell_type": "code",
      "source": [
        "data_list = ['but','i','wont','hesitate','no','more','no','more','it','cannot','wait','im','yours']\n",
        "\n",
        "for index in range(len(data_list)) :\n",
        "    data_len = len(data_list[index])\n",
        "    data_list[index] = (data_list[index], data_len)\n",
        "\n",
        "data_list.sort(key = lambda x :(x[1], x[0]))\n",
        "print(data_list)"
      ],
      "metadata": {
        "colab": {
          "base_uri": "https://localhost:8080/"
        },
        "id": "W_GM-9F3OiAY",
        "outputId": "331a7857-b335-48f6-80a5-6f071760af30"
      },
      "execution_count": null,
      "outputs": [
        {
          "output_type": "stream",
          "name": "stdout",
          "text": [
            "[('i', 1), ('im', 2), ('it', 2), ('no', 2), ('no', 2), ('but', 3), ('more', 4), ('more', 4), ('wait', 4), ('wont', 4), ('yours', 5), ('cannot', 6), ('hesitate', 8)]\n"
          ]
        }
      ]
    },
    {
      "cell_type": "code",
      "source": [
        "key=lambda x: (-x[1], x[0])"
      ],
      "metadata": {
        "id": "mhH8tCKaUHyV"
      },
      "execution_count": null,
      "outputs": []
    },
    {
      "cell_type": "code",
      "source": [
        "def solution(weather_data):\n",
        "    # 딕셔너리 값 기준 정렬 후, 상위 3개 선택\n",
        "    sorted_data = sorted(weather_data.items(), key=lambda x: (-x[1], x[0]))\n",
        "    hottest_days = sorted_data[:3]\n",
        "\n",
        "    # 'YY-MM-DD: 온도' 형식으로 변환\n",
        "    result = [f'{day[0][2:]}: {day[1]}' for day in hottest_days]\n",
        "    return result\n",
        "\n",
        "weather_data = {'2024-01-01': 15, '2024-01-02': 17, '2024-01-03': 16, '2024-01-04': 20, '2024-01-05': 19, '2024-01-06': 21, '2024-01-07': 18}\n",
        "print(solution(weather_data))"
      ],
      "metadata": {
        "colab": {
          "base_uri": "https://localhost:8080/",
          "height": 350
        },
        "id": "_F7QGknIURAc",
        "outputId": "85dfc654-bf99-4d4f-86bb-60b1417d48b0"
      },
      "execution_count": null,
      "outputs": [
        {
          "output_type": "error",
          "ename": "NameError",
          "evalue": "name 'day' is not defined",
          "traceback": [
            "\u001b[0;31m---------------------------------------------------------------------------\u001b[0m",
            "\u001b[0;31mNameError\u001b[0m                                 Traceback (most recent call last)",
            "\u001b[0;32m<ipython-input-112-9f1aa5f56bde>\u001b[0m in \u001b[0;36m<cell line: 12>\u001b[0;34m()\u001b[0m\n\u001b[1;32m     10\u001b[0m \u001b[0;34m\u001b[0m\u001b[0m\n\u001b[1;32m     11\u001b[0m \u001b[0mweather_data\u001b[0m \u001b[0;34m=\u001b[0m \u001b[0;34m{\u001b[0m\u001b[0;34m'2024-01-01'\u001b[0m\u001b[0;34m:\u001b[0m \u001b[0;36m15\u001b[0m\u001b[0;34m,\u001b[0m \u001b[0;34m'2024-01-02'\u001b[0m\u001b[0;34m:\u001b[0m \u001b[0;36m17\u001b[0m\u001b[0;34m,\u001b[0m \u001b[0;34m'2024-01-03'\u001b[0m\u001b[0;34m:\u001b[0m \u001b[0;36m16\u001b[0m\u001b[0;34m,\u001b[0m \u001b[0;34m'2024-01-04'\u001b[0m\u001b[0;34m:\u001b[0m \u001b[0;36m20\u001b[0m\u001b[0;34m,\u001b[0m \u001b[0;34m'2024-01-05'\u001b[0m\u001b[0;34m:\u001b[0m \u001b[0;36m19\u001b[0m\u001b[0;34m,\u001b[0m \u001b[0;34m'2024-01-06'\u001b[0m\u001b[0;34m:\u001b[0m \u001b[0;36m21\u001b[0m\u001b[0;34m,\u001b[0m \u001b[0;34m'2024-01-07'\u001b[0m\u001b[0;34m:\u001b[0m \u001b[0;36m18\u001b[0m\u001b[0;34m}\u001b[0m\u001b[0;34m\u001b[0m\u001b[0;34m\u001b[0m\u001b[0m\n\u001b[0;32m---> 12\u001b[0;31m \u001b[0mprint\u001b[0m\u001b[0;34m(\u001b[0m\u001b[0msolution\u001b[0m\u001b[0;34m(\u001b[0m\u001b[0mweather_data\u001b[0m\u001b[0;34m)\u001b[0m\u001b[0;34m)\u001b[0m\u001b[0;34m\u001b[0m\u001b[0;34m\u001b[0m\u001b[0m\n\u001b[0m",
            "\u001b[0;32m<ipython-input-112-9f1aa5f56bde>\u001b[0m in \u001b[0;36msolution\u001b[0;34m(weather_data)\u001b[0m\n\u001b[1;32m      6\u001b[0m     \u001b[0;31m# 'YY-MM-DD: 온도' 형식으로 변환\u001b[0m\u001b[0;34m\u001b[0m\u001b[0;34m\u001b[0m\u001b[0m\n\u001b[1;32m      7\u001b[0m     \u001b[0mresult\u001b[0m \u001b[0;34m=\u001b[0m \u001b[0;34m[\u001b[0m\u001b[0;34mf'{day[0][2:]}: {day[1]}'\u001b[0m \u001b[0;32mfor\u001b[0m \u001b[0mday\u001b[0m \u001b[0;32min\u001b[0m \u001b[0mhottest_days\u001b[0m\u001b[0;34m]\u001b[0m\u001b[0;34m\u001b[0m\u001b[0;34m\u001b[0m\u001b[0m\n\u001b[0;32m----> 8\u001b[0;31m     \u001b[0mprint\u001b[0m\u001b[0;34m(\u001b[0m\u001b[0mday\u001b[0m\u001b[0;34m[\u001b[0m\u001b[0;36m0\u001b[0m\u001b[0;34m]\u001b[0m\u001b[0;34m[\u001b[0m\u001b[0;36m1\u001b[0m\u001b[0;34m]\u001b[0m\u001b[0;34m)\u001b[0m\u001b[0;34m\u001b[0m\u001b[0;34m\u001b[0m\u001b[0m\n\u001b[0m\u001b[1;32m      9\u001b[0m     \u001b[0;32mreturn\u001b[0m \u001b[0mresult\u001b[0m\u001b[0;34m\u001b[0m\u001b[0;34m\u001b[0m\u001b[0m\n\u001b[1;32m     10\u001b[0m \u001b[0;34m\u001b[0m\u001b[0m\n",
            "\u001b[0;31mNameError\u001b[0m: name 'day' is not defined"
          ]
        }
      ]
    },
    {
      "cell_type": "code",
      "source": [
        "weather_data = {'2024-01-01': 15, '2024-01-02': 17, '2024-01-03': 16, '2024-01-04': 20, '2024-01-05': 19, '2024-01-06': 21, '2024-01-07': 18}\n",
        "sorted_data1 = sorted(weather_data.items(), key=lambda x: (-x[1], x[0]))\n",
        "sorted_data2 = sorted(weather_data.items(), key=lambda x: (x[1], x[0]))\n",
        "sorted_data3 = sorted(weather_data.items(), key=lambda x: (x[0], x[1]))\n",
        "\n",
        "print(sorted_data1, 'key=lambda x: (-x[1], x[0]')\n",
        "print(sorted_data2, 'key=lambda x: (x[1], x[0]')\n",
        "print(sorted_data3, 'key=lambda x: (x[0], x[1]')\n"
      ],
      "metadata": {
        "colab": {
          "base_uri": "https://localhost:8080/"
        },
        "id": "62H7VzxpUUpL",
        "outputId": "7d749eaf-8204-406f-f129-57b650478589"
      },
      "execution_count": null,
      "outputs": [
        {
          "output_type": "stream",
          "name": "stdout",
          "text": [
            "[('2024-01-06', 21), ('2024-01-04', 20), ('2024-01-05', 19), ('2024-01-07', 18), ('2024-01-02', 17), ('2024-01-03', 16), ('2024-01-01', 15)] key=lambda x: (-x[1], x[0]\n",
            "[('2024-01-01', 15), ('2024-01-03', 16), ('2024-01-02', 17), ('2024-01-07', 18), ('2024-01-05', 19), ('2024-01-04', 20), ('2024-01-06', 21)] key=lambda x: (x[1], x[0]\n",
            "[('2024-01-01', 15), ('2024-01-02', 17), ('2024-01-03', 16), ('2024-01-04', 20), ('2024-01-05', 19), ('2024-01-06', 21), ('2024-01-07', 18)] key=lambda x: (x[0], x[1]\n"
          ]
        }
      ]
    }
  ]
}