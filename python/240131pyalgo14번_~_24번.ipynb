{
  "nbformat": 4,
  "nbformat_minor": 0,
  "metadata": {
    "colab": {
      "provenance": []
    },
    "kernelspec": {
      "name": "python3",
      "display_name": "Python 3"
    },
    "language_info": {
      "name": "python"
    }
  },
  "cells": [
    {
      "cell_type": "markdown",
      "source": [
        "# 문제 14번"
      ],
      "metadata": {
        "id": "8oJcvodTgUOZ"
      }
    },
    {
      "cell_type": "markdown",
      "source": [
        "data의 코드를 보고 정렬하는 문제인데, 출력값에는 끝 숫자자리로 보는 줄 알았더만, 답은 위치코드 전체였다.\n",
        "\n",
        "그래도 두가지 답 다 쓰기"
      ],
      "metadata": {
        "id": "mEaoNkyxmSDG"
      }
    },
    {
      "cell_type": "code",
      "source": [
        "def solution(data) : # 앞문자 정렬\n",
        "\n",
        "    sorted_keys = sorted(data.keys())\n",
        "\n",
        "    result = [data[i] for i in sorted_keys]\n",
        "\n",
        "    return result\n",
        "\n",
        "solution({'AX21': 'Moby Dick', 'BX32': '1984', 'CX14': 'To Kill a Mockingbird'})\n"
      ],
      "metadata": {
        "colab": {
          "base_uri": "https://localhost:8080/"
        },
        "id": "AtBtid_5hGiH",
        "outputId": "4423a3dc-505a-497c-a26f-a4cec488318d"
      },
      "execution_count": null,
      "outputs": [
        {
          "output_type": "execute_result",
          "data": {
            "text/plain": [
              "['Moby Dick', '1984', 'To Kill a Mockingbird']"
            ]
          },
          "metadata": {},
          "execution_count": 9
        }
      ]
    },
    {
      "cell_type": "code",
      "source": [
        "def solution(data) : # 뒷 숫자코드 정렬\n",
        "\n",
        "    sort_keys = sorted(data, key = lambda x : x[2:])\n",
        "    result = [data[i] for i in sort_keys]\n",
        "\n",
        "    return result\n",
        "\n",
        "solution({'AX21': 'Moby Dick', 'BX32': '1984', 'CX14': 'To Kill a Mockingbird'})"
      ],
      "metadata": {
        "id": "gkE8jQNkhVE_",
        "colab": {
          "base_uri": "https://localhost:8080/"
        },
        "outputId": "73852bc0-d75b-4fed-b501-b1747255ddb9"
      },
      "execution_count": null,
      "outputs": [
        {
          "output_type": "execute_result",
          "data": {
            "text/plain": [
              "['To Kill a Mockingbird', 'Moby Dick', '1984']"
            ]
          },
          "metadata": {},
          "execution_count": 12
        }
      ]
    },
    {
      "cell_type": "markdown",
      "source": [
        "key에 대한 정렬한 변수들을 for문으로 돌려, 그에대한 값을 도출하는 문제이다.\n",
        "\n",
        "data.keys()\n",
        "\n",
        "sorted(data, key = lambda x : x[2:])\n",
        "\n"
      ],
      "metadata": {
        "id": "lcyMCutumkZm"
      }
    },
    {
      "cell_type": "markdown",
      "source": [
        "# 15번 문제\n",
        "이건 다음에 풀자\n"
      ],
      "metadata": {
        "id": "u7IQ-Glnl_yX"
      }
    },
    {
      "cell_type": "markdown",
      "source": [
        "문제 자체가 뭐가 뭔지 잘 모르겠다\n",
        "\n",
        "['01:00 PM', '11:30 AM', '12:45 PM', '09:00 AM', '12:00 AM'] 데이터는 이러한데\n",
        "\n",
        "13시 ~ 23시는 다시 01 ~ 11시 PM이고\n",
        "\n",
        "서로 맞닿은 자정 00시는 12: 00 AM으로 통일하는 요상한 시계다\n",
        "\n",
        "처음에는 뤼튼 형님한테 물어보았으나, datetime으로 그냥 풀기에 datetime 없이 그냥 풀어달라고 했더니 오류 투성이길래 직접 한번 해봤다.\n",
        "\n",
        "근데 ['01:00 PM', '11:30 AM', '12:45 PM', '09:00 AM', '12:00 AM'] 이건 어떻게 시간 순으로 정렬하나요 ㅠㅠ\n",
        "\n"
      ],
      "metadata": {
        "id": "DSdT9YR8Een5"
      }
    },
    {
      "cell_type": "code",
      "source": [
        "# datetime 사용\n",
        "\n",
        "def solution(data):\n",
        "    import datetime # 이 모듈은 Python에서 날짜와 시간을 처리하는 데 필요한 기능을 제공\n",
        "\n",
        "    time_objects = [datetime.datetime.strptime(time, \"%I:%M %p\") for time in data] # data 인자로 받은 시간 문자열 목록을 datetime 객체로 변환합니다. 시간 형식은 %I 12시간 형식의 시간, %M 분, %p는 AM/PM을 나타냅니다.\n",
        "\n",
        "    # datetime 오브젝트를 정렬합니다.\n",
        "    sorted_time_objects = sorted(time_objects)\n",
        "    # sorted 함수를 사용해 datetime 객체를 정렬합니다. Python의 datetime 객체는 날짜와 시간에 따라 자동으로 정렬됩니다.\n",
        "\n",
        "    # datetime 오브젝트를 다시 문자열로 변환합니다.\n",
        "    return [time.strftime(\"%I:%M %p\") for time in sorted_time_objects]\n",
        "    #"
      ],
      "metadata": {
        "id": "zhoQhZqVsa-N"
      },
      "execution_count": null,
      "outputs": []
    },
    {
      "cell_type": "code",
      "source": [
        "# 직접 풀어보자\n",
        "\n",
        "def solution(data):\n",
        "    for i in range(len(data)):\n",
        "        time = data[i]\n",
        "        if int(time[:2]) >= 12 and int(time[:2]) <= 23 and 'PM' in time:\n",
        "            data[i] = '0' + str(int(time[:2]) - 12) + time[2:]\n",
        "        elif int(time[:2]) == 0 and \"AM\" in time:\n",
        "            data[i] = '12' + time[2:]\n",
        "    return sorted(data)\n",
        "\n",
        "solution(['01:00 PM', '11:30 AM', '12:45 PM', '09:00 AM', '12:00 AM'])\n",
        "\n",
        "# 여기서 정렬을 어떻게 하나요"
      ],
      "metadata": {
        "colab": {
          "base_uri": "https://localhost:8080/"
        },
        "id": "BOLs9i2g-WB7",
        "outputId": "e88ac49a-d108-4e1e-ca1f-89f02265e725"
      },
      "execution_count": null,
      "outputs": [
        {
          "output_type": "execute_result",
          "data": {
            "text/plain": [
              "['00:45 PM', '01:00 PM', '09:00 AM', '11:30 AM', '12:00 AM']"
            ]
          },
          "metadata": {},
          "execution_count": 16
        }
      ]
    },
    {
      "cell_type": "markdown",
      "source": [
        "# 문제 16번\n",
        "\n",
        "for문으로 리스트 원소 변경하기\n",
        "\n"
      ],
      "metadata": {
        "id": "J3dv0MYwDyE6"
      }
    },
    {
      "cell_type": "markdown",
      "source": [
        "for문으로 해당 time을 바꾸고, data도 바꾸면 답이 나오지 않을까 생각했는데, 답이 복사가 된 경우다.\n",
        "\n",
        "왜 그렇지 않을까??? 그냥 외우자"
      ],
      "metadata": {
        "id": "DcVVI2lKXzVM"
      }
    },
    {
      "cell_type": "code",
      "source": [
        "def solution(data) :\n",
        "    for time in data :\n",
        "        if '-' in data :\n",
        "            day, month, year = time.split('-')\n",
        "            time = f'{year}/{month}/{day}'\n",
        "        elif '/' in time :\n",
        "            month, day, year = time.split('/')\n",
        "            time = f'{year}/{month}/{day}'\n",
        "        elif '.' in time :\n",
        "            time = time.replace('.', '/')\n",
        "    return sorted(data)\n",
        "\n",
        "solution(['20-01-2024', '12/15/2023', '2022.05.30'])"
      ],
      "metadata": {
        "colab": {
          "base_uri": "https://localhost:8080/"
        },
        "id": "Gpd0pqsPJPWO",
        "outputId": "3b5bc3c3-3cea-4c1b-995a-7fe965574304"
      },
      "execution_count": null,
      "outputs": [
        {
          "output_type": "execute_result",
          "data": {
            "text/plain": [
              "['12/15/2023', '20-01-2024', '2022.05.30']"
            ]
          },
          "metadata": {},
          "execution_count": 7
        }
      ]
    },
    {
      "cell_type": "markdown",
      "source": [
        "1) 뤼튼 형님한테 물어보니 그냥 이렇게 하라고 하더라..\n",
        "\n",
        "이중 함수를 써서 리스트로 아예 return 값을 받아버리는 스킬 very nice 합니다"
      ],
      "metadata": {
        "id": "4otn8pEWYsGk"
      }
    },
    {
      "cell_type": "code",
      "source": [
        "def solution(data):\n",
        "    # 날짜를 '연/월/일' 형식으로 변환하는 함수를 정의합니다.\n",
        "    def convert_date(date):\n",
        "        if '-' in date:\n",
        "            day, month, year = date.split('-')\n",
        "            return f'{year}/{month}/{day}'\n",
        "        elif '/' in date:\n",
        "            month, day, year = date.split('/')\n",
        "            return f'{year}/{month}/{day}'\n",
        "        elif '.' in date:\n",
        "            return date.replace('.', '/')\n",
        "\n",
        "    # 각 날짜를 '연/월/일' 형식으로 변환하고 오름차순으로 정렬합니다.\n",
        "    return sorted([convert_date(date) for date in data])\n",
        "\n",
        "solution(['20-01-2024', '12/15/2023', '2022.05.30'])"
      ],
      "metadata": {
        "id": "lvEvvO0yJBwA",
        "colab": {
          "base_uri": "https://localhost:8080/"
        },
        "outputId": "aae4606b-8794-4c67-b960-6c63685a5f52"
      },
      "execution_count": null,
      "outputs": [
        {
          "output_type": "execute_result",
          "data": {
            "text/plain": [
              "['2022/05/30', '2023/12/15', '2024/01/20']"
            ]
          },
          "metadata": {},
          "execution_count": 32
        }
      ]
    },
    {
      "cell_type": "markdown",
      "source": [
        "2) 내가 원하는 방법은 굳이 함수 2개를 안 쓰고 원하는 답이 나오는 것이다.\n",
        "\n",
        "방법은 in에 data의 len을 넣는다.\n",
        "\n",
        "그리고 time 변수를 따로 만들어 data의 인덱싱을 한다.\n",
        "\n",
        "if 문을 통해 time값을 잘라 나가는 것이다.\n",
        "\n",
        "고로 data[i]에 원하는 꼴로 값을 넣는다.\n"
      ],
      "metadata": {
        "id": "vsOsg8iFZC7w"
      }
    },
    {
      "cell_type": "code",
      "source": [
        "def solution(data):\n",
        "    for i in range(len(data)):\n",
        "        time = data[i]\n",
        "        if '-' in time:\n",
        "            day, month, year = time.split('-')\n",
        "            data[i] = f'{year}/{month}/{day}'\n",
        "        elif '/' in time:\n",
        "            month, day, year = time.split('/')\n",
        "            data[i] = f'{year}/{month}/{day}'\n",
        "        elif '.' in time:\n",
        "            data[i] = time.replace('.', '/')\n",
        "    return sorted(data)\n",
        "\n",
        "solution(['20-01-2024', '12/15/2023', '2022.05.30'])"
      ],
      "metadata": {
        "id": "XsdnpDsVKFhY",
        "colab": {
          "base_uri": "https://localhost:8080/"
        },
        "outputId": "7354e250-e51e-4c6e-e67b-2402053d72de"
      },
      "execution_count": null,
      "outputs": [
        {
          "output_type": "execute_result",
          "data": {
            "text/plain": [
              "['2022/05/30', '2023/12/15', '2024/01/20']"
            ]
          },
          "metadata": {},
          "execution_count": 6
        }
      ]
    },
    {
      "cell_type": "markdown",
      "source": [
        "# 문제 17번\n",
        "\n"
      ],
      "metadata": {
        "id": "zfSjwkmhe4RS"
      }
    },
    {
      "cell_type": "markdown",
      "source": [
        "문제 설명 : value값에 있는 list를 for문 items를 활용해서 day, dates 나누고 그다음 다시 for문을 사용해 dates를 문제에서 원하는 꼴로 변경시키고 새로운 list에 넣는다.\n",
        "\n",
        "그다음, sorted, 슬라이싱 하면 끝\n",
        "\n"
      ],
      "metadata": {
        "id": "UojL3eLrOSH8"
      }
    },
    {
      "cell_type": "code",
      "source": [
        "def solution(data) :\n",
        "    po = []\n",
        "    for day, dates in data.items() :\n",
        "        for date in dates :\n",
        "            date = date[2:]\n",
        "            po.append(date + \" \" + day)\n",
        "\n",
        "    po_sorted = sorted(po, reverse = True)\n",
        "    result = po_sorted[:3]\n",
        "    return result\n",
        "\n",
        "solution({'월': ['2024-01-01', '2024-01-08', '2024-01-15', '2024-01-22'], '화': ['2024-01-02', '2024-01-09', '2024-01-16'],\n",
        " '수': ['2024-01-03', '2024-01-10'], '목': ['2024-01-04', '2024-01-11', '2024-01-18'],\n",
        " '금': ['2024-01-05', '2024-01-12', '2024-01-19', '2024-01-24']})"
      ],
      "metadata": {
        "colab": {
          "base_uri": "https://localhost:8080/"
        },
        "id": "8Th9yRjLJEkV",
        "outputId": "bd265755-a6fd-465f-bcf3-d9f08b4f2815"
      },
      "execution_count": 18,
      "outputs": [
        {
          "output_type": "execute_result",
          "data": {
            "text/plain": [
              "['24-01-24 금', '24-01-22 월', '24-01-19 금']"
            ]
          },
          "metadata": {},
          "execution_count": 18
        }
      ]
    },
    {
      "cell_type": "markdown",
      "source": [
        "굳이 이중 for문을 써야 하나 한번 dates 그대로 po에 넣을 수 있는지 봤는데\n",
        "\n",
        "can only concatenate list (not \"str\") to list\n",
        "\n",
        "dates가 list라서 못 넣는단다,\n",
        "day는 str 인걸로 확인\n"
      ],
      "metadata": {
        "id": "MN5OKn33PMoD"
      }
    },
    {
      "cell_type": "code",
      "source": [
        "po = []\n",
        "data = {'월': ['2024-01-01', '2024-01-08', '2024-01-15', '2024-01-22'], '화': ['2024-01-02', '2024-01-09', '2024-01-16'],\n",
        " '수': ['2024-01-03', '2024-01-10'], '목': ['2024-01-04', '2024-01-11', '2024-01-18'],\n",
        " '금': ['2024-01-05', '2024-01-12', '2024-01-19', '2024-01-24']}\n",
        "\n",
        "for day, dates in data.items():\n",
        "    po.append(dates+ \" \" + day)\n",
        "print(po)\n",
        "# sorted_schedules = sorted(po, reverse = True)\n",
        "# recent_schedules = sorted_schedules[:3]\n"
      ],
      "metadata": {
        "id": "ls826P7aIRsb"
      },
      "execution_count": null,
      "outputs": []
    },
    {
      "cell_type": "markdown",
      "source": [
        "# 문제 18번\n",
        "\n"
      ],
      "metadata": {
        "id": "HtgyXVGhNpr8"
      }
    },
    {
      "cell_type": "markdown",
      "source": [
        "data의 type은 dict\n",
        "\n",
        "dict.items()의 type은 dict_items\n",
        "\n",
        "dict_items의 세부 요소는 tuple\n",
        "\n",
        "key=lambda x: x[1]라면, tuple(첫번쨰 요소temp)\n",
        "\n"
      ],
      "metadata": {
        "id": "pzuhW2ifiXkg"
      }
    },
    {
      "cell_type": "code",
      "source": [
        "def solution(temperature_data):\n",
        "    sorted_temperatures = sorted(temperature_data.items(), key=lambda x: x[1], reverse=True)\n",
        "    top_3_temperatures = sorted_temperatures[:3]\n",
        "    result_temp = []\n",
        "    for item in top_3_temperatures :\n",
        "        result = item[0][2:] + \": \" + str(item[1])\n",
        "        result_temp.append(result)\n",
        "    return result_temp\n",
        "solution({'2024-01-01': 15, '2024-01-02': 17, '2024-01-03': 16, '2024-01-04': 20, '2024-01-05': 19, '2024-01-06': 21, '2024-01-07': 18})"
      ],
      "metadata": {
        "id": "xKtJBQVVTwDh"
      },
      "execution_count": null,
      "outputs": []
    },
    {
      "cell_type": "markdown",
      "source": [
        "x는 각 튜플을 의미하며, x[0]은 날짜, x[1] 기온이고, reverse = True이기 때문에 최고기온이 앞에 오는걸 볼 수 있다"
      ],
      "metadata": {
        "id": "t2ZCq7gGeQPJ"
      }
    },
    {
      "cell_type": "code",
      "source": [
        "data = {'2024-01-01': 15, '2024-01-02': 17, '2024-01-03': 16, '2024-01-04': 20, '2024-01-05': 19, '2024-01-06': 21, '2024-01-07': 18}\n",
        "sorted_temperatures = sorted(data.items(), key=lambda x: x[1], reverse=True)\n"
      ],
      "metadata": {
        "id": "2znct_sfYYax"
      },
      "execution_count": null,
      "outputs": []
    },
    {
      "cell_type": "markdown",
      "source": [
        "# 문제 19번"
      ],
      "metadata": {
        "id": "28TyIvICxQi8"
      }
    },
    {
      "cell_type": "markdown",
      "source": [
        "1) result에 type(i).__name__ 을 사용해 데이터 타입을 보는 방법\n",
        "\n",
        "2) type(i)에 str로 씌어서 분리가 가능하게 만들고, 분리해서 쓰는 방법, 재치있었음.\n",
        "\n",
        "(str(type(i)).split(\"'\")[1])"
      ],
      "metadata": {
        "id": "-NAoJfuaxW50"
      }
    },
    {
      "cell_type": "code",
      "source": [
        "def solution(data) :\n",
        "    result = []\n",
        "    for i in data :\n",
        "        result.append(type(i).__name__)\n",
        "    return result\n",
        "\n",
        "solution([123, 4.56, 'hello', [1, 2, 3], (4, 5), {'a': 1, 'b': 2}])"
      ],
      "metadata": {
        "colab": {
          "base_uri": "https://localhost:8080/"
        },
        "id": "NbnEsM2Gvibt",
        "outputId": "ed79e30f-925c-429a-fdaf-66348b229ba6"
      },
      "execution_count": 6,
      "outputs": [
        {
          "output_type": "execute_result",
          "data": {
            "text/plain": [
              "['int', 'float', 'str', 'list', 'tuple', 'dict']"
            ]
          },
          "metadata": {},
          "execution_count": 6
        }
      ]
    },
    {
      "cell_type": "code",
      "source": [
        "def solution(data):\n",
        "    result = []\n",
        "    for item in data:\n",
        "        result.append(str(type(item)).split(\"'\")[1])\n",
        "    return result\n",
        "\n",
        "solution([123, 4.56, 'hello', [1, 2, 3], (4, 5), {'a': 1, 'b': 2}])"
      ],
      "metadata": {
        "colab": {
          "base_uri": "https://localhost:8080/"
        },
        "id": "x3PnhT-WtZpV",
        "outputId": "6086fcb9-d90c-4610-c04a-5c73424f4279"
      },
      "execution_count": 31,
      "outputs": [
        {
          "output_type": "execute_result",
          "data": {
            "text/plain": [
              "['int', 'float', 'str', 'list', 'tuple', 'dict']"
            ]
          },
          "metadata": {},
          "execution_count": 31
        }
      ]
    },
    {
      "cell_type": "code",
      "source": [],
      "metadata": {
        "id": "ephSpnMfwqAE"
      },
      "execution_count": null,
      "outputs": []
    },
    {
      "cell_type": "markdown",
      "source": [
        "# 문제 20번\n",
        "\n"
      ],
      "metadata": {
        "id": "cLPJsJMm6EI_"
      }
    },
    {
      "cell_type": "code",
      "source": [
        "def solution(data) :\n",
        "    po = []\n",
        "    for i in data :\n",
        "        if type(i[1]).__name__ == i[0] :\n",
        "            po.append(True)\n",
        "        else :\n",
        "            po.append(False)\n",
        "    print(po)\n",
        "\n",
        "\n",
        "    if all(po) is True :\n",
        "        return True\n",
        "    else :\n",
        "        return False\n",
        "\n",
        "solution([('list', [1, 2, 3]), ('int', 4), ('str', 'hello')])"
      ],
      "metadata": {
        "colab": {
          "base_uri": "https://localhost:8080/"
        },
        "id": "nQgI5BEA6IA5",
        "outputId": "063705f4-a15a-409f-c3f8-113331e54945"
      },
      "execution_count": 18,
      "outputs": [
        {
          "output_type": "stream",
          "name": "stdout",
          "text": [
            "[True, True, True]\n"
          ]
        },
        {
          "output_type": "execute_result",
          "data": {
            "text/plain": [
              "True"
            ]
          },
          "metadata": {},
          "execution_count": 18
        }
      ]
    },
    {
      "cell_type": "markdown",
      "source": [
        "# 문제 21번\n",
        "\n"
      ],
      "metadata": {
        "id": "aNNxUF7L6rNK"
      }
    },
    {
      "cell_type": "code",
      "source": [
        "def solution(data):\n",
        "    try:\n",
        "        return data[0].index(data[1])\n",
        "    except ValueError:\n",
        "        return False\n",
        "\n",
        "solution(([1, 3, 5, 7, 9], 6))"
      ],
      "metadata": {
        "colab": {
          "base_uri": "https://localhost:8080/"
        },
        "id": "eSpzPxIEAyp4",
        "outputId": "e07004aa-eea0-4fa6-dfe9-a78bf72b1088"
      },
      "execution_count": 36,
      "outputs": [
        {
          "output_type": "execute_result",
          "data": {
            "text/plain": [
              "False"
            ]
          },
          "metadata": {},
          "execution_count": 36
        }
      ]
    },
    {
      "cell_type": "markdown",
      "source": [
        "# 문제 22번"
      ],
      "metadata": {
        "id": "LRJQl8YZBYzA"
      }
    },
    {
      "cell_type": "markdown",
      "source": [
        "21번이랑 똑같네??"
      ],
      "metadata": {
        "id": "KMN9xj8aDwwo"
      }
    },
    {
      "cell_type": "code",
      "source": [
        "def solution(data):\n",
        "    try :\n",
        "        return data[0].index(data[1])\n",
        "    except ValueError :\n",
        "        return False\n",
        "\n",
        "solution(('world', 'a'))\n"
      ],
      "metadata": {
        "colab": {
          "base_uri": "https://localhost:8080/"
        },
        "id": "KoU18uH_Cb4_",
        "outputId": "601ea936-6806-403f-a6fe-bf1dd2368d22"
      },
      "execution_count": 42,
      "outputs": [
        {
          "output_type": "execute_result",
          "data": {
            "text/plain": [
              "False"
            ]
          },
          "metadata": {},
          "execution_count": 42
        }
      ]
    },
    {
      "cell_type": "markdown",
      "source": [
        "# 문제 23번"
      ],
      "metadata": {
        "id": "qD0UNryfKbUH"
      }
    },
    {
      "cell_type": "markdown",
      "source": [
        "나의 답에서 오답인 이유는,\n",
        "\n",
        "내 예상은 True가 나오면 바로 for문 탈출인줄 알았는데,\n",
        "\n",
        "첫 번째 순회가 False가 되버리면 바로 False 값이 나오고 for문이 종료 된다.\n",
        "\n",
        "고로, else문을 지우고 첫번째 for문에 return False를 입력하자"
      ],
      "metadata": {
        "id": "9EcbsoChSF-1"
      }
    },
    {
      "cell_type": "code",
      "source": [
        "# 나의 답 : 오답\n",
        "def solution(data) :\n",
        "\n",
        "    for i in data[0] :\n",
        "        for k in i :\n",
        "            if k == data[1] :\n",
        "                return True\n",
        "            else :\n",
        "                return False\n",
        "\n",
        "\n",
        "solution(([[1, 3, 5], [7, 9, 11], [13, 15, 17]], 7))"
      ],
      "metadata": {
        "colab": {
          "base_uri": "https://localhost:8080/"
        },
        "id": "jeLJH5hzJyUu",
        "outputId": "11388368-1726-4fc1-af38-0d1f1fbb263a"
      },
      "execution_count": 14,
      "outputs": [
        {
          "output_type": "execute_result",
          "data": {
            "text/plain": [
              "False"
            ]
          },
          "metadata": {},
          "execution_count": 14
        }
      ]
    },
    {
      "cell_type": "code",
      "source": [
        "# 해답\n",
        "def solution(data):\n",
        "    target = data[1]\n",
        "    array = data[0]\n",
        "\n",
        "    for row in array:\n",
        "        for n in row:\n",
        "            if target == n:\n",
        "                return True\n",
        "    return False\n"
      ],
      "metadata": {
        "colab": {
          "base_uri": "https://localhost:8080/"
        },
        "id": "KSDd2CAyN2Yl",
        "outputId": "0f592d6f-0fea-40d1-91e8-9060c78730b8"
      },
      "execution_count": 10,
      "outputs": [
        {
          "output_type": "stream",
          "name": "stdout",
          "text": [
            "False\n"
          ]
        }
      ]
    },
    {
      "cell_type": "markdown",
      "source": [
        "# 문제 24번"
      ],
      "metadata": {
        "id": "iyJvJ56ITiQU"
      }
    },
    {
      "cell_type": "markdown",
      "source": [
        "누적 합에 관련된 문제이다.\n",
        "\n",
        "이중 for문이 떠올라 힘들게 했지만 뤼튼 형님의 말을 들어보자\n",
        "\n",
        "1)max 함수를 이용하자\n",
        "\n",
        ": 솔직히 뭔 말인지 모르겠다.\n",
        "\n",
        "2) 이중 for문 사용하자.\n",
        "\n",
        "생각하던 로직이라 바로 이해가 되었다\n",
        "\n",
        "i와 j를 어떻게 구성하는게 제일 큰 관건인데,\n",
        "\n",
        "여기서는 두 번째 for문에서 i와 j를 함께 썼다.\n",
        "\n",
        "range(i, len(data))를 활용해, j의 시작점을 i의 변수가 바뀔때마다 변경하게 만들었고\n",
        "\n",
        "max함수를 통해 값 비교를 하며 최댓값을 max_sum에 갱신 시켰다.\n",
        "\n",
        "그래도 끝까지 고민하고 뤼튼 형님한테 물어보니 더욱 이해가 되고 재미가 있다.\n",
        "\n"
      ],
      "metadata": {
        "id": "8qsS6bV9tufY"
      }
    },
    {
      "cell_type": "code",
      "source": [
        "# 1) max로 활용해서 문제 풀기\n",
        "def solution(data):\n",
        "    max_sum = data[0]\n",
        "    current_sum = 0\n",
        "\n",
        "    for n in data:\n",
        "        #print(f'**{n}**')\n",
        "        current_sum = max(current_sum + n, n)\n",
        "        #print(current_sum)\n",
        "        max_sum = max(max_sum, current_sum)\n",
        "        #print(max_sum)\n",
        "    return max_sum\n",
        "\n",
        "solution([1, -2, 3, 4, -1, 2, 1, -5, 4])"
      ],
      "metadata": {
        "id": "3Zieit9jt601"
      },
      "execution_count": null,
      "outputs": []
    },
    {
      "cell_type": "code",
      "source": [
        "# 2) 2중 for문 사용하기\n",
        "\n",
        "def solution(data):\n",
        "    max_sum = float('-inf')\n",
        "\n",
        "    for i in range(len(data)):\n",
        "        #print(f'i는 : {i}')\n",
        "        current_sum = 0\n",
        "        for j in range(i, len(data)):\n",
        "            current_sum += data[j]\n",
        "            #print(f'더하는 값 : {data[j]}')\n",
        "            max_sum = max(max_sum, current_sum)\n",
        "            #print(f'현재 max : {max_sum}')\n",
        "\n",
        "    return max_sum\n",
        "\n",
        "\n",
        "solution([1, -2, 3, 4])\n"
      ],
      "metadata": {
        "id": "O9mMhUIEt6ot"
      },
      "execution_count": null,
      "outputs": []
    },
    {
      "cell_type": "code",
      "source": [
        "#나의 오답\n",
        "data = [1,2,3]\n",
        "for i in range(len(data)) :\n",
        "    sum = data[i]\n",
        "    print(f'다시 시작 : {sum}')\n",
        "    for k in range(len(data)) :\n",
        "        print(data[k])\n",
        "        #print((len(data) - i))"
      ],
      "metadata": {
        "id": "3XVO6WURYAeb"
      },
      "execution_count": null,
      "outputs": []
    }
  ]
}