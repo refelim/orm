{
  "nbformat": 4,
  "nbformat_minor": 0,
  "metadata": {
    "colab": {
      "provenance": []
    },
    "kernelspec": {
      "name": "python3",
      "display_name": "Python 3"
    },
    "language_info": {
      "name": "python"
    }
  },
  "cells": [
    {
      "cell_type": "code",
      "source": [
        "# for문을 추가 하면서 재배치\n",
        "\n",
        "# Step 3. secret_number은 고정 값\n",
        "\n",
        "import random\n",
        "secret_number = random.randrange(1, 101)\n",
        "\n",
        "for i in range(20) : # Step1. 반복할 값을 지정한다.\n",
        "    print(f\"{i+1}번째 숫자를 입력하세요\")\n",
        "    number = int(input('숫자를 입력하세요(1에서 100까지)')) # Step 2. input을 지정한다\n",
        "\n",
        "    if number == secret_number : # Step 4 : 조건문\n",
        "        print(\"정답\")\n",
        "        print(f'{i+1}번째 탈출 성공!')\n",
        "        break\n",
        "    elif number > secret_number :\n",
        "        print('틀렸습니다. 낮춰')\n",
        "    else :\n",
        "        print('틀렸습니다. 높여')\n",
        "\n",
        "\n",
        "\n",
        "\n",
        "# Step 3. 왜 틀렸는데?! Up/down 힌트를 주면 좋을것 같다.\n",
        "# 다 되신분들은 사용자가 20번안에 정답을 맞추지 못하면 정답을 알려주는,\n",
        "# 몇번만에 맞췄는지 알려주는 문구를 포함"
      ],
      "metadata": {
        "colab": {
          "base_uri": "https://localhost:8080/"
        },
        "id": "99v_afmB53jJ",
        "outputId": "47a176bd-8fdd-4f01-bf8c-73f760587b64"
      },
      "execution_count": 11,
      "outputs": [
        {
          "output_type": "stream",
          "name": "stdout",
          "text": [
            "1번째 숫자를 입력하세요\n",
            "숫자를 입력하세요(1에서 100까지)1\n",
            "틀렸습니다. 높여\n",
            "2번째 숫자를 입력하세요\n",
            "숫자를 입력하세요(1에서 100까지)2\n",
            "틀렸습니다. 높여\n",
            "3번째 숫자를 입력하세요\n",
            "숫자를 입력하세요(1에서 100까지)54\n",
            "틀렸습니다. 낮춰\n",
            "4번째 숫자를 입력하세요\n",
            "숫자를 입력하세요(1에서 100까지)40\n",
            "틀렸습니다. 낮춰\n",
            "5번째 숫자를 입력하세요\n",
            "숫자를 입력하세요(1에서 100까지)32\n",
            "틀렸습니다. 낮춰\n",
            "6번째 숫자를 입력하세요\n",
            "숫자를 입력하세요(1에서 100까지)20\n",
            "틀렸습니다. 높여\n",
            "7번째 숫자를 입력하세요\n",
            "숫자를 입력하세요(1에서 100까지)26\n",
            "틀렸습니다. 낮춰\n",
            "8번째 숫자를 입력하세요\n",
            "숫자를 입력하세요(1에서 100까지)24\n",
            "틀렸습니다. 낮춰\n",
            "9번째 숫자를 입력하세요\n",
            "숫자를 입력하세요(1에서 100까지)23\n",
            "틀렸습니다. 낮춰\n",
            "10번째 숫자를 입력하세요\n",
            "숫자를 입력하세요(1에서 100까지)22\n",
            "틀렸습니다. 낮춰\n",
            "11번째 숫자를 입력하세요\n",
            "숫자를 입력하세요(1에서 100까지)21\n",
            "정답\n",
            "10번째 탈출 성공!\n"
          ]
        }
      ]
    },
    {
      "cell_type": "code",
      "source": [
        "# Step 1 : 우리가 낼 가위, 바위, 보를 입력 받는다.\n",
        "# Step 2 : 컴퓨터가 낼 가위, 바위, 보를 입력 받는다.\n",
        "# Step 3 : 승패요건 # 너무 어렵하시지 마세요! -> if문! ///여기까지\n",
        "# Step 4 : 가위,바위,보 외에 다른거를 냈을때 어떻게 해야하는지? / 종료하고싶은지 물어보는것도 추가!\n",
        "\n",
        "import random\n",
        "user_choice = input('가위,바위,보 중에 하나를 입력하세요')\n",
        "print(f\"당신의 선택은 {user_choice} 입니다\")\n",
        "\n",
        "computer_choice = random.choice(['가위', '바위', '보'])\n",
        "print(f\"상대방의 선택은 {computer_choice} 입니다\")\n",
        "\n",
        "\n",
        "if user_choice == computer_choice :\n",
        "    print(\"무승부 입니다.\")\n",
        "elif (\n",
        "     (user_choice == \"가위\" and computer_choice == \"보\") or\n",
        "     (user_choice == \"보\" and computer_choice == \"바위\") or\n",
        "     (user_choice == \"바위\" and computer_choice == \"가위\")\n",
        "):\n",
        "     print(\"이겼습니다.\")\n",
        "else :\n",
        "    print(\"졌습니다.\")\n",
        "\n",
        "\n"
      ],
      "metadata": {
        "colab": {
          "base_uri": "https://localhost:8080/"
        },
        "id": "aSqx-uB79Kr2",
        "outputId": "5d6c0de0-4258-4cc2-82f0-24ccb6238cd8"
      },
      "execution_count": 7,
      "outputs": [
        {
          "output_type": "stream",
          "name": "stdout",
          "text": [
            "가위,바위,보 중에 하나를 입력하세요보\n",
            "당신의 선택은 보 입니다\n",
            "상대방의 선택은 보 입니다\n",
            "무승부 입니다.\n"
          ]
        }
      ]
    },
    {
      "cell_type": "markdown",
      "source": [
        "# 혜원 멘토님 - 조건문 반복문 문제\n",
        "\n",
        "문제 1\n",
        "* 숫자를 하나 입력받아, 그 숫자가 5보다 큰지 확인하는 프로그램을 작성해보세요.\n",
        "\n",
        "문제 2\n",
        "* \"안녕하세요!\"를 5번 출력하는 프로그램을 작성해보세요.\n",
        "\n",
        "문제3\n",
        "* 1부터 10까지의 숫자 중에서, 짝수만 출력하는 프로그램을 작성해보세요.\n",
        "\n",
        "문제4\n",
        "* 1부터 20까지의 숫자 중, 3의 배수만 출력하는 프로그램을 작성하세요.\n",
        "\n",
        "문제5\n",
        "* 구구단 2단부터 9단까지 출력하는 프로그램을 작성하세요."
      ],
      "metadata": {
        "id": "RFS76mzVFXVN"
      }
    },
    {
      "cell_type": "code",
      "source": [
        "# 문제 1\n",
        "\n",
        "number = int(input(\"숫자를 입력해주세요\"))\n",
        "if number > 5 :\n",
        "     print(f\"{number}은(는) 5보다 큽니다\")\n",
        "else :\n",
        "     print(f\"{number}은(는) 5보다 같거나 작습니다\")\n"
      ],
      "metadata": {
        "id": "BAvdoY4W-uXo"
      },
      "execution_count": null,
      "outputs": []
    },
    {
      "cell_type": "code",
      "source": [
        "# 문제 2\n",
        "\n",
        "for i in range(5) :\n",
        "    print(\"안녕 하세요!\")"
      ],
      "metadata": {
        "id": "Hs0Q2XEzGq0n"
      },
      "execution_count": null,
      "outputs": []
    },
    {
      "cell_type": "code",
      "source": [
        "# 문제 3\n",
        "\n",
        "for i in range(1,11) :\n",
        "    if i % 2 == 0 :\n",
        "        print(i)\n",
        "    else :\n",
        "        pass"
      ],
      "metadata": {
        "id": "_fEmNmVKH6X0"
      },
      "execution_count": null,
      "outputs": []
    },
    {
      "cell_type": "code",
      "source": [
        "# 문제 4\n",
        "\n",
        "for i in range(1,21) :\n",
        "    if i % 3 == 0 :\n",
        "        print(i)\n",
        "    else :\n",
        "        pass"
      ],
      "metadata": {
        "id": "OuhtAyekIyDj"
      },
      "execution_count": null,
      "outputs": []
    },
    {
      "cell_type": "code",
      "source": [
        "# 문제 5\n",
        "for i in range(2,10) :\n",
        "    print()\n",
        "    print(f\"==={i}단===\")\n",
        "    for j in range(1,10):\n",
        "        print(f\"{i} * {j} = {i*j}\")\n"
      ],
      "metadata": {
        "id": "qs0D7YUqJHOh"
      },
      "execution_count": null,
      "outputs": []
    }
  ]
}