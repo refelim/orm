{
  "nbformat": 4,
  "nbformat_minor": 0,
  "metadata": {
    "colab": {
      "provenance": []
    },
    "kernelspec": {
      "name": "python3",
      "display_name": "Python 3"
    },
    "language_info": {
      "name": "python"
    }
  },
  "cells": [
    {
      "cell_type": "markdown",
      "source": [
        "## 아는 내용 위주이기에 생소하거나 까먹은 내용을 따로 적는다"
      ],
      "metadata": {
        "id": "lIm4fu4UNUO1"
      }
    },
    {
      "cell_type": "markdown",
      "source": [
        "2.3.3 다양한 슬라이싱 형태 알아보기"
      ],
      "metadata": {
        "id": "RxEMZiZEPRJ2"
      }
    },
    {
      "cell_type": "code",
      "source": [
        "s = 'weniv CEO Licat'\n",
        "print(s[::-1]) # 역순을 만들때 자주 사용합니다\n",
        "s[10:20] # 슬라이싱은 에러가 발생하지 않는다"
      ],
      "metadata": {
        "id": "imJWpEbiOqtX"
      },
      "execution_count": null,
      "outputs": []
    },
    {
      "cell_type": "markdown",
      "source": [
        "문제 1번입니다. 위와 같은 문자열이 있을 때 뒤에 .png를 없애는 문제입니다. 아마도 여러분은 아래와 같이 코딩을 했을 수 있습니다."
      ],
      "metadata": {
        "id": "3TbMcjfYPtVd"
      }
    },
    {
      "cell_type": "code",
      "source": [
        "s = 'weniv_licat.png'\n",
        "s[:11] # 출력 : weniv_licat\n",
        "s[:-4] # 출력 : weniv_licat"
      ],
      "metadata": {
        "id": "-B2kg76CPZbP"
      },
      "execution_count": null,
      "outputs": []
    },
    {
      "cell_type": "markdown",
      "source": [
        "문제 2번입니다. 파일명이 어떻게 되든 저는 확장자를 알고 싶습니다."
      ],
      "metadata": {
        "id": "ug1k4UXpP7Kn"
      }
    },
    {
      "cell_type": "code",
      "source": [
        "s = 'weniv_licat.png'\n",
        "s[-3:]#P의 위치입니다. 인덱스로는 12이기에 [12:]와 같습니다.\n",
        "s[-1:-4] # 오답 (음에 방향으로 가려면 step값을 -로 명시해야 합니다.)"
      ],
      "metadata": {
        "colab": {
          "base_uri": "https://localhost:8080/",
          "height": 35
        },
        "id": "mKiS5ZENP9m3",
        "outputId": "479cef35-ec9e-4662-841a-370c72267096"
      },
      "execution_count": null,
      "outputs": [
        {
          "output_type": "execute_result",
          "data": {
            "text/plain": [
              "'png'"
            ],
            "application/vnd.google.colaboratory.intrinsic+json": {
              "type": "string"
            }
          },
          "metadata": {},
          "execution_count": 1
        }
      ]
    },
    {
      "cell_type": "markdown",
      "source": [
        "### 2.3.4 슬라이싱 나아가기\n",
        "\n",
        "슬라이싱은 C구현체로 되어 있어 메서드보다 빠릅니다. 따라서 메서드로 잘라내는 것 보다는 슬라이싱을 적극적으로 활용하시는 것을 권해드립니다.\n",
        "\n",
        "또한 슬라이싱을 아래처럼 복사하는 용도로도 사용합니다. 다만 리스트, 얕은 복사, 깊은 복사에 대한 개념은 이 챕터에서 설명하지 않고 뒤에서 다룹니다."
      ],
      "metadata": {
        "id": "8RYgqXTLQJ_u"
      }
    },
    {
      "cell_type": "code",
      "source": [
        "s = 'weniv CEO licat'\n",
        "s.lower() # 전체를 소문자로 바꿈\n",
        "s.upper() # 전체를 대문자로 바꿈"
      ],
      "metadata": {
        "colab": {
          "base_uri": "https://localhost:8080/",
          "height": 35
        },
        "id": "tlcqvQ1WQ3ml",
        "outputId": "e9d14781-6810-483b-cc49-bfcef4db75bb"
      },
      "execution_count": null,
      "outputs": [
        {
          "output_type": "execute_result",
          "data": {
            "text/plain": [
              "'WENIV CEO LICAT'"
            ],
            "application/vnd.google.colaboratory.intrinsic+json": {
              "type": "string"
            }
          },
          "metadata": {},
          "execution_count": 2
        }
      ]
    },
    {
      "cell_type": "markdown",
      "source": [
        "## 3.2 find( ) / index( )\n",
        "\n",
        "find( )와 index( )는 특정 데이터를 찾아서 출력해주는 메서드입니다. 다만 두개의 메서드가 완전히 동일한 기능을 수행하는 것은 아닙니다. 찾을 수 없는 문자열일 경우 find는 -1을 반환하는 반면, index는 error를 반환합니다."
      ],
      "metadata": {
        "id": "0UqM-OusRIjA"
      }
    },
    {
      "cell_type": "code",
      "source": [
        "s = 'weniv CEO licat'\n",
        "s.find('CEO') #문자열을 찾아주는 method\n",
        "s.index('CEO')\n",
        "s = 'weniv CEO licat'\n",
        "s.find('CTO')\n",
        "s.index('CTO')"
      ],
      "metadata": {
        "colab": {
          "base_uri": "https://localhost:8080/",
          "height": 221
        },
        "id": "63QDmHe0RSxk",
        "outputId": "7974072d-58c0-4343-e818-ce1a345f4eaa"
      },
      "execution_count": null,
      "outputs": [
        {
          "output_type": "error",
          "ename": "ValueError",
          "evalue": "ignored",
          "traceback": [
            "\u001b[0;31m---------------------------------------------------------------------------\u001b[0m",
            "\u001b[0;31mValueError\u001b[0m                                Traceback (most recent call last)",
            "\u001b[0;32m<ipython-input-3-5bc6f17760bf>\u001b[0m in \u001b[0;36m<cell line: 6>\u001b[0;34m()\u001b[0m\n\u001b[1;32m      4\u001b[0m \u001b[0ms\u001b[0m \u001b[0;34m=\u001b[0m \u001b[0;34m'weniv CEO licat'\u001b[0m\u001b[0;34m\u001b[0m\u001b[0;34m\u001b[0m\u001b[0m\n\u001b[1;32m      5\u001b[0m \u001b[0ms\u001b[0m\u001b[0;34m.\u001b[0m\u001b[0mfind\u001b[0m\u001b[0;34m(\u001b[0m\u001b[0;34m'CTO'\u001b[0m\u001b[0;34m)\u001b[0m\u001b[0;34m\u001b[0m\u001b[0;34m\u001b[0m\u001b[0m\n\u001b[0;32m----> 6\u001b[0;31m \u001b[0ms\u001b[0m\u001b[0;34m.\u001b[0m\u001b[0mindex\u001b[0m\u001b[0;34m(\u001b[0m\u001b[0;34m'CTO'\u001b[0m\u001b[0;34m)\u001b[0m\u001b[0;34m\u001b[0m\u001b[0;34m\u001b[0m\u001b[0m\n\u001b[0m",
            "\u001b[0;31mValueError\u001b[0m: substring not found"
          ]
        }
      ]
    },
    {
      "cell_type": "markdown",
      "source": [
        "## 3.3 count( )\n",
        "\n",
        "count( )는 특정 문자열이나 숫자의 개수를 셀 때 사용하는 method입니다."
      ],
      "metadata": {
        "id": "gJJ5We0ARaF-"
      }
    },
    {
      "cell_type": "code",
      "source": [
        "s = 'weniv CEO licat'\n",
        "s.count('i') #문자열이나 숫자를 셀 때 사용"
      ],
      "metadata": {
        "colab": {
          "base_uri": "https://localhost:8080/"
        },
        "id": "rRH6K5QiRfOt",
        "outputId": "a68e3d47-0203-454f-8e7a-7140746dc602"
      },
      "execution_count": null,
      "outputs": [
        {
          "output_type": "execute_result",
          "data": {
            "text/plain": [
              "2"
            ]
          },
          "metadata": {},
          "execution_count": 4
        }
      ]
    },
    {
      "cell_type": "markdown",
      "source": [
        "## 3.4 strip( )\n",
        "\n",
        "strip( )은 문자열의 양쪽에 있는 공백을 제거하는 method입니다."
      ],
      "metadata": {
        "id": "ZWXsjZmeRiBt"
      }
    },
    {
      "cell_type": "code",
      "source": [
        "s = '    weniv CEO licat     '\n",
        "s.strip() #양쪽 공백을 제거하는 method"
      ],
      "metadata": {
        "colab": {
          "base_uri": "https://localhost:8080/",
          "height": 35
        },
        "id": "rTjQ_TtwRlfe",
        "outputId": "46f097ae-38e5-4c37-86f4-8edd42f8a76c"
      },
      "execution_count": null,
      "outputs": [
        {
          "output_type": "execute_result",
          "data": {
            "text/plain": [
              "'weniv CEO licat'"
            ],
            "application/vnd.google.colaboratory.intrinsic+json": {
              "type": "string"
            }
          },
          "metadata": {},
          "execution_count": 5
        }
      ]
    },
    {
      "cell_type": "markdown",
      "source": [
        "양쪽에 공백만 제거하는 것이 아니라 아래처럼 다른 문자열들도 제거할 수 있습니다. 제거하고 싶은 문자를 strip 괄호 안에 문자열로 넣어주면 됩니다. 아래 예제는 공백과 콤마, 느낌표를 제거하는 예제입니다."
      ],
      "metadata": {
        "id": "WS2Xs-ETRnPe"
      }
    },
    {
      "cell_type": "code",
      "source": [
        "'    ,!!  hello world   '.strip(' ,!')\n",
        "#양쪽의 공백과 ',!'을 제거해주는 method"
      ],
      "metadata": {
        "colab": {
          "base_uri": "https://localhost:8080/",
          "height": 35
        },
        "id": "q-NoWTgISBh1",
        "outputId": "9545fb7f-0db6-403f-c366-0afe53427c65"
      },
      "execution_count": null,
      "outputs": [
        {
          "output_type": "execute_result",
          "data": {
            "text/plain": [
              "'hello world'"
            ],
            "application/vnd.google.colaboratory.intrinsic+json": {
              "type": "string"
            }
          },
          "metadata": {},
          "execution_count": 6
        }
      ]
    },
    {
      "cell_type": "markdown",
      "source": [
        "## 3.5 replace( )"
      ],
      "metadata": {
        "id": "iL4swAz_SZy1"
      }
    },
    {
      "cell_type": "code",
      "source": [
        "# 이렇게 수정된 문자열이 원본에 반영되지 않는다는 사실을 기억해주세요.\n",
        "\n",
        "s = 'weniv CEO licat'\n",
        "ss = s.replace('i', 'I')\n",
        "ss, s # 출력: ('weniv CEO licat', 'wenIv CEO lIcat')"
      ],
      "metadata": {
        "colab": {
          "base_uri": "https://localhost:8080/"
        },
        "id": "JZayqm29SD01",
        "outputId": "33800f69-fbf8-45d5-8940-e3eef338365d"
      },
      "execution_count": null,
      "outputs": [
        {
          "output_type": "execute_result",
          "data": {
            "text/plain": [
              "('wenIv CEO lIcat', 'weniv CEO licat')"
            ]
          },
          "metadata": {},
          "execution_count": 7
        }
      ]
    },
    {
      "cell_type": "markdown",
      "source": [
        "## 3.6 split( ) / join( )\n",
        "\n",
        "split과 join은 문자열을 나누고 합치는 메서드입니다. 이러한 메서드를 통해 원하는 형식으로 데이터를 분할하고 합칠 수 있습니다."
      ],
      "metadata": {
        "id": "WeupdQPMTc1_"
      }
    },
    {
      "cell_type": "code",
      "source": [
        "s = 'weniv CEO licat'\n",
        "s.split() #공백을 기준으로 문자열 나누기\n",
        "s = 'weniv-CEO-licat'\n",
        "s.split('-') #-을 기준으로 문자열 나누기\n",
        "s = ['weniv', 'CEO', 'licat']\n",
        "'-'.join(s) #리스트를 하나의 문자열로 합치기"
      ],
      "metadata": {
        "colab": {
          "base_uri": "https://localhost:8080/",
          "height": 35
        },
        "id": "4hRQdXszTfit",
        "outputId": "20183db4-cc99-457a-b840-38560af654bf"
      },
      "execution_count": null,
      "outputs": [
        {
          "output_type": "execute_result",
          "data": {
            "text/plain": [
              "'weniv-CEO-licat'"
            ],
            "application/vnd.google.colaboratory.intrinsic+json": {
              "type": "string"
            }
          },
          "metadata": {},
          "execution_count": 8
        }
      ]
    },
    {
      "cell_type": "markdown",
      "source": [
        "## 3.7 isalnum( ) / isdigit( ) / isalpha( ) / isascii( )\n",
        "\n",
        "문자열이 숫자로만 이뤄져 있는지, 알파벳으로만 이뤄져 있는지 등을 검사하는 메서드입니다. 특히 isdigit, isalpha는 많이 사용하니 꼭 기억해주세요."
      ],
      "metadata": {
        "id": "HjkcTcCAUF2l"
      }
    },
    {
      "cell_type": "markdown",
      "source": [
        "### 3.7.1 isalnum( )\n",
        "\n",
        "isalnum( ) 메서드는 문자열에 특수문자가 들어가 있으면 False, 한글이나 영어, 일본어, 중국어, 숫자 등이 들어가 있으면 False를 반환하는 메서드입니다. 이를 통해 특수문자만 뽑아내거나 특수문자만 남게 하는 것이 가능합니다. 여기서 al는 알파벳, num은 숫자를 뜻하는데요. 알파벳이 영어만을 가리지는 않고, 한글이나 일본어 등도 True로 출력한다는 것을 주의해주세요."
      ],
      "metadata": {
        "id": "lnGcOoCaVorq"
      }
    },
    {
      "cell_type": "code",
      "source": [
        "'abcd1234'.isalnum() # 출력: True\n",
        "'안녕하세요'.isalnum() # 출력: True\n",
        "'こんにちは'.isalnum() # 출력: True\n",
        "'你好'.isalnum() # 출력: True"
      ],
      "metadata": {
        "colab": {
          "base_uri": "https://localhost:8080/"
        },
        "id": "XpyyE40iVytT",
        "outputId": "2e2d13c1-b459-43d4-952c-a76e8ae5c8f4"
      },
      "execution_count": null,
      "outputs": [
        {
          "output_type": "execute_result",
          "data": {
            "text/plain": [
              "True"
            ]
          },
          "metadata": {},
          "execution_count": 9
        }
      ]
    },
    {
      "cell_type": "markdown",
      "source": [
        "### 3.7.2 isdigit( )\n",
        "\n",
        "isdigit( ) 메서드는 문자열이 숫자로만 이루어져 있는지 확인하는 메서드입니다. 모든 문자가 숫자로 이루어져 있으면 True를 반환하고, 그렇지 않으면 False를 반환합니다."
      ],
      "metadata": {
        "id": "ZgaGbqFFV0Iq"
      }
    },
    {
      "cell_type": "code",
      "source": [
        "s = '123'\n",
        "s.isdigit() # 문자열이 숫자로만 이루어져 있는지 확인하는 method"
      ],
      "metadata": {
        "colab": {
          "base_uri": "https://localhost:8080/"
        },
        "id": "mfC74JIRWCfz",
        "outputId": "5b25a1b8-dbcf-4ea7-c906-823291eeba94"
      },
      "execution_count": null,
      "outputs": [
        {
          "output_type": "execute_result",
          "data": {
            "text/plain": [
              "True"
            ]
          },
          "metadata": {},
          "execution_count": 10
        }
      ]
    },
    {
      "cell_type": "markdown",
      "source": [
        "### 3.7.3 isalpha( )\n",
        "\n",
        "isalpha( ) 메서드는 문자열이 알파벳으로만 이루어져 있는지 확인하는 메서드입니다. 모든 문자가 알파벳으로 이루어져 있으면 True를 반환하고, 그렇지 않으면 False를 반환합니다. 앞에서 alnum에서 다뤄봤던 것처럼 영어, 한국어, 중국어 등을 모두 True로 취급합니다. 다만 첫번째 예시는 숫자가 섞여있기 때문에 False입니다.\n",
        "\n",
        "여기서 한가지 더 주의해야 할 것이 띄어쓰기는 알파벳으로 취급하지 않는다는 것입니다."
      ],
      "metadata": {
        "id": "nWwLH5RHWREc"
      }
    },
    {
      "cell_type": "code",
      "source": [
        "print('abcd1234'.isalpha()) # 출력: False\n",
        "print('안녕하세요'.isalpha()) # 출력: True\n",
        "print('こんにちは'.isalpha()) # 출력: True\n",
        "print('你好'.isalpha()) # 출력: True\n",
        "\n",
        "'hello world'.isalpha() # 출력: False\n",
        "'helloworld'.isalpha() # 출력: True"
      ],
      "metadata": {
        "colab": {
          "base_uri": "https://localhost:8080/"
        },
        "id": "_MPhoyKCWTUj",
        "outputId": "7e5435ed-a057-47b3-b1af-5d28375e9fdc"
      },
      "execution_count": null,
      "outputs": [
        {
          "output_type": "stream",
          "name": "stdout",
          "text": [
            "False\n",
            "True\n",
            "True\n",
            "True\n"
          ]
        },
        {
          "output_type": "execute_result",
          "data": {
            "text/plain": [
              "True"
            ]
          },
          "metadata": {},
          "execution_count": 11
        }
      ]
    },
    {
      "cell_type": "markdown",
      "source": [
        "### 3.7.4 isascii( )\n",
        "\n",
        "아스키 코드표 안에 있는 것이면 True를 아니면 False를 반환합니다. 주로 영어와 숫자, 일부 특수문자를 포함하고 있는지를 가려낼 때 사용합니다."
      ],
      "metadata": {
        "id": "CSpeJ3KhWd4U"
      }
    },
    {
      "cell_type": "code",
      "source": [
        "print('안녕'.isascii()) # 출력: False\n",
        "print('!@ ()+'.isascii()) # 출력: True\n",
        "print('hello'.isascii()) # 출력: True\n",
        "print('hello world'.isascii()) # 출력: True"
      ],
      "metadata": {
        "colab": {
          "base_uri": "https://localhost:8080/"
        },
        "id": "Q_mxdUOtWfPz",
        "outputId": "fe20c4b8-85e5-458a-cb74-b9d31af1d7cd"
      },
      "execution_count": null,
      "outputs": [
        {
          "output_type": "stream",
          "name": "stdout",
          "text": [
            "False\n",
            "True\n",
            "True\n",
            "True\n"
          ]
        }
      ]
    },
    {
      "cell_type": "markdown",
      "source": [
        "## 3.8 rjust( ) / ljust( ) / center( )\n",
        "\n",
        "rjust( ), ljust( ), center( ) 메서드는 문자열의 내용을 지정한 길이로 맞추고, 나머지 부분은 지정한 문자로 채우는 메서드입니다.\n",
        "\n",
        "- rjust( ) 메서드는 문자열을 지정한 길이로 맞추고, 왼쪽을 지정한 문자로 채우는 메서드입니다.\n",
        "\n",
        "- ljust( ) 메서드는 문자열을 지정한 길이로 맞추고, 오른쪽을 지정한 문자로 채우는 메서드입니다.\n",
        "\n",
        "- center( ) 메서드는 문자열을 지정한 길이로 맞추고, 양쪽을 지정한 문자로 채우는 메서드입니다.\n",
        "\n",
        "*숫자가 문자열의 길이보다 작을 경우 문자열 그대로 출력합니다."
      ],
      "metadata": {
        "id": "HZt67KbiWoAK"
      }
    },
    {
      "cell_type": "code",
      "source": [
        "s = 'licat'\n",
        "s.rjust(10, '-') # 문자열을 지정한 길이로 맞추고, 왼쪽을 '-'로 채움"
      ],
      "metadata": {
        "colab": {
          "base_uri": "https://localhost:8080/",
          "height": 35
        },
        "id": "i5VeYWiVWxL8",
        "outputId": "408db136-98fc-4cb5-df2e-a13b76883dc4"
      },
      "execution_count": null,
      "outputs": [
        {
          "output_type": "execute_result",
          "data": {
            "text/plain": [
              "'-----licat'"
            ],
            "application/vnd.google.colaboratory.intrinsic+json": {
              "type": "string"
            }
          },
          "metadata": {},
          "execution_count": 13
        }
      ]
    },
    {
      "cell_type": "code",
      "source": [
        "s = 'licat'\n",
        "s.ljust(10, '-') #문자열을 지정한 길이로 맞추고, 오른쪽을 '-'로 채우는 method"
      ],
      "metadata": {
        "colab": {
          "base_uri": "https://localhost:8080/",
          "height": 35
        },
        "id": "UnalGRbPXFxv",
        "outputId": "288b29ed-352c-49a8-fa62-b1eb78beb98b"
      },
      "execution_count": null,
      "outputs": [
        {
          "output_type": "execute_result",
          "data": {
            "text/plain": [
              "'licat-----'"
            ],
            "application/vnd.google.colaboratory.intrinsic+json": {
              "type": "string"
            }
          },
          "metadata": {},
          "execution_count": 14
        }
      ]
    },
    {
      "cell_type": "code",
      "source": [
        "s = 'licat'\n",
        "s.center(11, '-') #문자열을 지정한 길이로 맞추고, 양쪽을 '-'로 채우는 method"
      ],
      "metadata": {
        "id": "ivQdVrBoXKcb"
      },
      "execution_count": null,
      "outputs": []
    },
    {
      "cell_type": "code",
      "source": [
        "s = 'licat'\n",
        "s.center(3, '-')"
      ],
      "metadata": {
        "colab": {
          "base_uri": "https://localhost:8080/",
          "height": 35
        },
        "id": "2zl7SDhHXeor",
        "outputId": "525affde-1873-45d8-a9b9-86d1d166bf47"
      },
      "execution_count": null,
      "outputs": [
        {
          "output_type": "execute_result",
          "data": {
            "text/plain": [
              "'licat'"
            ],
            "application/vnd.google.colaboratory.intrinsic+json": {
              "type": "string"
            }
          },
          "metadata": {},
          "execution_count": 15
        }
      ]
    },
    {
      "cell_type": "markdown",
      "source": [
        "## 3.9 zfill( )\n",
        "\n",
        "문자열의 `zfill()` 메서드는 주어진 길이만큼 문자열의 앞쪽을 '0'으로 채워서 반환합니다. 이 메서드는 숫자를 포함한 문자열에서 자릿수를 일정하게 유지할 때 유용하게 사용됩니다.\n",
        "\n",
        "문자열 객체에 zfill(width) 형태로 사용할 수 있습니다. 여기서 width는 채워진 문자열의 전체 길이를 의미합니다.\n",
        "\n",
        "\n"
      ],
      "metadata": {
        "id": "QBRSvvcjX3TU"
      }
    },
    {
      "cell_type": "code",
      "source": [
        "x = \"42\"\n",
        "result = x.zfill(5)\n",
        "print(result)  # 00042"
      ],
      "metadata": {
        "colab": {
          "base_uri": "https://localhost:8080/"
        },
        "id": "i_pkMDzqX8Fa",
        "outputId": "0f74ee8e-98a5-4e32-d592-284e600b0e70"
      },
      "execution_count": null,
      "outputs": [
        {
          "output_type": "stream",
          "name": "stdout",
          "text": [
            "00042\n"
          ]
        }
      ]
    },
    {
      "cell_type": "code",
      "source": [
        "y = \"-42\"\n",
        "result = y.zfill(5)\n",
        "print(result)  # -0042\n",
        "print(type(y))"
      ],
      "metadata": {
        "colab": {
          "base_uri": "https://localhost:8080/"
        },
        "id": "SxE5A6VCZCmz",
        "outputId": "567e8cf6-3589-4a03-c3d9-44181a7e1c2c"
      },
      "execution_count": null,
      "outputs": [
        {
          "output_type": "stream",
          "name": "stdout",
          "text": [
            "-0042\n",
            "<class 'str'>\n"
          ]
        }
      ]
    },
    {
      "cell_type": "code",
      "source": [
        "z = \"abc\"\n",
        "result = z.zfill(5)\n",
        "print(result)  # 00abc"
      ],
      "metadata": {
        "colab": {
          "base_uri": "https://localhost:8080/"
        },
        "id": "jlS5jBqGZE8y",
        "outputId": "2e45ab57-7f91-4900-dbb0-972008c07245"
      },
      "execution_count": null,
      "outputs": [
        {
          "output_type": "stream",
          "name": "stdout",
          "text": [
            "00abc\n"
          ]
        }
      ]
    },
    {
      "cell_type": "markdown",
      "source": [
        "zfill 응용하기\n",
        "\n",
        "`zfill()` 메서드는 특히 파일명이나 로그의 일련번호를 생성할 때 유용하게 사용됩니다. 예를 들어, 이미지 파일을 저장할 때 일련번호를 부여하되, 모든 파일명의 길이를 동일하게 유지하려 할 때 `zfill()` 메서드를 사용하여 이를 구현할 수 있습니다.\n"
      ],
      "metadata": {
        "id": "zJcU6QpeZ5R7"
      }
    },
    {
      "cell_type": "code",
      "source": [
        "filename = '1'.zfill(4) + \".jpg\"\n",
        "print(filename)"
      ],
      "metadata": {
        "colab": {
          "base_uri": "https://localhost:8080/"
        },
        "id": "GLWdoZcQZSNB",
        "outputId": "50dba19b-b079-4810-a197-95a93c3b61cf"
      },
      "execution_count": null,
      "outputs": [
        {
          "output_type": "stream",
          "name": "stdout",
          "text": [
            "0001.jpg\n"
          ]
        }
      ]
    },
    {
      "cell_type": "code",
      "source": [
        "년 = '23'\n",
        "월 = '9'\n",
        "일 = '8'\n",
        "오늘날짜 = 년 + 월 + 일\n",
        "print(오늘날짜)\n",
        "오늘날짜 = 년 + 월.zfill(2) + 일.zfill(2)\n",
        "print(오늘날짜)"
      ],
      "metadata": {
        "colab": {
          "base_uri": "https://localhost:8080/"
        },
        "id": "85ZB0UUjZxFh",
        "outputId": "82b2557b-53af-41fe-8ecd-eccb8806722c"
      },
      "execution_count": null,
      "outputs": [
        {
          "output_type": "stream",
          "name": "stdout",
          "text": [
            "2398\n",
            "230908\n"
          ]
        }
      ]
    },
    {
      "cell_type": "markdown",
      "source": [
        "## 3.10 translate( )\n",
        "\n",
        "`translate()` 메서드는 문자열 내의 특정 문자들을 다른 문자로 치환하거나 제거할 때 사용합니다. replace와 다르게 한 번에 많은 문자열들을 원하는 문자로 치환할 수 있습니다."
      ],
      "metadata": {
        "id": "zBDoMxGtaDYa"
      }
    },
    {
      "cell_type": "code",
      "source": [
        "#변환 테이블 생성\n",
        "\n",
        "table = str.maketrans(\"abc\", \"123\")\n",
        "\n",
        "# translate()메서드로 문자열 치환하기\n",
        "text = \"abcde\"\n",
        "result = text.translate(table)\n",
        "print(result)\n",
        "\n",
        "# 'd'와 'e' 문자 제거하기\n",
        "table = str.maketrans('', '', 'de') # 세 번째 인수로 제거할 문자를 지정합니다.\n",
        "text = \"abcde\"\n",
        "result = text.translate(table)\n",
        "print(result)  # abc\n",
        "\n",
        "# 이스케이프 문자를 제거하는 용도로도 사용할 수 있습니다.\n",
        "table = str.maketrans('\\n\\t', '  ') # 똑같은 길이를 가지고 있어야 함 - 질문드림\n",
        "'weniv \\n\\n\\n CEO \\t\\t\\t licat'.translate(table)"
      ],
      "metadata": {
        "id": "PFVct-yHaQ3h"
      },
      "execution_count": null,
      "outputs": []
    },
    {
      "cell_type": "markdown",
      "source": [
        "# 5. 이스케이프 문자\n",
        "\n",
        "이스케이프 문자는 문자열 내에서 특별한 의미를 가지는 문자들을 나타내기 위해 사용되는 특별한 문자 조합입니다. 예를 들어 ‘hello world’라는 문자열 안에 작은 따옴표를 넣고 싶다면 이스케이프 문자를 사용하여 해당 문자의 원래 의미를 \"탈출\"시켜야 합니다. 주로 백슬래시(`\\`)로 시작하며, 백슬래시 뒤에 오는 문자와 함께 특정한 문자나 명령을 나타냅니다.\n",
        "\n",
        "## 5.1 **주요 이스케이프 문자들**\n",
        "\n",
        "- `\\n`: 새로운 줄(줄바꿈)을 나타냅니다.\n",
        "- `\\t`: 탭 문자를 나타냅니다.\n",
        "- `\\r`: 커서를 현재 줄의 처음으로 이동합니다.\n",
        "- `\\\"`: 큰따옴표를 나타냅니다.\n",
        "- `\\'`: 작은따옴표를 나타냅니다.\n",
        "- `\\\\`: 백슬래시를 나타냅니다."
      ],
      "metadata": {
        "id": "b76_86qzdN6h"
      }
    },
    {
      "cell_type": "code",
      "source": [
        "print(\"Hello\\nWorld!\") # Hello와 World! 사이에 줄바꿈이 일어납니다.\n",
        "print(\"Hello\\tWorld!\") # Hello와 World! 사이에 탭 간격이 생깁니다.\n",
        "print(\"She said, \\\"Hello World!\\\"\") # 큰따옴표 내부에 문자열을 출력합니다.\n",
        "print('She said, \\'Hello World!\\'') # 작은따옴표 내부에 문자열을 출력합니다.\n",
        "print(\"Backslash: \\\\\") # 백슬래시를 출력합니다."
      ],
      "metadata": {
        "colab": {
          "base_uri": "https://localhost:8080/"
        },
        "id": "Iee4peA8fGxp",
        "outputId": "3bb97e3e-acee-4257-d884-bf248c484c10"
      },
      "execution_count": null,
      "outputs": [
        {
          "output_type": "stream",
          "name": "stdout",
          "text": [
            "Hello\n",
            "World!\n",
            "Hello\tWorld!\n",
            "She said, \"Hello World!\"\n",
            "She said, 'Hello World!'\n",
            "Backslash: \\\n"
          ]
        }
      ]
    },
    {
      "cell_type": "markdown",
      "source": [
        "\n",
        "\n",
        "---\n",
        "\n",
        "\n",
        "\n",
        "---\n",
        "\n",
        "\n",
        "\n",
        "---\n",
        "\n",
        "None 자료형은 가질 수 있는 값이 None이 유일합니다.\n",
        "아래와 같이 None 타입에 무언가를 더하거나 빼거나, 곱하거나 나누는 연산은 애러를 일으킵니다. None과 None을 더하면 None이 나올 것 같지만 이러한 연산 자체를 허락하지 않습니다. 또한 True나 False처럼 값에 다른 값을 할당하는 것도 허락하지 않습니다.\n",
        "\n",
        "\n"
      ],
      "metadata": {
        "id": "_7Yf-axNgnpO"
      }
    },
    {
      "cell_type": "code",
      "source": [
        "양말상자 = None\n",
        "None + 5\n",
        "None + None\n",
        "None = 10"
      ],
      "metadata": {
        "id": "tlmdp8K4htXO"
      },
      "execution_count": null,
      "outputs": []
    },
    {
      "cell_type": "code",
      "source": [
        "# None의 값은 항상 유일한 주소값을 가리킵니다. 여기서 id는 해당 변수가 가리키고 있는 주소를 나타냅니다.\n",
        "\n",
        "x = None\n",
        "y = None\n",
        "print(id(x), id(y))"
      ],
      "metadata": {
        "colab": {
          "base_uri": "https://localhost:8080/"
        },
        "id": "sFtfiaYriJy-",
        "outputId": "84b20bf1-2296-47cf-908d-d2a9f4d49fb2"
      },
      "execution_count": null,
      "outputs": [
        {
          "output_type": "stream",
          "name": "stdout",
          "text": [
            "100908309705696 100908309705696\n"
          ]
        }
      ]
    },
    {
      "cell_type": "code",
      "source": [
        "x = None\n",
        "\n",
        "print(x == None)    # True, 하지만 이 방식은 권장되지 않습니다.\n",
        "print(x is None)    # True, 이 방식을 사용하여 None을 확인하는 것이 좋습니다."
      ],
      "metadata": {
        "id": "7fX-o3c6h4jG"
      },
      "execution_count": null,
      "outputs": []
    }
  ]
}