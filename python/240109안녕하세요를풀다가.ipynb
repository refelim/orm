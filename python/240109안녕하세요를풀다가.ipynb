{
  "nbformat": 4,
  "nbformat_minor": 0,
  "metadata": {
    "colab": {
      "provenance": []
    },
    "kernelspec": {
      "name": "python3",
      "display_name": "Python 3"
    },
    "language_info": {
      "name": "python"
    }
  },
  "cells": [
    {
      "cell_type": "markdown",
      "source": [
        "# 안녕하세요를 풀다가\n",
        "\n",
        "오늘 멘토님이 \"안녕하세요!\"을 5번 출력하는 프로그램을 만들라는 문제를 주셨다\n",
        "\n",
        "그래서 답이 **안녕하세요!안녕하세요!안녕하세요!안녕하세요!안녕하세요!** 이라고 생각을 해서\n",
        "\n",
        "문장을 입력하는 input를 넣고, print(sentece)하면 되지 않을까? 해서"
      ],
      "metadata": {
        "id": "7Ox14Q4cod7u"
      }
    },
    {
      "cell_type": "code",
      "execution_count": 2,
      "metadata": {
        "colab": {
          "base_uri": "https://localhost:8080/"
        },
        "id": "XYpBGNVTMjhL",
        "outputId": "b454b7be-d82e-4ab9-b7dd-9e43bd6a2e5e"
      },
      "outputs": [
        {
          "output_type": "stream",
          "name": "stdout",
          "text": [
            "안녕하세요!\n",
            "안녕하세요!\n",
            "안녕하세요!\n",
            "안녕하세요!\n",
            "안녕하세요!\n"
          ]
        }
      ],
      "source": [
        "# 처음에는 바로 이게 정답이라고 생각했다.\n",
        "sentence = input(\"문장을 입력하세요\")\n",
        "print(sentence * 5)\n"
      ]
    },
    {
      "cell_type": "markdown",
      "source": [
        "**그런데 오늘 for 문을 배웠으니  for문을 이용해서 풀어보기로 했다.**"
      ],
      "metadata": {
        "id": "SmG2hGQ1oojb"
      }
    },
    {
      "cell_type": "code",
      "source": [
        "# case 1 : 그렇게해서 한 번 해보니\n",
        "\n",
        "for i in range(5) :\n",
        "\tsentence = input(\"문장을 입력하세요\")\n",
        "\tprint(sentence * 5)\n",
        "\n",
        "\n"
      ],
      "metadata": {
        "colab": {
          "base_uri": "https://localhost:8080/"
        },
        "id": "fo6bYhYzMuwb",
        "outputId": "804b687f-5674-437b-be6b-3ab48488232c"
      },
      "execution_count": 4,
      "outputs": [
        {
          "output_type": "stream",
          "name": "stdout",
          "text": [
            "안녕하세요!\n",
            "안녕하세요!\n",
            "안녕하세요!\n",
            "안녕하세요!\n",
            "안녕하세요!\n"
          ]
        }
      ]
    },
    {
      "cell_type": "markdown",
      "source": [
        "당황했다\n",
        "sentence에 입력되는 값을 5번 반복하고 문장입력도 5번 반복한다."
      ],
      "metadata": {
        "id": "O-Vu-flEoy8P"
      }
    },
    {
      "cell_type": "code",
      "source": [
        "# case 2 : 그래서 이렇게 바꿔보았다.\n",
        "\n",
        "sentence = input(\"문장을 입력하세요\")\n",
        "for i in range(5) :\n",
        "\tprint(sentence * 5)"
      ],
      "metadata": {
        "colab": {
          "base_uri": "https://localhost:8080/"
        },
        "id": "xKkdu0VCNExU",
        "outputId": "d8bf8509-a3ac-40a2-b56c-62a03f283c63"
      },
      "execution_count": 5,
      "outputs": [
        {
          "output_type": "stream",
          "name": "stdout",
          "text": [
            "문장을 입력하세요안녕하세요!\n",
            "안녕하세요!안녕하세요!안녕하세요!안녕하세요!안녕하세요!\n",
            "문장을 입력하세요안녕하세요!\n",
            "안녕하세요!안녕하세요!안녕하세요!안녕하세요!안녕하세요!\n",
            "문장을 입력하세요안녕하세요!\n",
            "안녕하세요!안녕하세요!안녕하세요!안녕하세요!안녕하세요!\n",
            "문장을 입력하세요안녕하세요!\n",
            "안녕하세요!안녕하세요!안녕하세요!안녕하세요!안녕하세요!\n",
            "문장을 입력하세요안녕하세요!\n",
            "안녕하세요!안녕하세요!안녕하세요!안녕하세요!안녕하세요!\n"
          ]
        }
      ]
    },
    {
      "cell_type": "markdown",
      "source": [
        "5x5 매트릭스 행렬이 나왔다. 당황했다.\n",
        "안녕하세요!를 *5한다음 그 것을 5번 반복하는 코드였다."
      ],
      "metadata": {
        "id": "gC0VvNrLo5IS"
      }
    },
    {
      "cell_type": "code",
      "source": [
        "# case 3 : 그래서 한번 i가 답인가 싶어서\n",
        "\n",
        "i = input(\"문장을 입력하세요\")\n",
        "for i in range(5) :\n",
        "\tprint(i * 5)"
      ],
      "metadata": {
        "colab": {
          "base_uri": "https://localhost:8080/"
        },
        "id": "VDWdyvhYN2t8",
        "outputId": "bda315e2-e857-4975-deb0-9fc3bb60ad4e"
      },
      "execution_count": 20,
      "outputs": [
        {
          "output_type": "stream",
          "name": "stdout",
          "text": [
            "문장을 입력하세요5\n",
            "0\n",
            "5\n",
            "10\n",
            "15\n",
            "20\n"
          ]
        }
      ]
    },
    {
      "cell_type": "markdown",
      "source": [
        "숫자가 나와서 당황했다.\n",
        "0x5\n",
        "1x5\n",
        "2x5\n",
        "3x5\n",
        "4x5\n",
        "i = 에 문장을 입력을 하여도, 문장이 뭐든간에 i 값은 range에 순회하는 값을 곱한다."
      ],
      "metadata": {
        "id": "yKg44fktpGFw"
      }
    },
    {
      "cell_type": "code",
      "source": [
        "# case 4 : 더이상 방법이 없어서 못 참고 먼저 푼 동료 분이 하는 것을 한번 훑어보니\n",
        "\n",
        "for i in range(5) :\n",
        "\tprint('안녕하세요!')\n"
      ],
      "metadata": {
        "colab": {
          "base_uri": "https://localhost:8080/"
        },
        "id": "VDcGTiKuO6jb",
        "outputId": "d46929c1-e086-42b1-9413-af41c18f0c8a"
      },
      "execution_count": 12,
      "outputs": [
        {
          "output_type": "stream",
          "name": "stdout",
          "text": [
            "문장을 입력하세요안녕하세요!\n",
            "0\n",
            "5\n",
            "10\n",
            "15\n",
            "20\n"
          ]
        }
      ]
    },
    {
      "cell_type": "markdown",
      "source": [
        "당황했다.\n",
        "너무 쉬운 코드라서, 아무래도 출제자의 의도는 이게 아닐까? 이게 답인듯 하다."
      ],
      "metadata": {
        "id": "gkIuK3J4pMEd"
      }
    },
    {
      "cell_type": "code",
      "source": [
        "# case 5 : 내가 원하는 코드를 for문으로 돌리면 어떻게 할까. 개행을 쓰면 된다.\n",
        "\n",
        "sentence = input(\"문장을 입력하세요\")\n",
        "for i in range(5) :\n",
        "\tprint(sentence, end='')\n"
      ],
      "metadata": {
        "colab": {
          "base_uri": "https://localhost:8080/"
        },
        "id": "fEPIEXWVPaUx",
        "outputId": "7eb5023c-0dbc-45f7-c363-3291de0c6849"
      },
      "execution_count": 13,
      "outputs": [
        {
          "output_type": "stream",
          "name": "stdout",
          "text": [
            "문장을 입력하세요안녕\n",
            "안녕안녕안녕안녕안녕\n"
          ]
        }
      ]
    },
    {
      "cell_type": "markdown",
      "source": [
        "다섯번의 장고끝에 for문으로 내가 원하는 답을 찾아냈다."
      ],
      "metadata": {
        "id": "M9aeUVSupQqx"
      }
    },
    {
      "cell_type": "markdown",
      "source": [
        "배운점 : for문을 쓰면서 각 위치에 코드 따라 출력 값이 휙휙 바뀌는 것을  확인했다.\n",
        "\n",
        "# 결론 : 한국말 너무 어려워요~"
      ],
      "metadata": {
        "id": "Z1CK37meadHn"
      }
    },
    {
      "cell_type": "code",
      "source": [],
      "metadata": {
        "id": "PWwbaleCpXH7"
      },
      "execution_count": null,
      "outputs": []
    }
  ]
}