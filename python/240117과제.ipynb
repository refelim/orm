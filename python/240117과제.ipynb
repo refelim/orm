{
  "nbformat": 4,
  "nbformat_minor": 0,
  "metadata": {
    "colab": {
      "provenance": []
    },
    "kernelspec": {
      "name": "python3",
      "display_name": "Python 3"
    },
    "language_info": {
      "name": "python"
    }
  },
  "cells": [
    {
      "cell_type": "markdown",
      "source": [
        "데코레이터 문제: 1부터 100까지 더하는 함수를 만들고 이 함수에 데코레이터를 실행시켜 몇 초가 걸리는지 확인해주세요. 아래 힌트 코드 입니다."
      ],
      "metadata": {
        "id": "hLb1KwWJWT3a"
      }
    },
    {
      "cell_type": "code",
      "execution_count": 1,
      "metadata": {
        "colab": {
          "base_uri": "https://localhost:8080/"
        },
        "id": "IcN0RPNUTsj3",
        "outputId": "6748326e-8f28-46b9-a8d5-ed34842693f0"
      },
      "outputs": [
        {
          "output_type": "stream",
          "name": "stdout",
          "text": [
            "함수가 6.9141387939453125e-06 초가 걸렸습니다.\n",
            "5050\n"
          ]
        }
      ],
      "source": [
        "import time\n",
        "\n",
        "def time_decorator(func):\n",
        "    def wrapper():\n",
        "        start_time = time.time()\n",
        "        result = func()\n",
        "        end_time = time.time()\n",
        "        print(f\"함수가 {end_time - start_time} 초가 걸렸습니다.\")\n",
        "        return result\n",
        "    return wrapper\n",
        "\n",
        "@time_decorator\n",
        "def one_to_hundred():\n",
        "    return sum([i for i in range(1, 101)])\n",
        "print(one_to_hundred())"
      ]
    },
    {
      "cell_type": "markdown",
      "source": [
        "제너레이터 문제: 0부터 시작하여, 매 호출 시마다 2씩 증가하는 값을 반환하는 제너레이터 함수를 작성하세요. 100이 되면 멈춰야 합니다."
      ],
      "metadata": {
        "id": "fFwnJODaWWSp"
      }
    },
    {
      "cell_type": "code",
      "source": [
        "def gen():\n",
        "    for x in range(0, 101, 2):\n",
        "        yield x\n",
        "\n",
        "for i in gen():\n",
        "    print(i)"
      ],
      "metadata": {
        "id": "gfOQtVbwU29L"
      },
      "execution_count": null,
      "outputs": []
    },
    {
      "cell_type": "markdown",
      "source": [
        "예외처리 문제: 사용자로부터 두 개의 숫자를 입력받아 나눗셈을 수행하는 함수를 작성하세요. 이 때 0으로 나눌 때에는 예외처리를 해주세요."
      ],
      "metadata": {
        "id": "_RF9_a0IWPma"
      }
    },
    {
      "cell_type": "code",
      "source": [
        "def divide(x, y):\n",
        "    try : # 예외가 발생할 가능성이 있는 코드\n",
        "        return x / y\n",
        "    except ZeroDivisionError : # 예외 처리 코드\n",
        "        print('0나누기 감지')\n",
        "    finally : # 예외 발생 여부와 상관없이 항상 실행되는 코드\n",
        "        print('아무말')\n",
        "\n",
        "divide(7,0)\n",
        "print(divide(3,0))\n"
      ],
      "metadata": {
        "colab": {
          "base_uri": "https://localhost:8080/"
        },
        "id": "J2a20kqPU6VR",
        "outputId": "a914e343-580a-4678-9aa6-f814dc85c227"
      },
      "execution_count": 15,
      "outputs": [
        {
          "output_type": "stream",
          "name": "stdout",
          "text": [
            "0나누기 감지\n",
            "아무말\n",
            "0나누기 감지\n",
            "아무말\n",
            "None\n"
          ]
        }
      ]
    },
    {
      "cell_type": "code",
      "source": [],
      "metadata": {
        "id": "_i3Hn5ciU77q"
      },
      "execution_count": null,
      "outputs": []
    }
  ]
}