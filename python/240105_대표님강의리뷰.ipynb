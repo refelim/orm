{
  "nbformat": 4,
  "nbformat_minor": 0,
  "metadata": {
    "colab": {
      "provenance": []
    },
    "kernelspec": {
      "name": "python3",
      "display_name": "Python 3"
    },
    "language_info": {
      "name": "python"
    }
  },
  "cells": [
    {
      "cell_type": "code",
      "execution_count": null,
      "metadata": {
        "colab": {
          "base_uri": "https://localhost:8080/"
        },
        "id": "rJ0neH8fJVKS",
        "outputId": "a00d1db2-f2da-4bd0-dc27-55bfe710fc54"
      },
      "outputs": [
        {
          "output_type": "execute_result",
          "data": {
            "text/plain": [
              "0.30000000000000004"
            ]
          },
          "metadata": {},
          "execution_count": 1
        }
      ],
      "source": [
        "0.1 + 0.2 # 0.1이 2진수로 표현했을 때 무한소수입니다."
      ]
    },
    {
      "cell_type": "code",
      "source": [
        "# 회색 줄은 영문자 80자, 한글 32자\n",
        "# PEP\n",
        "print('hello worldhello worldhello worldhello worldhello worldhello worldhello worldhello world')\n",
        "\n",
        "# 해결책 1 : 역슬러시 넣는 방법(건고X)\n",
        "print('hello worldhello worldhello worldhello worldhello worldhello worldhello \\\n",
        "worldhello world')\n",
        "print('hello world')\n",
        "\n",
        "# 해결책 2 : \"\" \"\" 두개 쓰세요\n",
        "print('lllllllllllllllllllllllllllllllllllllllllllllllllllllllllllllllllllllllll'\n",
        "      'lllll')"
      ],
      "metadata": {
        "colab": {
          "base_uri": "https://localhost:8080/"
        },
        "id": "cSRMNGPNJjY0",
        "outputId": "36ed8aa3-7869-480f-d400-0ec0cdc0496f"
      },
      "execution_count": null,
      "outputs": [
        {
          "output_type": "stream",
          "name": "stdout",
          "text": [
            "hello worldhello worldhello worldhello worldhello worldhello worldhello worldhello world\n",
            "hello worldhello worldhello worldhello worldhello worldhello worldhello worldhello world\n",
            "hello world\n",
            "llllllllllllllllllllllllllllllllllllllllllllllllllllllllllllllllllllllllllllll\n"
          ]
        }
      ]
    },
    {
      "cell_type": "code",
      "source": [
        "# 매서드 체이닝 2개 이하로 하세요\n",
        "# 질문 : 메서드 체인으로 길어지면 어떻게 하나요?\n",
        "# 답 : 메서드 체인으로 80자 이상이면 이미 가독성에 문제가 있는 것입니다.\n",
        "# 메서드 체이닝을 2개 이상을 하길 권하지 않습니다.()\n"
      ],
      "metadata": {
        "id": "vd6fSRwiLfJE"
      },
      "execution_count": null,
      "outputs": []
    },
    {
      "cell_type": "code",
      "source": [
        "# 질문 : 메서드 체인으로 길어지면 어떻게 하나요\n",
        "# 답 : 메서드 체인으로 80자 이상이면 XX 3개이상 XX\n",
        "# 메서드 :\n",
        "\n",
        "# 문제 있는 코드\n",
        "\n",
        "대문자 = 'hellw world'.upper()\n",
        "잘린대문자 = 대문자.split(' ')"
      ],
      "metadata": {
        "id": "6tbdT4-pMMLC"
      },
      "execution_count": null,
      "outputs": []
    },
    {
      "cell_type": "code",
      "source": [
        "dir('hello world') # 메서드, 매직메서드, (클래스 변수, 인스턴스 변수)\n",
        "# 문제 1 : find와 index 차이\n",
        "# 실무에서 사용하는 코드 :\n",
        "\n",
        "if 'hello world'.find('hi') # 실무에서 자주 나오는 오류! 이렇게 코딩하시면 안됩니다.\n",
        "    print('찾았다')\n",
        "\n",
        "# 문제2 isdigit의 정체\n",
        "'123'.isdigit()\n",
        "'12h3'.isdigit()\n",
        "\n",
        "# 문제 3 replace가 어디까지 변환하는지\n",
        "'hello world hello world'.replace('hello', 'hi') # 모두 다 변환이 됩니다. 몇 개만 변환이 되는 것이 아닙니다.\n",
        "# 알아두셔야 할 사항 : replace는 정규표현식이 안됩니다. replace를 정규표현식을 사용하고 싶으면 re.sub사용\n",
        "\n",
        "# 문제4 strip(공백제거)\n",
        "# 문제5 zfill(앞에 0으로 채워주는 것, 원하는 자릿수 만큼, 시간이나 연도)\n",
        "\n",
        "\n",
        "\n"
      ],
      "metadata": {
        "id": "KoJkFOrqMiBM"
      },
      "execution_count": null,
      "outputs": []
    },
    {
      "cell_type": "markdown",
      "source": [
        "# 리스트 정리\n",
        "\n",
        "* 변경이 가능한 자료형\n",
        "* 순서가 있는 자료형(시퀀스형 자료형, 인덱싱, 슬라이싱)"
      ],
      "metadata": {
        "id": "ucUdFt-QMnjb"
      }
    },
    {
      "cell_type": "code",
      "source": [
        "l = [10,20,30]\n",
        "\n",
        "# 라인 수가 길어졌을 때에는 이렇게 사용하시길 권합니다!\n",
        "# 권고 1번\n",
        "l = [10,\n",
        "     20,\n",
        "     30] # 됩니다\n",
        "\n",
        "# 권고 2번 (이렇게 실무에서 더 많이 사용합니다.)\n",
        "l = [\n",
        "    10,\n",
        "    20,\n",
        "    30,\n",
        "]\n",
        "# 문제가 있습니다! 통신을 할 때에는 JSON이라는 형식을 사용하게 되는데\n",
        "# JSON은 마지막에 콤마를 허용하지 않습니다!\n",
        "\n",
        "# why? 문제가 있는 2번이 더 많이 사용되는 이유?\n",
        "# 실무에서는 콤마를 버전업으로 인식하는 경우도 많고,\n",
        "# 콤마를 뺴먹는 경우가 많습니다.\n",
        "# 편의성 : CV하기 편합니다\n",
        "# 자동 변환 SW를 사용합니다.(python black formatter) = > 권고 !!\n",
        "\n"
      ],
      "metadata": {
        "id": "LYPjrv7sPZuA"
      },
      "execution_count": null,
      "outputs": []
    },
    {
      "cell_type": "code",
      "source": [
        "# 분위기 환기차 해드리는 것입니다.\n",
        "# 이해하지 못하셔도 괜찮습니다.\n",
        "# https://codingdojang.com/scode/393?answer_mode=hide\n",
        "str([1, 2, 3, 4, 5, 6, 7, 8, 9, 10, 11, 12, 13, 14, 15]).count('1')\n",
        "# str(1부터_10000까지_리스트).count('8')\n",
        "list(range(10))\n",
        "str(list(range(20)))\n",
        "str(list(range(20))).count('8')"
      ],
      "metadata": {
        "colab": {
          "base_uri": "https://localhost:8080/"
        },
        "id": "-PANlrxmqatf",
        "outputId": "9f5cab17-ce13-40d0-df95-a86e8e307af0"
      },
      "execution_count": null,
      "outputs": [
        {
          "output_type": "execute_result",
          "data": {
            "text/plain": [
              "2"
            ]
          },
          "metadata": {},
          "execution_count": 2
        }
      ]
    },
    {
      "cell_type": "code",
      "source": [
        "def f(x) :\n",
        "    return x != 1\n",
        "\n",
        "l = [1,1,1,1,2,2,3,3,3]\n",
        "list(filter(f,l ))\n",
        "\n"
      ],
      "metadata": {
        "colab": {
          "base_uri": "https://localhost:8080/"
        },
        "id": "f3tJTWaTqban",
        "outputId": "b0dfa43d-6510-4edd-ac37-980446243ec3"
      },
      "execution_count": null,
      "outputs": [
        {
          "output_type": "execute_result",
          "data": {
            "text/plain": [
              "[2, 2, 3, 3, 3]"
            ]
          },
          "metadata": {},
          "execution_count": 7
        }
      ]
    },
    {
      "cell_type": "code",
      "source": [
        "l = [1,2,3,4,9,6,5,7]\n",
        "l.reverse()\n",
        "l # 역정렬은 아닙니다. # 원본이 변합니다(입력된 원본은 대부분 보존하려 노력합니다.)\n",
        "# 역순은 단순히 순서를 뒤집는 것이고\n",
        "# 역 정렬은 정렬의 역순입니다."
      ],
      "metadata": {
        "colab": {
          "base_uri": "https://localhost:8080/"
        },
        "id": "bLHhyfo1q4rF",
        "outputId": "7ce90cdc-ccf7-46f9-9e5e-a9429743e710"
      },
      "execution_count": null,
      "outputs": [
        {
          "output_type": "execute_result",
          "data": {
            "text/plain": [
              "[7, 5, 6, 9, 4, 3, 2, 1]"
            ]
          },
          "metadata": {},
          "execution_count": 8
        }
      ]
    },
    {
      "cell_type": "code",
      "source": [
        "l = [1,2,3,4,9,6,5,7]\n",
        "reversed(l) # reversed는 원본을 변경하지 않습니다."
      ],
      "metadata": {
        "colab": {
          "base_uri": "https://localhost:8080/"
        },
        "id": "YMtW6JasrsEk",
        "outputId": "a4ef0f5f-1a4a-4826-ff93-18a3f7835a4a"
      },
      "execution_count": null,
      "outputs": [
        {
          "output_type": "execute_result",
          "data": {
            "text/plain": [
              "<list_reverseiterator at 0x7b383e2f36a0>"
            ]
          },
          "metadata": {},
          "execution_count": 9
        }
      ]
    },
    {
      "cell_type": "code",
      "source": [
        "'hello' and 1\n"
      ],
      "metadata": {
        "colab": {
          "base_uri": "https://localhost:8080/"
        },
        "id": "-4uJ1YQ-fpMn",
        "outputId": "d0933372-7aae-427e-9bad-c549c8b75b42"
      },
      "execution_count": null,
      "outputs": [
        {
          "output_type": "execute_result",
          "data": {
            "text/plain": [
              "1"
            ]
          },
          "metadata": {},
          "execution_count": 10
        }
      ]
    },
    {
      "cell_type": "code",
      "source": [
        "10 or 'hello world'"
      ],
      "metadata": {
        "colab": {
          "base_uri": "https://localhost:8080/"
        },
        "id": "B2ZzAefefwmf",
        "outputId": "ad74e2e0-96f2-4e62-c739-c739ce35dca4"
      },
      "execution_count": null,
      "outputs": [
        {
          "output_type": "execute_result",
          "data": {
            "text/plain": [
              "10"
            ]
          },
          "metadata": {},
          "execution_count": 14
        }
      ]
    },
    {
      "cell_type": "code",
      "source": [
        "d = {'one':1, \"two\":2}\n",
        "dd = {\"three\" : 3}\n",
        "d = d|dd\n",
        "d['three']"
      ],
      "metadata": {
        "colab": {
          "base_uri": "https://localhost:8080/"
        },
        "id": "etO0iE0lhGJ_",
        "outputId": "e66316ec-94db-47f9-bd01-80173ebfd736"
      },
      "execution_count": null,
      "outputs": [
        {
          "output_type": "execute_result",
          "data": {
            "text/plain": [
              "3"
            ]
          },
          "metadata": {},
          "execution_count": 41
        }
      ]
    },
    {
      "cell_type": "code",
      "source": [
        "l = [1, [10, 20], [3, [100, 200], 5]]\n",
        "l[2][1][0]"
      ],
      "metadata": {
        "colab": {
          "base_uri": "https://localhost:8080/"
        },
        "id": "Tohc4UUuf2gG",
        "outputId": "65d32aae-551a-478d-b3a1-db1a456c0007"
      },
      "execution_count": null,
      "outputs": [
        {
          "output_type": "execute_result",
          "data": {
            "text/plain": [
              "100"
            ]
          },
          "metadata": {},
          "execution_count": 12
        }
      ]
    },
    {
      "cell_type": "code",
      "source": [
        "l = [[1, 2], [3, 4]]\n",
        "sum(sum(l,[]))"
      ],
      "metadata": {
        "colab": {
          "base_uri": "https://localhost:8080/"
        },
        "id": "sgBA7Cswgjpv",
        "outputId": "cce39793-72c0-422e-cd4f-c2b636e490e9"
      },
      "execution_count": null,
      "outputs": [
        {
          "output_type": "execute_result",
          "data": {
            "text/plain": [
              "10"
            ]
          },
          "metadata": {},
          "execution_count": 23
        }
      ]
    },
    {
      "cell_type": "code",
      "source": [
        "\n",
        "l = [1, 2, 3, 4, 5, 6, 7, 8, 9, 10]\n",
        "\n",
        "def even_number(x) :\n",
        "    return x % 2 == 0\n",
        "\n",
        "\n",
        "even = list(filter(even_number, l))\n",
        "print(sum(even))"
      ],
      "metadata": {
        "colab": {
          "base_uri": "https://localhost:8080/"
        },
        "id": "uW6fej_Agj-O",
        "outputId": "baf271ff-1200-4a76-cfcc-f552da044068"
      },
      "execution_count": null,
      "outputs": [
        {
          "output_type": "stream",
          "name": "stdout",
          "text": [
            "30\n"
          ]
        }
      ]
    },
    {
      "cell_type": "code",
      "source": [
        "'' and '1'"
      ],
      "metadata": {
        "colab": {
          "base_uri": "https://localhost:8080/",
          "height": 35
        },
        "id": "L-3oKPZHgkSA",
        "outputId": "fcacc1bb-99e2-4185-f5fc-f06e3758e21e"
      },
      "execution_count": null,
      "outputs": [
        {
          "output_type": "execute_result",
          "data": {
            "text/plain": [
              "''"
            ],
            "application/vnd.google.colaboratory.intrinsic+json": {
              "type": "string"
            }
          },
          "metadata": {},
          "execution_count": 44
        }
      ]
    },
    {
      "cell_type": "code",
      "source": [],
      "metadata": {
        "id": "4IBQQeGEmliF"
      },
      "execution_count": null,
      "outputs": []
    }
  ]
}