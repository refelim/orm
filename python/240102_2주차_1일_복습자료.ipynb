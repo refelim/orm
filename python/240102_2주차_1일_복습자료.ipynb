{
  "cells": [
    {
      "cell_type": "code",
      "execution_count": 3,
      "metadata": {
        "colab": {
          "base_uri": "https://localhost:8080/"
        },
        "id": "YBBIAN8TQHFw",
        "outputId": "eb3a00fe-579a-4119-9e0c-6dad2e0badc5"
      },
      "outputs": [
        {
          "name": "stdout",
          "output_type": "stream",
          "text": [
            "2019/04/26 11:34:27\n"
          ]
        }
      ],
      "source": [
        "# 문제 9 : 다음 소스 코드를 완성하여 날짜와 시간을 출력하시오.\n",
        "\n",
        "year = '2019'\n",
        "month = '04'\n",
        "day = '26'\n",
        "hour = '11'\n",
        "minute = '34'\n",
        "second = '27'\n",
        "\n",
        "print(year, month, day, sep ='/', end = \" \")\n",
        "print(hour, minute, second, sep =':')"
      ]
    },
    {
      "cell_type": "code",
      "execution_count": 7,
      "metadata": {
        "colab": {
          "base_uri": "https://localhost:8080/"
        },
        "id": "ifn20rHoQNqy",
        "outputId": "a91cf49a-76ec-4a94-8aad-ebf5bae57309"
      },
      "outputs": [
        {
          "name": "stdout",
          "output_type": "stream",
          "text": [
            "김다정\n",
            "안녕하세요. 저는 김다정입니다\n"
          ]
        }
      ],
      "source": [
        "# 문제15 : 자기소개\n",
        "\n",
        "name = input()\n",
        "print(f'안녕하세요. 저는 {name}입니다')"
      ]
    },
    {
      "cell_type": "code",
      "execution_count": 8,
      "metadata": {
        "colab": {
          "base_uri": "https://localhost:8080/"
        },
        "id": "xVmATuJuQtaS",
        "outputId": "680fe591-631a-4e1d-853e-23328f86c134"
      },
      "outputs": [
        {
          "name": "stdout",
          "output_type": "stream",
          "text": [
            "5.0\n"
          ]
        }
      ],
      "source": [
        "# 문제 23 : print(10/2)의 출력 결과는 5이다. X\n",
        "print(10/2)"
      ]
    },
    {
      "cell_type": "code",
      "execution_count": 14,
      "metadata": {
        "colab": {
          "base_uri": "https://localhost:8080/",
          "height": 35
        },
        "id": "LzDzxC5KRAyI",
        "outputId": "626f9d87-9338-4218-e2fc-d8200a53ca85"
      },
      "outputs": [
        {
          "data": {
            "application/vnd.google.colaboratory.intrinsic+json": {
              "type": "string"
            },
            "text/plain": [
              "'euerty'"
            ]
          },
          "execution_count": 14,
          "metadata": {},
          "output_type": "execute_result"
        }
      ],
      "source": [
        "# 문제 39번 문장이 입력되면 모든 q를 e로, b를 n으로 바꾸는 프로그램을 작성해 주세요.\n",
        "\n",
        "# 입출력\n",
        "\n",
        "# 입력 : querty\n",
        "# 출력 : euerty\n",
        "\n",
        "# 입력 : hqllo my bamq is hyqwob\n",
        "# 출력 : hello my bame is hyewob\n",
        "\n",
        "def trans(seq) :\n",
        "    seq = seq.replace(\"q\",\"e\")\n",
        "    seq = seq.replace(\"b\",\"n\")\n",
        "    return seq\n",
        "\n",
        "trans(\"hqllo my bamq is hyqwob\")\n",
        "trans(\"querty\")\n",
        "\n",
        "\n",
        "```\n",
        "# 강사의 답\n",
        "data = input()\n",
        "\n",
        "print(data.replace('q', 'e').replace('b', 'n')).\n",
        "```"
      ]
    },
    {
      "cell_type": "code",
      "execution_count": null,
      "metadata": {
        "id": "xrUWoFG2SD6p"
      },
      "outputs": [],
      "source": []
    }
  ],
  "metadata": {
    "colab": {
      "provenance": []
    },
    "kernelspec": {
      "display_name": "Python 3",
      "name": "python3"
    },
    "language_info": {
      "name": "python"
    }
  },
  "nbformat": 4,
  "nbformat_minor": 0
}
