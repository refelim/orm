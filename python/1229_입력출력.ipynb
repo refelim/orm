{
  "nbformat": 4,
  "nbformat_minor": 0,
  "metadata": {
    "colab": {
      "provenance": []
    },
    "kernelspec": {
      "name": "python3",
      "display_name": "Python 3"
    },
    "language_info": {
      "name": "python"
    }
  },
  "cells": [
    {
      "cell_type": "markdown",
      "source": [
        "# 1. 입력함수 input"
      ],
      "metadata": {
        "id": "8eRnuqnoLxxL"
      }
    },
    {
      "cell_type": "markdown",
      "source": [
        "## 1.1 input 실습 - 1"
      ],
      "metadata": {
        "id": "fII21v_nMQxv"
      }
    },
    {
      "cell_type": "code",
      "execution_count": 1,
      "metadata": {
        "colab": {
          "base_uri": "https://localhost:8080/",
          "height": 54
        },
        "id": "8Uqf8h-CLuOC",
        "outputId": "e6873726-5b22-4161-eddb-5da1f58c8740"
      },
      "outputs": [
        {
          "name": "stdout",
          "output_type": "stream",
          "text": [
            "입력해주세요kaka\n"
          ]
        },
        {
          "output_type": "execute_result",
          "data": {
            "text/plain": [
              "'kaka'"
            ],
            "application/vnd.google.colaboratory.intrinsic+json": {
              "type": "string"
            }
          },
          "metadata": {},
          "execution_count": 1
        }
      ],
      "source": [
        "input('입력해주세요')"
      ]
    },
    {
      "cell_type": "code",
      "source": [
        "input('입력해주세요') # 이상한값이 나올수 있음"
      ],
      "metadata": {
        "colab": {
          "base_uri": "https://localhost:8080/",
          "height": 54
        },
        "id": "wFWlYlYgL3Wg",
        "outputId": "89eda799-a58b-48af-ee07-eadb149687fb"
      },
      "execution_count": 2,
      "outputs": [
        {
          "name": "stdout",
          "output_type": "stream",
          "text": [
            "입력해주세요333\n"
          ]
        },
        {
          "output_type": "execute_result",
          "data": {
            "text/plain": [
              "'333'"
            ],
            "application/vnd.google.colaboratory.intrinsic+json": {
              "type": "string"
            }
          },
          "metadata": {},
          "execution_count": 2
        }
      ]
    },
    {
      "cell_type": "code",
      "source": [
        "int(input('입력해주세요'))"
      ],
      "metadata": {
        "colab": {
          "base_uri": "https://localhost:8080/"
        },
        "id": "qkTPVyjvL_Cj",
        "outputId": "170bb4b4-4b58-4c91-9190-c60f5791b622"
      },
      "execution_count": 4,
      "outputs": [
        {
          "name": "stdout",
          "output_type": "stream",
          "text": [
            "입력해주세요3\n"
          ]
        },
        {
          "output_type": "execute_result",
          "data": {
            "text/plain": [
              "3"
            ]
          },
          "metadata": {},
          "execution_count": 4
        }
      ]
    },
    {
      "cell_type": "markdown",
      "source": [
        "## 1.2 input 실습 - 2\n",
        "\n",
        "input으로 받은 값을 변수에 할당"
      ],
      "metadata": {
        "id": "zpvvBFncMVAC"
      }
    },
    {
      "cell_type": "code",
      "source": [
        "name = input(\"이름을 입력해주세요\")"
      ],
      "metadata": {
        "colab": {
          "base_uri": "https://localhost:8080/"
        },
        "id": "a9NoszcEMD8Z",
        "outputId": "2a5ad243-9828-47f5-e94c-3c07f3bd563f"
      },
      "execution_count": 5,
      "outputs": [
        {
          "name": "stdout",
          "output_type": "stream",
          "text": [
            "이름을 입력해주세요임재철\n"
          ]
        }
      ]
    },
    {
      "cell_type": "code",
      "source": [
        "print(\"Hello, \" + name + \"!\")"
      ],
      "metadata": {
        "colab": {
          "base_uri": "https://localhost:8080/"
        },
        "id": "effq5UA-Mb_D",
        "outputId": "c2b88987-21d0-40ae-f7c8-871aa69feff7"
      },
      "execution_count": 6,
      "outputs": [
        {
          "output_type": "stream",
          "name": "stdout",
          "text": [
            "Hello, 임재철!\n"
          ]
        }
      ]
    },
    {
      "cell_type": "code",
      "source": [
        "# input을 활용한 덧셈 - 문자열인 경우\n",
        "a = input(\"첫번째 숫자를 입력해주세요\")\n",
        "b = input(\"두번째 숫자를 입력해주세요\")\n",
        "\n",
        "print(\"a + b = \", a+b, \" 입니다.\" )"
      ],
      "metadata": {
        "colab": {
          "base_uri": "https://localhost:8080/"
        },
        "id": "yuXIlotxMpQb",
        "outputId": "46df3aef-3d3b-43c8-8e8a-17ad0f206be7"
      },
      "execution_count": 7,
      "outputs": [
        {
          "output_type": "stream",
          "name": "stdout",
          "text": [
            "첫번째 숫자를 입력해주세요34\n",
            "두번째 숫자를 입력해주세요56\n",
            "a + b =  3456  입니다.\n"
          ]
        }
      ]
    },
    {
      "cell_type": "code",
      "source": [
        "# input을 활용한 덧셈 - 숫자열인 경우\n",
        "a = int(input(\"첫번째 숫자를 입력해주세요\"))\n",
        "b = int(input(\"두번째 숫자를 입력해주세요\"))\n",
        "\n",
        "print(\"a + b = \", a+b, \" 입니다.\" )"
      ],
      "metadata": {
        "colab": {
          "base_uri": "https://localhost:8080/"
        },
        "id": "TkrdA4wZNMNW",
        "outputId": "53f3483f-889b-4b28-c3ad-28e62f182229"
      },
      "execution_count": 8,
      "outputs": [
        {
          "output_type": "stream",
          "name": "stdout",
          "text": [
            "첫번째 숫자를 입력해주세요45\n",
            "두번째 숫자를 입력해주세요62\n",
            "a + b =  107  입니다.\n"
          ]
        }
      ]
    },
    {
      "cell_type": "markdown",
      "source": [
        "#2. 출력함수 Print"
      ],
      "metadata": {
        "id": "30UL2esSNpjF"
      }
    },
    {
      "cell_type": "code",
      "source": [
        "# 1. 여러줄 출력\n",
        "\n",
        "'출력합니다.'\n",
        "'출력안합니다'"
      ],
      "metadata": {
        "colab": {
          "base_uri": "https://localhost:8080/",
          "height": 35
        },
        "id": "rmDaS9mKNbIr",
        "outputId": "73aebdbb-fc69-479d-f026-a999fd2911d6"
      },
      "execution_count": 10,
      "outputs": [
        {
          "output_type": "execute_result",
          "data": {
            "text/plain": [
              "'출력안합니다'"
            ],
            "application/vnd.google.colaboratory.intrinsic+json": {
              "type": "string"
            }
          },
          "metadata": {},
          "execution_count": 10
        }
      ]
    },
    {
      "cell_type": "code",
      "source": [
        "# 2. 여러값 출력\n",
        "\n",
        "print(\"hello\", \"world\", \"!\")"
      ],
      "metadata": {
        "colab": {
          "base_uri": "https://localhost:8080/"
        },
        "id": "WHr7uOvzPjp_",
        "outputId": "5c8e4778-f86a-4dbc-efa6-8a5b804d350d"
      },
      "execution_count": 11,
      "outputs": [
        {
          "output_type": "stream",
          "name": "stdout",
          "text": [
            "hello world !\n"
          ]
        }
      ]
    },
    {
      "cell_type": "code",
      "source": [
        "# 3. sep 구분자\n",
        "\n",
        "print(\"hello\", \"world\", \"!\", sep = \"-\")"
      ],
      "metadata": {
        "colab": {
          "base_uri": "https://localhost:8080/"
        },
        "id": "7T476Uw3Pr2g",
        "outputId": "ff8e6f33-e22c-49e0-925a-f12f6afef8b6"
      },
      "execution_count": 12,
      "outputs": [
        {
          "output_type": "stream",
          "name": "stdout",
          "text": [
            "hello-world-!\n"
          ]
        }
      ]
    },
    {
      "cell_type": "code",
      "source": [
        "# 3. sep 구분자 / end 구분자\n",
        "\n",
        "print(\"hello\", \"world\", \"!\", sep = \"-\", end = \"!!!\")"
      ],
      "metadata": {
        "colab": {
          "base_uri": "https://localhost:8080/"
        },
        "id": "_vmmXZucP5xr",
        "outputId": "f16734bc-06ef-485a-dbfe-7292e26bc58d"
      },
      "execution_count": 13,
      "outputs": [
        {
          "output_type": "stream",
          "name": "stdout",
          "text": [
            "hello-world-!!!!"
          ]
        }
      ]
    },
    {
      "cell_type": "code",
      "source": [
        "# 4. f-string\n",
        "# 4.1 f-string에서 f가 없을때\n",
        "name = 'licat'\n",
        "age = 10\n",
        "print('제 이름은 {name}, 제 나이는 {age} 입니다.')"
      ],
      "metadata": {
        "colab": {
          "base_uri": "https://localhost:8080/"
        },
        "id": "NOx6rtzTQEVF",
        "outputId": "23297ce9-e4da-44f6-94b7-78f135a08e78"
      },
      "execution_count": 14,
      "outputs": [
        {
          "output_type": "stream",
          "name": "stdout",
          "text": [
            "제 이름은 {name}, 제 나이는 {age} 입니다.\n"
          ]
        }
      ]
    },
    {
      "cell_type": "code",
      "source": [
        "# 4.2 f-string에서 중괄호가 없을때\n",
        "name = 'licat'\n",
        "age = 10\n",
        "print(f'제 이름은 name, 제 나이는 age 입니다.')"
      ],
      "metadata": {
        "colab": {
          "base_uri": "https://localhost:8080/"
        },
        "id": "AW63U9ybRcE3",
        "outputId": "2230952b-0c65-492f-bc79-b14ae05251fd"
      },
      "execution_count": 15,
      "outputs": [
        {
          "output_type": "stream",
          "name": "stdout",
          "text": [
            "제 이름은 name, 제 나이는 age 입니다.\n"
          ]
        }
      ]
    },
    {
      "cell_type": "code",
      "source": [
        "# 4.3 f-string을 제대로 사용했을때\n",
        "name = 'licat'\n",
        "age = 10\n",
        "print(f'제 이름은 {name}, 제 나이는 {age} 입니다.')"
      ],
      "metadata": {
        "colab": {
          "base_uri": "https://localhost:8080/"
        },
        "id": "WyQKT1KlRpzw",
        "outputId": "48b43fe9-382e-4e26-cfc8-33c646e88bab"
      },
      "execution_count": 16,
      "outputs": [
        {
          "output_type": "stream",
          "name": "stdout",
          "text": [
            "제 이름은 licat, 제 나이는 10 입니다.\n"
          ]
        }
      ]
    },
    {
      "cell_type": "code",
      "source": [
        "# 4.4 예시\n",
        "name = input(\"이름을 입력해주세요\")\n",
        "age = int(input(\"나이를 입력해주세요\"))\n",
        "\n",
        "print(f'제 이름은 {name}, 제 나이는 {age} 입니다.')"
      ],
      "metadata": {
        "colab": {
          "base_uri": "https://localhost:8080/"
        },
        "id": "tI5mqrNbRxtO",
        "outputId": "03834cbf-86fa-422f-c164-a730e9e7be94"
      },
      "execution_count": 17,
      "outputs": [
        {
          "output_type": "stream",
          "name": "stdout",
          "text": [
            "이름을 입력해주세요343\n",
            "나이를 입력해주세요223\n",
            "제 이름은 343, 제 나이는 223 입니다.\n"
          ]
        }
      ]
    },
    {
      "cell_type": "code",
      "source": [
        "# 5. None\n",
        "\n",
        "a = None"
      ],
      "metadata": {
        "id": "_dHVtYoCST7K"
      },
      "execution_count": 18,
      "outputs": []
    },
    {
      "cell_type": "code",
      "source": [
        "a"
      ],
      "metadata": {
        "id": "Wb_qLOrCUCU0"
      },
      "execution_count": 19,
      "outputs": []
    },
    {
      "cell_type": "code",
      "source": [
        "print(a)"
      ],
      "metadata": {
        "colab": {
          "base_uri": "https://localhost:8080/"
        },
        "id": "GU-e3xqPUDqE",
        "outputId": "485ee10b-8ce3-4f05-9862-517a452640b4"
      },
      "execution_count": 20,
      "outputs": [
        {
          "output_type": "stream",
          "name": "stdout",
          "text": [
            "None\n"
          ]
        }
      ]
    },
    {
      "cell_type": "code",
      "source": [],
      "metadata": {
        "id": "MTVymhe0UFIT"
      },
      "execution_count": null,
      "outputs": []
    }
  ]
}